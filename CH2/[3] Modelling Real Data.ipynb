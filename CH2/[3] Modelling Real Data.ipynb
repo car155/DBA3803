{
 "cells": [
  {
   "cell_type": "markdown",
   "metadata": {},
   "source": [
    "# Modelling Real Data\n",
    "\n",
    "## Tools\n",
    "\n",
    "### 1. Scikit-Learn"
   ]
  },
  {
   "cell_type": "code",
   "execution_count": 9,
   "metadata": {},
   "outputs": [],
   "source": [
    "from sklearn.linear_model import LinearRegression"
   ]
  },
  {
   "cell_type": "code",
   "execution_count": 10,
   "metadata": {},
   "outputs": [],
   "source": [
    "import numpy as np\n",
    "import random\n",
    "\n",
    "x_raw = []\n",
    "y_raw = []\n",
    "for n in range(1, 40):\n",
    "    x_raw.append(n + random.random() * 2 - 1)\n",
    "    y_raw.append((1 + random.random() / 3) * n + random.random() * 10 / n)\n",
    "    \n",
    "x_raw = np.array(x_raw)\n",
    "y_raw = np.array(y_raw)"
   ]
  },
  {
   "cell_type": "code",
   "execution_count": 11,
   "metadata": {},
   "outputs": [
    {
     "name": "stdout",
     "output_type": "stream",
     "text": [
      "30 ,  35.981905453438486\n"
     ]
    }
   ],
   "source": [
    "model = LinearRegression(fit_intercept=True) # setting the formula to a0 + a1*x\n",
    "\n",
    "# shape the data\n",
    "x_data = x_raw.reshape(len(y_raw), 1)\n",
    "y_data = y_raw.reshape(len(y_raw), 1)\n",
    "\n",
    "model_fit = model.fit(x_data, y_data)\n",
    "\n",
    "# linear model parameters\n",
    "intercept = model.intercept_[0]\n",
    "slope = model.coef_[0,0]\n",
    "\n",
    "# predict\n",
    "future_x = [[30]]\n",
    "future_y = model.predict(future_x)\n",
    "\n",
    "print(future_x[0][0], \", \", future_y[0][0])"
   ]
  },
  {
   "cell_type": "markdown",
   "metadata": {},
   "source": [
    "### 2. Statsmodels"
   ]
  },
  {
   "cell_type": "code",
   "execution_count": 12,
   "metadata": {},
   "outputs": [],
   "source": [
    "from statsmodels.formula.api import ols"
   ]
  },
  {
   "cell_type": "code",
   "execution_count": 13,
   "metadata": {},
   "outputs": [],
   "source": [
    "import numpy as np\n",
    "import pandas as pd\n",
    "import random\n",
    "\n",
    "x_raw = []\n",
    "y_raw = []\n",
    "for n in range(1, 40):\n",
    "    x_raw.append(n + random.random() * 2 - 1)\n",
    "    y_raw.append((1 + random.random() / 3) * n + random.random() * 10 / n)\n",
    "    \n",
    "x_raw = np.array(x_raw)\n",
    "y_raw = np.array(y_raw)"
   ]
  },
  {
   "cell_type": "code",
   "execution_count": 14,
   "metadata": {},
   "outputs": [
    {
     "name": "stdout",
     "output_type": "stream",
     "text": [
      "Intercept:  0.43948349047010604\n",
      "Slope:  1.1730390573479175\n",
      "Uncertainty of intercept:  0.784846424929159\n",
      "Uncertainty of slope:  0.03410279619488343\n"
     ]
    }
   ],
   "source": [
    "df = pd.DataFrame(dict(times=x_raw, distances=y_raw))\n",
    "\n",
    "# fit model\n",
    "model_fit = ols(formula=\"distances ~ times\", data=df).fit()\n",
    "\n",
    "# extract a0 and a1\n",
    "a0 = model_fit.params['Intercept']\n",
    "a1 = model_fit.params['times']\n",
    "\n",
    "# uncertainty\n",
    "e0 = model_fit.bse['Intercept']\n",
    "e1 = model_fit.bse['times']\n",
    "\n",
    "print(\"Intercept: \", a0)\n",
    "print(\"Slope: \", a1)\n",
    "print(\"Uncertainty of intercept: \", e0)\n",
    "print(\"Uncertainty of slope: \", e1)"
   ]
  },
  {
   "cell_type": "markdown",
   "metadata": {},
   "source": [
    " "
   ]
  },
  {
   "cell_type": "markdown",
   "metadata": {},
   "source": [
    "## Limits of Prediction\n",
    "\n",
    "### Domain of validity\n",
    "\n",
    "When the step size is too large, the actual pattern of the data might be lost"
   ]
  },
  {
   "cell_type": "code",
   "execution_count": 15,
   "metadata": {},
   "outputs": [
    {
     "data": {
      "image/png": "[encoded data removed]",
      "text/plain": [
       "<Figure size 432x288 with 1 Axes>"
      ]
     },
     "metadata": {
      "needs_background": "light"
     },
     "output_type": "display_data"
    }
   ],
   "source": [
    "import math\n",
    "import matplotlib.pyplot as plt\n",
    "import numpy as np\n",
    "import pandas as pd\n",
    "import random\n",
    "\n",
    "x_raw = []\n",
    "y_raw = []\n",
    "for n in range(1, 50):\n",
    "    x_raw.append(n)\n",
    "    y_raw.append(2*n + 10*math.sin(n/2) + 10*random.random())\n",
    "    \n",
    "x_raw = np.array(x_raw)\n",
    "y_raw = np.array(y_raw)\n",
    "\n",
    "plt.plot(x_raw, y_raw, linestyle=\" \", marker=\"o\", color=\"black\")\n",
    "plt.show()"
   ]
  },
  {
   "cell_type": "markdown",
   "metadata": {},
   "source": [
    "In the model above, there is a clear wave function. But, if we do not take enough points, we get a plot like:"
   ]
  },
  {
   "cell_type": "code",
   "execution_count": 16,
   "metadata": {},
   "outputs": [
    {
     "data": {
      "image/png": "[encoded data removed]",
      "text/plain": [
       "<Figure size 432x288 with 1 Axes>"
      ]
     },
     "metadata": {
      "needs_background": "light"
     },
     "output_type": "display_data"
    }
   ],
   "source": [
    "x_stepped = x_raw[::3]\n",
    "y_stepped = y_raw[::3]\n",
    "\n",
    "plt.plot(x_stepped, y_stepped, linestyle=\" \", marker=\"o\", color=\"blue\")\n",
    "plt.show()"
   ]
  },
  {
   "cell_type": "markdown",
   "metadata": {},
   "source": [
    "In this case, the data looks linear with some noise. Fitting a linear model would be inaccurate (high RSS). However, if we zoom into a small range (e.g. x=32 to x=40), the high order terms in the taylor series tends to zero. We can then use a linear model."
   ]
  },
  {
   "cell_type": "code",
   "execution_count": 17,
   "metadata": {},
   "outputs": [
    {
     "data": {
      "image/png": "[encoded data removed]",
      "text/plain": [
       "<Figure size 432x288 with 1 Axes>"
      ]
     },
     "metadata": {
      "needs_background": "light"
     },
     "output_type": "display_data"
    }
   ],
   "source": [
    "x_zoom = x_raw[32:41]\n",
    "y_zoom = y_raw[32:41]\n",
    "\n",
    "plt.plot(x_zoom, y_zoom, linestyle=\" \", marker=\"o\", color=\"blue\")\n",
    "plt.show()"
   ]
  },
  {
   "cell_type": "markdown",
   "metadata": {},
   "source": [
    "Hence within the small range (aka domain of validity), the model holds. Sometimes, extrapolating slightly outside the range is fine but zooming out too far causes the model to break, introducing a higher uncertainty."
   ]
  },
  {
   "cell_type": "markdown",
   "metadata": {},
   "source": [
    " "
   ]
  },
  {
   "cell_type": "markdown",
   "metadata": {},
   "source": [
    "## Goodness of Fit\n",
    "\n",
    "RSS is used to build models by finding the optimum value of the model parameters. It is **not** used to evaluate the model as even the optimized model parameters does not make the model itself a good fit. \n",
    "  \n",
    "Instead, we use 2 measures: RMSE and R-squared."
   ]
  },
  {
   "cell_type": "code",
   "execution_count": 18,
   "metadata": {},
   "outputs": [],
   "source": [
    "import numpy as np\n",
    "import pandas as pd\n",
    "import random\n",
    "\n",
    "x_data = []\n",
    "y_data = []\n",
    "for n in range(1, 40):\n",
    "    x_data.append(n + random.random() * 2 - 1)\n",
    "    y_data.append((1 + random.random() / 3) * n + random.random() * 10 / n)\n",
    "    \n",
    "x_data = np.array(x_data)\n",
    "y_data = np.array(y_data)"
   ]
  },
  {
   "cell_type": "code",
   "execution_count": 19,
   "metadata": {},
   "outputs": [],
   "source": [
    "from statsmodels.formula.api import ols\n",
    "\n",
    "model_fit = ols(formula=\"y ~ x\", data=dict(x=x_data, y=y_data)).fit()\n",
    "a0 = model_fit.params[\"Intercept\"]\n",
    "a1 = model_fit.params[\"x\"]\n",
    "\n",
    "y_model = a0 + a1 * x_data"
   ]
  },
  {
   "cell_type": "markdown",
   "metadata": {},
   "source": [
    "### 1. Root Mean Squared Error (RMSE)\n",
    "\n",
    "**$RMSE = \\sqrt{\\frac{RSS}{n}}$**"
   ]
  },
  {
   "cell_type": "code",
   "execution_count": 20,
   "metadata": {},
   "outputs": [
    {
     "name": "stdout",
     "output_type": "stream",
     "text": [
      "2.4727961177217384\n"
     ]
    }
   ],
   "source": [
    "# find RSS\n",
    "residuals = y_model - y_data\n",
    "rss = np.sum(np.square(residuals)) # variance of residuals\n",
    "\n",
    "# find RMSE\n",
    "mean_squared_residuals = rss / len(residuals) # mse\n",
    "rmse = np.sqrt(mean_squared_residuals) # std of residuals\n",
    "print(rmse)"
   ]
  },
  {
   "cell_type": "markdown",
   "metadata": {},
   "source": [
    "**$RMSE = std(residuals)$**"
   ]
  },
  {
   "cell_type": "code",
   "execution_count": 21,
   "metadata": {},
   "outputs": [
    {
     "name": "stdout",
     "output_type": "stream",
     "text": [
      "2.4727961177217384\n"
     ]
    }
   ],
   "source": [
    "rmse = np.std(residuals)\n",
    "print(rmse)"
   ]
  },
  {
   "cell_type": "markdown",
   "metadata": {},
   "source": [
    "### 2. R-Squared\n",
    "\n",
    "How much of the variation of the data is due to the linear trend and how much is not.\n",
    "\n",
    "**$R-Squared = 1 - \\frac{RSS}{Var}$**  \n",
    "**$R-Squared = Correlation(y_{data}, y_{model})$**"
   ]
  },
  {
   "cell_type": "markdown",
   "metadata": {},
   "source": [
    "<img src=\"Images/r-squared low.png\" width=300 align='left'>\n",
    "<img src=\"Images/r-squared high.png\" width=300 align='left'>  "
   ]
  },
  {
   "cell_type": "markdown",
   "metadata": {},
   "source": [
    "When the variation due to linear trend is larger than the variation due to residuals, the model is better. For a small slope, any randomness can mask the actual relationship."
   ]
  },
  {
   "cell_type": "code",
   "execution_count": 22,
   "metadata": {},
   "outputs": [
    {
     "name": "stdout",
     "output_type": "stream",
     "text": [
      "0.981107153260718\n"
     ]
    }
   ],
   "source": [
    "# deviations\n",
    "deviations = np.mean(y_data) - y_data\n",
    "var = np.sum(np.square(deviations))\n",
    "\n",
    "# residuals\n",
    "residuals = y_model - y_data\n",
    "rss = np.sum(np.square(residuals))\n",
    "\n",
    "# r-squared\n",
    "r_squared = 1 - (rss/var)\n",
    "r_squared = np.corrcoef(y_data, y_model)[1,0]\n",
    "\n",
    "print(r_squared)"
   ]
  },
  {
   "cell_type": "markdown",
   "metadata": {},
   "source": [
    " "
   ]
  },
  {
   "cell_type": "markdown",
   "metadata": {},
   "source": [
    "## Standard Error\n",
    "\n",
    "Similar to how RMSE measures residual spread and hence quantifies prediction goodness, standard error is a measure of the uncertainty of the optimal parameter values."
   ]
  },
  {
   "cell_type": "code",
   "execution_count": 23,
   "metadata": {},
   "outputs": [],
   "source": [
    "import numpy as np\n",
    "import pandas as pd\n",
    "import random\n",
    "\n",
    "x_data = []\n",
    "y_data = []\n",
    "for n in range(1, 40):\n",
    "    x_data.append(n + random.random() * 2 - 1)\n",
    "    y_data.append((1 + random.random() / 3) * n + random.random() * 10 / n)\n",
    "    \n",
    "x_data = np.array(x_data)\n",
    "y_data = np.array(y_data)"
   ]
  },
  {
   "cell_type": "code",
   "execution_count": 24,
   "metadata": {},
   "outputs": [],
   "source": [
    "df = pd.DataFrame(dict(times=x_data, distances=y_data))\n",
    "\n",
    "model_fit = ols(formula=\"distances ~ times\", data=df).fit()\n",
    "\n",
    "a0 = model_fit.params['Intercept']\n",
    "a1 = model_fit.params['times']\n",
    "\n",
    "# Standard Errors\n",
    "e0 = model_fit.bse['Intercept']\n",
    "e1 = model_fit.bse['times']"
   ]
  }
 ],
 "metadata": {
  "kernelspec": {
   "display_name": "Python 3",
   "language": "python",
   "name": "python3"
  },
  "language_info": {
   "codemirror_mode": {
    "name": "ipython",
    "version": 3
   },
   "file_extension": ".py",
   "mimetype": "text/x-python",
   "name": "python",
   "nbconvert_exporter": "python",
   "pygments_lexer": "ipython3",
   "version": "3.8.5"
  }
 },
 "nbformat": 4,
 "nbformat_minor": 4
}
