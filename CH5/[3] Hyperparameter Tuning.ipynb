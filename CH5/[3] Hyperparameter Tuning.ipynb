{
 "cells": [
  {
   "cell_type": "markdown",
   "metadata": {},
   "source": [
    "# Hyperparameter Tuning\n",
    "\n",
    "## Parameters\n",
    "\n",
    "Parameters are values learnt through the training the algorithm\n",
    "\n",
    "### 3. Getting the parameters in Scikit Learn\n",
    "\n",
    "For Logistic Regressions:"
   ]
  },
  {
   "cell_type": "raw",
   "metadata": {},
   "source": [
    "# gets the original variable names\n",
    "variable_names = training_df.columns\n",
    "\n",
    "# gets the value of the parameters found during the model training\n",
    "model_coefficients = regression_model.coef_[0]\n",
    "\n",
    "# zips the 2 for easier viewing\n",
    "coefficient_df = pd.DataFrame({\"Variable\": variable_names, \"Coefficient\": model_coefficients})\n",
    "\n",
    "# orders the coefficients, views top 3\n",
    "coefficient_df.sort_values(by=\"Coefficient\", axis=0, ascending=False)[0:3]"
   ]
  },
  {
   "cell_type": "markdown",
   "metadata": {},
   "source": [
    "For Random Forests:"
   ]
  },
  {
   "cell_type": "raw",
   "metadata": {},
   "source": [
    "# Extracting the 7th tree in the random forest estimators\n",
    "tree = rf_clf.estimators_[6]\n",
    "\n",
    "# Get the top splitting parameter of the 7th tree\n",
    "split_column = tree.tree_.feature[0]\n",
    "split_column_name = X_train.columns[split_column]\n",
    "split_value = tree.tree_threshold[0]"
   ]
  },
  {
   "cell_type": "markdown",
   "metadata": {},
   "source": [
    " "
   ]
  },
  {
   "cell_type": "markdown",
   "metadata": {},
   "source": [
    "## Hyperparameters\n",
    "\n",
    "Hyperparameters are set before algorithm trains the model. \n",
    "\n",
    "### Getting the Hyperparameters"
   ]
  },
  {
   "cell_type": "raw",
   "metadata": {},
   "source": [
    "rf = RandomForestClassifier()\n",
    "print(rf) # shows all the hyperparameters \n",
    "# e.g. m_estimators is the number of estimator trees used\n",
    "\n",
    "logreg = LogisticRegression()\n",
    "print(logreg)"
   ]
  },
  {
   "cell_type": "markdown",
   "metadata": {},
   "source": [
    "Note that not all these hyperparameters improve the model performance. These are more related to the computational speed. \n",
    "\n",
    "The commonly important hyperparameters are:\n",
    "- n_estimators (reduce variance)\n",
    "- max_features (diversity of estimator trees)\n",
    "- max_depth & min_sample_leaf (control for overfitting)"
   ]
  },
  {
   "cell_type": "markdown",
   "metadata": {},
   "source": [
    "### Setting the Hyperparameters\n",
    "\n",
    "- Some hyperparameters have more optimal values that we need to find\n",
    "- Some hyperparameter values clash with those of other hyperparameters (e.g. solver and penalty in Logistic Regression)\n",
    "\n",
    "#### Using Automation"
   ]
  },
  {
   "cell_type": "raw",
   "metadata": {},
   "source": [
    "# finding the best value for n_neighbors in k-nearest neighbors model\n",
    "neighbors_list = [3, 5, 10, 20, 50, 75]\n",
    "accuracy_list = []\n",
    "\n",
    "for test_number in beighbors_list:\n",
    "    model=KNeighborsClassifier(n_neighbors=test_number)\n",
    "    predictions = model.fit(X_train, y_train).predict(X_test)\n",
    "    accuracy = accuracy_score(y_test, predictions)\n",
    "    accuracy_list.append(accuracy)\n",
    "    \n",
    "results_df = pd.DataFrame({\"neighbors\": neighbors_list, \"accuracy\": accuracy_list})"
   ]
  },
  {
   "cell_type": "markdown",
   "metadata": {},
   "source": [
    "We can view the results using a learning curve:"
   ]
  },
  {
   "cell_type": "raw",
   "metadata": {},
   "source": [
    "# finding the best value for n_neighbors in k-nearest neighbors model\n",
    "neighbors_list = list(range(5,500, 5)) # range does not allow for decimal steps, use np.linspace(start, end, num_points)\n",
    "accuracy_list = []\n",
    "\n",
    "for test_number in beighbors_list:\n",
    "    model=KNeighborsClassifier(n_neighbors=test_number)\n",
    "    predictions = model.fit(X_train, y_train).predict(X_test)\n",
    "    accuracy = accuracy_score(y_test, predictions)\n",
    "    accuracy_list.append(accuracy)\n",
    "    \n",
    "results_df = pd.DataFrame({\"neighbors\": neighbors_list, \"accuracy\": accuracy_list})\n",
    "\n",
    "plt.plot(results_df[\"neighbors\"], results_df[\"accuracy\"])\n",
    "plt.gca().set(x_label=\"n_neighbors\", ylabel=\"Accuracy\", title=\"Accuracu for different n_neighbors\")\n",
    "plt.show()"
   ]
  }
 ],
 "metadata": {
  "kernelspec": {
   "display_name": "Python 3",
   "language": "python",
   "name": "python3"
  },
  "language_info": {
   "codemirror_mode": {
    "name": "ipython",
    "version": 3
   },
   "file_extension": ".py",
   "mimetype": "text/x-python",
   "name": "python",
   "nbconvert_exporter": "python",
   "pygments_lexer": "ipython3",
   "version": "3.8.5"
  }
 },
 "nbformat": 4,
 "nbformat_minor": 4
}
