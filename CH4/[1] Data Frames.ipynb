{
 "cells": [
  {
   "cell_type": "markdown",
   "metadata": {},
   "source": [
    "# Data Frames\n",
    "\n",
    "## Creating a Data Frame\n",
    "\n",
    "### 1. Row by Row\n",
    "\n",
    "- use a list of dictionaries"
   ]
  },
  {
   "cell_type": "code",
   "execution_count": 3,
   "metadata": {},
   "outputs": [
    {
     "name": "stdout",
     "output_type": "stream",
     "text": [
      "                      title                    author    genre\n",
      "0  And then There were None           Agatha Christie  Mystery\n",
      "1         The Little Prince  Antoine de Saint-Exupéry  Fiction\n",
      "2              The Outsider              Stephen King   Horror\n",
      "                      title                    author    genre\n",
      "0  And then There were None           Agatha Christie  Mystery\n",
      "1         The Little Prince  Antoine de Saint-Exupéry  Fiction\n",
      "2              The Outsider              Stephen King   Horror\n"
     ]
    }
   ],
   "source": [
    "import pandas as pd\n",
    "\n",
    "list_of_dicts = [\n",
    "    {\"title\": \"And then There were None\",\n",
    "     \"author\": \"Agatha Christie\",\n",
    "     \"genre\": \"Mystery\"},\n",
    "    {\"title\": \"The Little Prince\",\n",
    "     \"author\": \"Antoine de Saint-Exupéry\",\n",
    "     \"genre\": \"Fiction\"},\n",
    "    {\"title\": \"The Outsider\",\n",
    "     \"author\": \"Stephen King\",\n",
    "     \"genre\": \"Horror\"}\n",
    "]\n",
    "\n",
    "dict_of_lists = {\n",
    "    \"title\":[\"And then There were None\", \"The Little Prince\", \"The Outsider\"],\n",
    "    \"author\":[\"Agatha Christie\", \"Antoine de Saint-Exupéry\", \"Stephen King\"],\n",
    "    \"genre\":[\"Mystery\", \"Fiction\", \"Horror\"]\n",
    "}\n",
    "\n",
    "books_row = pd.DataFrame(list_of_dicts)\n",
    "print(books_row.head())\n",
    "books_col = pd.DataFrame(dict_of_lists)\n",
    "print(books_col.head())"
   ]
  },
  {
   "cell_type": "markdown",
   "metadata": {},
   "source": [
    " "
   ]
  },
  {
   "cell_type": "markdown",
   "metadata": {},
   "source": [
    "## Reading and Writing to CSV\n",
    "\n",
    "### 1. Read\n",
    "\n",
    "- use pd.read_csv(\"file path\")\n",
    "\n",
    "### 2. Write"
   ]
  },
  {
   "cell_type": "raw",
   "metadata": {},
   "source": [
    "df.to_csv(\"file path\")"
   ]
  },
  {
   "cell_type": "markdown",
   "metadata": {},
   "source": [
    " "
   ]
  },
  {
   "cell_type": "markdown",
   "metadata": {},
   "source": [
    "## Summaries\n",
    "\n",
    "### 1. head()\n",
    "\n",
    "- gives the first few rows of the data frame\n",
    "- gives a good idea of the types of values and columns the data frame records\n",
    "\n",
    "### 2. info()\n",
    "\n",
    "- gives the names of columns\n",
    "- data type of columns\n",
    "- whether there are missing values\n",
    "- good for checking overall column properties\n",
    "\n",
    "### 3. shape\n",
    "\n",
    "- returns the dimensions of the data frame as a tuple\n",
    "- (r, c) where r is the number of rows, c is the number of columns\n",
    "\n",
    "### 4. describe()\n",
    "\n",
    "- returns summary statistics\n",
    "- e.g. mean, median, quartiles\n",
    "- good for a quick overview of the distribution of numeric variables\n",
    "\n",
    "### 5. values\n",
    "\n",
    "- converts values into a 2 dimensional array\n",
    "- access the array using: [r][c] where r is the row, c is the column\n",
    "\n",
    "### 6. columns\n",
    "\n",
    "- returns column names\n",
    "\n",
    "### 7. index\n",
    "\n",
    "- returns row numbers or names\n",
    "- different from .rows"
   ]
  },
  {
   "cell_type": "markdown",
   "metadata": {},
   "source": [
    " "
   ]
  },
  {
   "cell_type": "markdown",
   "metadata": {},
   "source": [
    "## Sorting and Subsetting\n",
    "\n",
    "### 1. sort_values(colnames)\n",
    "\n",
    "- naturally in ascending order\n",
    "- adding the parameter, ascending=False, gives the descending order\n",
    "- colnames can also be a list of column names, will sort by ascending index of the given parameter (e.g. [\"weight\", \"height\"] will sort first by weight then within the same weight category, sort by height)\n",
    "- ascending can also be a list of booleans\n",
    "- note that the sorting does not affect the original data frame unless explicitly stated\n",
    "\n",
    "### 2. [colnames]\n",
    "\n",
    "- returns all the cells of a specific column\n",
    "- can also be a list of column names\n",
    "\n",
    "### 3. Conditional Subsetting\n",
    "\n",
    "- can compare the values of a certain row, returning a column of booleans\n",
    "- use the column of booleans to select rows\n",
    "- True will include the row, False will exclude it"
   ]
  },
  {
   "cell_type": "raw",
   "metadata": {},
   "source": [
    "dogs[dogs[\"breed\"] == \"Labrador\"]"
   ]
  },
  {
   "cell_type": "markdown",
   "metadata": {},
   "source": [
    "- we can also use .isin(values) to see if the data is in the list of acceptable values"
   ]
  },
  {
   "cell_type": "raw",
   "metadata": {},
   "source": [
    "is_black_or_brown = dogs[\"color\"].isin([\"Black\", \"Brown\"])"
   ]
  },
  {
   "cell_type": "markdown",
   "metadata": {},
   "source": [
    " "
   ]
  },
  {
   "cell_type": "markdown",
   "metadata": {},
   "source": [
    "## New Columns"
   ]
  },
  {
   "cell_type": "raw",
   "metadata": {},
   "source": [
    "df[\"new column name\"] = column_values"
   ]
  }
 ],
 "metadata": {
  "kernelspec": {
   "display_name": "Python 3",
   "language": "python",
   "name": "python3"
  },
  "language_info": {
   "codemirror_mode": {
    "name": "ipython",
    "version": 3
   },
   "file_extension": ".py",
   "mimetype": "text/x-python",
   "name": "python",
   "nbconvert_exporter": "python",
   "pygments_lexer": "ipython3",
   "version": "3.8.5"
  }
 },
 "nbformat": 4,
 "nbformat_minor": 4
}
