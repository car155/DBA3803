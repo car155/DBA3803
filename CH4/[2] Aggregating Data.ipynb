{
 "cells": [
  {
   "cell_type": "markdown",
   "metadata": {},
   "source": [
    "# Aggregating Data\n",
    "\n",
    "## Summary Statistics\n",
    "\n",
    "### 1. Mean"
   ]
  },
  {
   "cell_type": "raw",
   "metadata": {},
   "source": [
    "df[\"colname\"].mean()"
   ]
  },
  {
   "cell_type": "markdown",
   "metadata": {},
   "source": [
    "- mean and other common aggregate functions can specify whether the function should apply across rows or columns using the axis parameter"
   ]
  },
  {
   "cell_type": "raw",
   "metadata": {},
   "source": [
    "df[\"colname\"].mean(axis=\"index\") # across rows, default\n",
    "df[\"colname\"].mean(axis=\"columns\") # across each column, usually makes no sense for different data types"
   ]
  },
  {
   "cell_type": "markdown",
   "metadata": {},
   "source": [
    "### 2. Other Summary Statistics\n",
    "\n",
    "- .median(), .mode()\n",
    "- .min(), .max()\n",
    "- .var(), .std()\n",
    "- .sum()\n",
    "- .quantile()\n",
    "\n",
    "### 3. Aggregate\n",
    "\n",
    "- .agg()\n",
    "- custom summary statistics\n",
    "- can handle more than 1 column at once so long thaat it if not ir last\n",
    "- can use multiple summary statistics at once"
   ]
  },
  {
   "cell_type": "raw",
   "metadata": {},
   "source": [
    "# 30th percentile\n",
    "def pct30(column):\n",
    "    return column.quantile(0.3)\n",
    "    \n",
    "# 40th percentile\n",
    "def pct40(column):\n",
    "    return column.quantile (0.4)\n",
    "    \n",
    "df[[\"colname1\", \"colname2\"]].agg([pct30, pct40])"
   ]
  },
  {
   "cell_type": "markdown",
   "metadata": {},
   "source": [
    " "
   ]
  },
  {
   "cell_type": "markdown",
   "metadata": {},
   "source": [
    "## Cumulative Statistics\n",
    "\n",
    "### 1. Cumulative Sum\n",
    "\n",
    "- returns the cumulative sum of the first row to each row"
   ]
  },
  {
   "cell_type": "raw",
   "metadata": {},
   "source": [
    "df[\"colname\"].cumsum()"
   ]
  },
  {
   "cell_type": "markdown",
   "metadata": {},
   "source": [
    "### 2. Other Cumulative Statistics\n",
    "\n",
    "- .cummax()\n",
    "- .cummin()\n",
    "- .cumprod()"
   ]
  },
  {
   "cell_type": "markdown",
   "metadata": {},
   "source": [
    " "
   ]
  },
  {
   "cell_type": "markdown",
   "metadata": {},
   "source": [
    "## Counting\n",
    "\n",
    "### 1. Drop Duplicates\n",
    "\n",
    "- avoid double counting\n",
    "- use .drop_duplicates()\n",
    "- takes in subset variable representing the columns to be considered\n",
    "- subset can be a list of column names"
   ]
  },
  {
   "cell_type": "raw",
   "metadata": {},
   "source": [
    "df.drop_duplicates(subset=\"colname\")"
   ]
  },
  {
   "cell_type": "markdown",
   "metadata": {},
   "source": [
    "### 2. Count Values\n",
    "\n",
    "- count by a categorical data"
   ]
  },
  {
   "cell_type": "raw",
   "metadata": {},
   "source": [
    "df[\"colname\"].value_counts()"
   ]
  },
  {
   "cell_type": "markdown",
   "metadata": {},
   "source": [
    "- we can also represent the count as a proportion of the total count using normalize\n",
    "- sort in descending order using the parameter, sort=True\n",
    "- can sort in ascending order using the parameter, ascending=True"
   ]
  },
  {
   "cell_type": "raw",
   "metadata": {},
   "source": [
    "df[\"colname\"].value_count(normalize=True)"
   ]
  },
  {
   "cell_type": "markdown",
   "metadata": {},
   "source": [
    " "
   ]
  },
  {
   "cell_type": "markdown",
   "metadata": {},
   "source": [
    "## Grouped Summary Statistics\n",
    "\n",
    "### 1. Group By"
   ]
  },
  {
   "cell_type": "raw",
   "metadata": {},
   "source": [
    "df.groupby(\"colname1\")[\"colname2\"].mean()\n",
    "df.groupby([\"col1\", \"col2\"])[\"col3\"].agg(summary_functions)"
   ]
  },
  {
   "cell_type": "markdown",
   "metadata": {},
   "source": [
    " "
   ]
  },
  {
   "cell_type": "markdown",
   "metadata": {},
   "source": [
    "## Pivot Tables\n",
    "\n",
    "- similar to group statistics\n",
    "- gives the mean by default"
   ]
  },
  {
   "cell_type": "raw",
   "metadata": {},
   "source": [
    "df.pivot_table(values=\"cols to consider the value of\", index=\"categorical cols\")"
   ]
  },
  {
   "cell_type": "markdown",
   "metadata": {},
   "source": [
    "- we can use the parameter, aggfunc, to specify the summary statistic\n",
    "- like .agg(), aggfunc can take a list of summary functions"
   ]
  },
  {
   "cell_type": "raw",
   "metadata": {},
   "source": [
    "df.pivot_table(values=\"value cols\", index=\"categorical cols\", aggfunc=summary_func)"
   ]
  },
  {
   "cell_type": "markdown",
   "metadata": {},
   "source": [
    "- we can also group by multiple columns\n",
    "- first grouping goes under index\n",
    "- subsequent grouping fall under the columns parameter\n",
    "- result presented differently but values are the same"
   ]
  },
  {
   "cell_type": "code",
   "execution_count": null,
   "metadata": {},
   "outputs": [],
   "source": [
    "df.pivot_table(values=\"value cols\", \n",
    "               index=\"categorical cols\", \n",
    "               columns=\"subsequent categorisation\", \n",
    "               aggfunc=summary_func)"
   ]
  },
  {
   "cell_type": "markdown",
   "metadata": {},
   "source": [
    "- by default, missing values in the pivot table are filled with NA\n",
    "- we can change this usign the parameter, fill_value"
   ]
  },
  {
   "cell_type": "raw",
   "metadata": {},
   "source": [
    "df.pivot_table(values=\"value cols\", \n",
    "               index=\"categorical cols\", \n",
    "               columns=\"subsequent categorisation\", \n",
    "               fill_value=0,\n",
    "               aggfunc=summary_func)"
   ]
  },
  {
   "cell_type": "markdown",
   "metadata": {},
   "source": [
    "- if we include the parameter, margins=True, the last column will be the aggregate data based only on the index column"
   ]
  },
  {
   "cell_type": "raw",
   "metadata": {},
   "source": [
    "df.pivot_table(values=\"value cols\", \n",
    "               index=\"categorical cols\", \n",
    "               columns=\"subsequent categorisation\", \n",
    "               fill_value=0,\n",
    "               aggfunc=summary_func,\n",
    "               margins=True)"
   ]
  }
 ],
 "metadata": {
  "kernelspec": {
   "display_name": "Python 3",
   "language": "python",
   "name": "python3"
  },
  "language_info": {
   "codemirror_mode": {
    "name": "ipython",
    "version": 3
   },
   "file_extension": ".py",
   "mimetype": "text/x-python",
   "name": "python",
   "nbconvert_exporter": "python",
   "pygments_lexer": "ipython3",
   "version": "3.8.5"
  }
 },
 "nbformat": 4,
 "nbformat_minor": 4
}
