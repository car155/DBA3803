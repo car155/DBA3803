{
 "cells": [
  {
   "cell_type": "markdown",
   "metadata": {},
   "source": [
    "# Slicing and Indexing\n",
    "\n",
    "## Explicit Indexing\n",
    "\n",
    "### 1. Setting Column Names as Indices\n",
    "\n",
    "- index names do not have to be unique\n",
    "- calling a common name will simply return all rows with that index name"
   ]
  },
  {
   "cell_type": "raw",
   "metadata": {},
   "source": [
    "df = df.set_index(\"colname\")"
   ]
  },
  {
   "cell_type": "markdown",
   "metadata": {},
   "source": [
    "- mulitlevel indexing is also possible by setting multiple columns as the index\n",
    "- the subsequent column indexes are implied to be nested within the first index column"
   ]
  },
  {
   "cell_type": "raw",
   "metadata": {},
   "source": [
    "df = df.set_index([\"col1\", \"col2\"])"
   ]
  },
  {
   "cell_type": "markdown",
   "metadata": {},
   "source": [
    "- undo using .reset_index()\n",
    "- drop=True will remove the previous index instead of coverting it to a column"
   ]
  },
  {
   "cell_type": "raw",
   "metadata": {},
   "source": [
    "df = df.reset_index(drop=True)"
   ]
  },
  {
   "cell_type": "markdown",
   "metadata": {},
   "source": [
    "### 2. Sort by Indices\n",
    "\n",
    "- by default, sorts all levels in ascending order\n",
    "- can specify the levels using the level parameter\n",
    "- can change the order using the parameter, ascending"
   ]
  },
  {
   "cell_type": "raw",
   "metadata": {},
   "source": [
    "df.sort_index()\n",
    "df.sort_index(level=[\"idx1\", \"idx2\"], ascending=[True, False])"
   ]
  },
  {
   "cell_type": "markdown",
   "metadata": {},
   "source": [
    "### 3. Loc\n",
    "\n",
    "- selecting rows/columns by name"
   ]
  },
  {
   "cell_type": "raw",
   "metadata": {},
   "source": [
    "df.loc[[\"row1\",\"row2\"], \"col1\"]"
   ]
  },
  {
   "cell_type": "markdown",
   "metadata": {},
   "source": [
    "- for multilevel indexing, we need to use a tuple to reach the deeper levels"
   ]
  },
  {
   "cell_type": "raw",
   "metadata": {},
   "source": [
    "df.loc[[(\"outer1\", [\"inner1.1\", \"inner1.2\"]), (\"outer2\", \"inner2.1\")]]"
   ]
  },
  {
   "cell_type": "markdown",
   "metadata": {},
   "source": [
    "### 4. Iloc\n",
    "\n",
    "- similar to loc but using the numeric indices of the rows and columns"
   ]
  }
 ],
 "metadata": {
  "kernelspec": {
   "display_name": "Python 3",
   "language": "python",
   "name": "python3"
  },
  "language_info": {
   "codemirror_mode": {
    "name": "ipython",
    "version": 3
   },
   "file_extension": ".py",
   "mimetype": "text/x-python",
   "name": "python",
   "nbconvert_exporter": "python",
   "pygments_lexer": "ipython3",
   "version": "3.8.5"
  }
 },
 "nbformat": 4,
 "nbformat_minor": 4
}
