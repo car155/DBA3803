{
 "cells": [
  {
   "cell_type": "markdown",
   "metadata": {},
   "source": [
    "# Regression\n",
    "\n",
    "## Scikit-Learn"
   ]
  },
  {
   "cell_type": "code",
   "execution_count": 25,
   "metadata": {},
   "outputs": [],
   "source": [
    "from sklearn.linear_model import LinearRegression"
   ]
  },
  {
   "cell_type": "code",
   "execution_count": 26,
   "metadata": {},
   "outputs": [],
   "source": [
    "# psuedo data\n",
    "import numpy as np\n",
    "import random\n",
    "\n",
    "x_raw = []\n",
    "y_raw = []\n",
    "for n in range(1, 40):\n",
    "    x_raw.append(n + random.random() * 2 - 1)\n",
    "    y_raw.append((1 + random.random() / 3) * n + random.random() * 10 / n)\n",
    "    \n",
    "x_raw = np.array(x_raw)\n",
    "y_raw = np.array(y_raw)"
   ]
  },
  {
   "cell_type": "code",
   "execution_count": 27,
   "metadata": {},
   "outputs": [
    {
     "data": {
      "image/png": "[encoded data removed]",
      "text/plain": [
       "<Figure size 432x288 with 1 Axes>"
      ]
     },
     "metadata": {
      "needs_background": "light"
     },
     "output_type": "display_data"
    }
   ],
   "source": [
    "from matplotlib import pyplot as plt\n",
    "\n",
    "model = LinearRegression(fit_intercept=True) # setting the formula to a0 + a1*x\n",
    "\n",
    "# shape the data\n",
    "x_data = x_raw.reshape(len(y_raw), 1)\n",
    "y_data = y_raw.reshape(len(y_raw), 1)\n",
    "\n",
    "model_fit = model.fit(x_data, y_data)\n",
    "\n",
    "# regressor's predictions over the range of the data\n",
    "prediction_space = np.linspace(min(x_data), max(x_data)).reshape(-1, 1)\n",
    "\n",
    "# plot\n",
    "plt.scatter(x_data, y_data, color=\"blue\")\n",
    "plt.plot(prediction_space, model.predict(prediction_space),\n",
    "         color=\"black\", linewidth=3)\n",
    "plt.show()"
   ]
  },
  {
   "cell_type": "markdown",
   "metadata": {},
   "source": [
    " "
   ]
  },
  {
   "cell_type": "markdown",
   "metadata": {},
   "source": [
    "## Regression Mechanics\n",
    "\n",
    "For 1 feature: y = ax + b\n",
    "\n",
    "- about choosing the best a and b to reduce loss\n",
    "- use an error function that aligns with our objective\n",
    "- since x is our independent variable and y is the dependent variable, we want to reduce the vertical distance between the line and the points\n",
    "- this difference is called a **residual**\n",
    "- since positive and negative residuals tend to cancel out, we use the sum of residual squares instead\n",
    "\n",
    "For 2 features: $y = a_{1}x_{1} + a_{2}x_{2} + b$\n",
    "\n",
    "- need to specify 3 variables: a1, a2, b"
   ]
  },
  {
   "cell_type": "code",
   "execution_count": 28,
   "metadata": {},
   "outputs": [],
   "source": [
    "from sklearn.model_selection import train_test_split\n",
    "from sklearn.linear_model import LinearRegression"
   ]
  },
  {
   "cell_type": "code",
   "execution_count": 29,
   "metadata": {},
   "outputs": [],
   "source": [
    "# psuedo data\n",
    "import numpy as np\n",
    "import random\n",
    "\n",
    "x_raw = []\n",
    "y_raw = []\n",
    "for n in range(1, 1000):\n",
    "    x_raw.append(n + random.random() * 2 - 1)\n",
    "    y_raw.append((1 + random.random()) * n + random.random() * 10 / n)\n",
    "    \n",
    "x_raw = np.array(x_raw)\n",
    "y_raw = np.array(y_raw)\n",
    "\n",
    "x_data = x_raw.reshape(-1, 1)\n",
    "y_data = y_raw.reshape(-1, 1)"
   ]
  },
  {
   "cell_type": "markdown",
   "metadata": {},
   "source": [
    "- rate the model using R-squared\n",
    "- variance in the target variable that is predicted from the feature variables\n",
    "- important to have test sets to verify the data"
   ]
  },
  {
   "cell_type": "code",
   "execution_count": 30,
   "metadata": {},
   "outputs": [
    {
     "data": {
      "text/plain": [
       "0.8508015130781315"
      ]
     },
     "execution_count": 30,
     "metadata": {},
     "output_type": "execute_result"
    }
   ],
   "source": [
    "x_train, x_test, y_train, y_test = train_test_split(x_data, y_data, test_size=0.3, random_state=42)\n",
    "model = LinearRegression()\n",
    "model.fit(x_train, y_train)\n",
    "y_pred = model.predict(x_test)\n",
    "\n",
    "# rate the model\n",
    "model.score(x_test, y_test)"
   ]
  },
  {
   "cell_type": "markdown",
   "metadata": {},
   "source": [
    " "
   ]
  },
  {
   "cell_type": "markdown",
   "metadata": {},
   "source": [
    "## Cross-validation\n",
    "\n",
    "- R-squared during the testing is dependent on the way the data is split\n",
    "- model might not generalise well to unseen data\n",
    "- use cross-validations to check\n",
    "\n",
    "### 1. Split the data into bins\n",
    "\n",
    "- each new set is called a fold\n",
    "- n-fold CV\n",
    "- more folds is more computationally expensive and reduces the size of the test set\n",
    "\n",
    "### 2. Hold one off while fitting the model to the rest\n",
    "\n",
    "- on of the folds is reserved as a test set while the rest are used to fit the model\n",
    "- predict on the test set\n",
    "\n",
    "### 3. Compute the metric of interest\n",
    "\n",
    "- use evaluation metrics to see how well the model fits for this set up of folds\n",
    "\n",
    "### 4. Repeat by holding off on different folds\n",
    "\n",
    "- with n values of R-squared, we have n values of R-squared\n",
    "- use this range of R-squared data to compute statistics\n",
    "- e.g. mean, median, 95% confidence intervals"
   ]
  },
  {
   "cell_type": "code",
   "execution_count": 31,
   "metadata": {},
   "outputs": [],
   "source": [
    "from sklearn.model_selection import cross_val_score\n",
    "from sklearn.linear_model import LinearRegression"
   ]
  },
  {
   "cell_type": "code",
   "execution_count": 33,
   "metadata": {},
   "outputs": [],
   "source": [
    "# psuedo data\n",
    "import numpy as np\n",
    "import random\n",
    "\n",
    "x_raw = []\n",
    "y_raw = []\n",
    "for n in range(1, 1000):\n",
    "    x_raw.append(n + random.random() * 2 - 1)\n",
    "    y_raw.append((1 + random.random() / 3) * n + random.random())\n",
    "    \n",
    "x_raw = np.array(x_raw)\n",
    "y_raw = np.array(y_raw)\n",
    "\n",
    "x_data = x_raw.reshape(-1, 1)\n",
    "y_data = y_raw.reshape(-1, 1)"
   ]
  },
  {
   "cell_type": "code",
   "execution_count": 38,
   "metadata": {},
   "outputs": [
    {
     "name": "stdout",
     "output_type": "stream",
     "text": [
      "[0.97488799 0.85117407 0.63151862 0.58010821 0.39637032]\n",
      "0.6868118406404417\n"
     ]
    }
   ],
   "source": [
    "reg = LinearRegression()\n",
    "cv_results = cross_val_score(reg, x_data, y_data, cv=5) # default score is R-squared\n",
    "print(cv_results)\n",
    "print(np.mean(cv_results))"
   ]
  },
  {
   "cell_type": "markdown",
   "metadata": {},
   "source": [
    " "
   ]
  },
  {
   "cell_type": "markdown",
   "metadata": {},
   "source": [
    "## Regularized Regression\n",
    "\n",
    "- linear regression minimizes loss function\n",
    "- chooses a coefficient for every feautre variable\n",
    "- too many large coefficients can result in overfitting, small change in one variable swings predictions significantly\n",
    "- penalise large coefficients (regularize)\n",
    "\n",
    "### Ridge Regression\n",
    "\n",
    "- Loss function = OLS loss function + $(a * \\sum_{i=1}^{n}{a_i^2})$\n",
    "- square value of the coefficient, large coefficients considered as higher loss\n",
    "- choose alpha such that model performs best (hyperparameter tuning)\n",
    "- alpha controls model complexity\n",
    "    - too small: overfitting unaccounted for\n",
    "    - too large: model is too simple (underfitting)"
   ]
  },
  {
   "cell_type": "code",
   "execution_count": 42,
   "metadata": {},
   "outputs": [],
   "source": [
    "from sklearn.model_selection import train_test_split\n",
    "from sklearn.linear_model import Ridge"
   ]
  },
  {
   "cell_type": "code",
   "execution_count": 64,
   "metadata": {},
   "outputs": [],
   "source": [
    "# psuedo data\n",
    "import numpy as np\n",
    "import random\n",
    "\n",
    "x_raw = []\n",
    "y_raw = []\n",
    "for n in range(1, 1000):\n",
    "    x_raw.append(n + random.random() * 2 - 1)\n",
    "    y_raw.append((1 + random.random())**2 * n + random.random())\n",
    "    \n",
    "x_raw = np.array(x_raw)\n",
    "y_raw = np.array(y_raw)\n",
    "\n",
    "x_data = x_raw.reshape(-1, 1)\n",
    "y_data = y_raw.reshape(-1, 1)"
   ]
  },
  {
   "cell_type": "code",
   "execution_count": 65,
   "metadata": {},
   "outputs": [
    {
     "data": {
      "text/plain": [
       "0.6225757934731561"
      ]
     },
     "execution_count": 65,
     "metadata": {},
     "output_type": "execute_result"
    }
   ],
   "source": [
    "x_train, x_test, y_train, y_test = train_test_split(x_data, y_data, test_size=0.3, random_state=42)\n",
    "ridge = Ridge(alpha=0.1, normalize=True) # normalize makes sure that the variables are on the same scale\n",
    "ridge.fit(x_train, y_train)\n",
    "ridge_pred = ridge.predict(x_test)\n",
    "ridge.score(x_test, y_test)"
   ]
  },
  {
   "cell_type": "markdown",
   "metadata": {},
   "source": [
    "### Lasso Regression\n",
    "\n",
    "- Loss function = OLS loss function + $(a * \\sum_{i=1}^{n}{|a_i|})$\n",
    "- can be used to select the most important features of a dataset\n",
    "- tends to shrink unimportant factors to 0"
   ]
  },
  {
   "cell_type": "code",
   "execution_count": 67,
   "metadata": {},
   "outputs": [],
   "source": [
    "from sklearn.linear_model import Lasso"
   ]
  },
  {
   "cell_type": "code",
   "execution_count": 68,
   "metadata": {},
   "outputs": [
    {
     "data": {
      "text/plain": [
       "0.6336235868468345"
      ]
     },
     "execution_count": 68,
     "metadata": {},
     "output_type": "execute_result"
    }
   ],
   "source": [
    "# standard lasso\n",
    "x_train, x_test, y_train, y_test = train_test_split(x_data, y_data, test_size=0.3, random_state=42)\n",
    "lasso = Lasso(alpha=0.1, normalize=True) # normalize makes sure that the variables are on the same scale\n",
    "lasso.fit(x_train, y_train)\n",
    "lasso_pred = lasso.predict(x_test)\n",
    "lasso.score(x_test, y_test)"
   ]
  },
  {
   "cell_type": "raw",
   "metadata": {},
   "source": [
    "# shrinking unimportant features\n",
    "names = df.drop(\"X\", axis=1).columns\n",
    "lasso = Lasso(alpha=0.1)\n",
    "lasso_coef = lasso.fit(x_data, y_data).coef_\n",
    "_ = plt.plot(range(len(names)), lasso_coef)\n",
    "_ = plt.xticks(range(len(names)), names, rotation=60\n",
    "_ = plt.ylabel(\"Coefficients\")\n",
    "plt.show()"
   ]
  },
  {
   "cell_type": "markdown",
   "metadata": {},
   "source": [
    "<img src=\"Images/lasso_coef.png\" width=500>"
   ]
  }
 ],
 "metadata": {
  "kernelspec": {
   "display_name": "Python 3",
   "language": "python",
   "name": "python3"
  },
  "language_info": {
   "codemirror_mode": {
    "name": "ipython",
    "version": 3
   },
   "file_extension": ".py",
   "mimetype": "text/x-python",
   "name": "python",
   "nbconvert_exporter": "python",
   "pygments_lexer": "ipython3",
   "version": "3.8.5"
  }
 },
 "nbformat": 4,
 "nbformat_minor": 4
}
