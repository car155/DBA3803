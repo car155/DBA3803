{
 "cells": [
  {
   "cell_type": "markdown",
   "metadata": {},
   "source": [
    "# Data Preparation and Exploration\n",
    "\n",
    "## <font color=\"#3c4369\">Data Preparation</font>\n",
    "\n",
    "- data is typically messy\n",
    "- prevents future errors, incorrect results, biasing algorithms\n",
    "\n",
    "### 1. Tidy Data\n",
    "- rows are observations\n",
    "- columns are variables\n",
    "\n",
    "### 2. Remove duplicates\n",
    "- bias the data\n",
    "\n",
    "### 3. Unique ID\n",
    "- some data might share the same identifier (e.g. name) but refer to 2 different observations\n",
    "- differentiate using a unique ID\n",
    "\n",
    "### 4. Homogeneity\n",
    "- some data is input in different units / formats\n",
    "\n",
    "### 5. Data Types\n",
    "- some types cannot be recognised by the programme as quantitative\n",
    "- running the standard quantitative analyses will result in an error\n",
    "\n",
    "### 6. Missing Values\n",
    "- impute from other data sets\n",
    "- drop (but might affect the training data)\n",
    "- use the median / mean / maximum\n",
    "- ignore if the algorithm allows"
   ]
  },
  {
   "cell_type": "markdown",
   "metadata": {},
   "source": [
    " "
   ]
  },
  {
   "cell_type": "markdown",
   "metadata": {},
   "source": [
    "## <font color=\"#3c4369\">Exploratory Data Analysis</font>\n",
    "\n",
    "- explore data\n",
    "- formulate hypotheses\n",
    "- assess characteristics\n",
    "- visualisation\n",
    "\n",
    "### Visualisation\n",
    "- some quantitative analysis will not reveal the characteristics of the data\n",
    "- visualisation helps to identify trends and if more data cleaning is needed\n",
    "\n",
    "<br>\n",
    "<img src=\"Images/visualisation_data.png\" width=\"500\">\n",
    "<img src=\"Images/visualisation_plots.png\" width=\"500\">\n",
    "\n",
    "- the above data sets have the same:\n",
    "    - mean and variance for x\n",
    "    - mean and variance for y\n",
    "    - correlation coeffication\n",
    "    - linear regrassion equation"
   ]
  },
  {
   "cell_type": "markdown",
   "metadata": {},
   "source": [
    " "
   ]
  },
  {
   "cell_type": "markdown",
   "metadata": {},
   "source": [
    "## <font color=\"#3c4369\">Visualisation</font>\n",
    "\n",
    "### 1. Use Color Purposefully\n",
    "- too many colors representing the same variable can be confusing\n",
    "- colourblindness\n",
    "\n",
    "### 2. Readable Fonts\n",
    "- clear and non-distracting\n",
    "\n",
    "### 3. Labels\n",
    "- title \n",
    "- x and y axis\n",
    "- legend\n",
    "\n",
    "### 4. Dashboards\n",
    "- a collection of images that collectively help generate insights\n",
    "\n",
    "### 5. BI tools\n",
    "- can help make dashboards interactive\n",
    "- can allow for more clarification"
   ]
  }
 ],
 "metadata": {
  "kernelspec": {
   "display_name": "Python 3",
   "language": "python",
   "name": "python3"
  },
  "language_info": {
   "codemirror_mode": {
    "name": "ipython",
    "version": 3
   },
   "file_extension": ".py",
   "mimetype": "text/x-python",
   "name": "python",
   "nbconvert_exporter": "python",
   "pygments_lexer": "ipython3",
   "version": "3.8.5"
  }
 },
 "nbformat": 4,
 "nbformat_minor": 4
}
