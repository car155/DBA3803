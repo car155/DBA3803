{
 "cells": [
  {
   "cell_type": "markdown",
   "metadata": {},
   "source": [
    "# Data Science\n",
    "\n",
    "## <font color=\"#3c4369\">Workflow</font>\n",
    "\n",
    "### 1. Data Collection & Storage\n",
    "- through surveys, web traffic results, geo-tagged social media posts, financial transactions\n",
    "- store the data in a safe and accessible way\n",
    "\n",
    "### 2. Data Preparation\n",
    "- cleaning data (missing or duplicate values)\n",
    "- converting data into a more organised format\n",
    "\n",
    "### 3. Exploration & Visualisation\n",
    "- dashboards\n",
    "- track changes over time / compare between 2 data sets\n",
    "\n",
    "### 4. Experimentation & Prediction\n"
   ]
  },
  {
   "cell_type": "markdown",
   "metadata": {},
   "source": [
    " "
   ]
  },
  {
   "cell_type": "markdown",
   "metadata": {},
   "source": [
    "## <font color=\"#3c4369\">Application</font>\n",
    "\n",
    "### 1. Machine Learning\n",
    "- needs a well-defined question (e.g. \"What is the probability that this transaction is fraudulent?\")\n",
    "- needs a set of training data (result is already known)\n",
    "- apply to a new set of data to test the algorithm\n",
    "\n",
    "### 2. Internet of Things (IoT)\n",
    "- refers to gadgets that are not standard computers but can still transmit data (e.g. smart watches, electronic toll collection systems)\n",
    "\n",
    "### 3. Deep Leaning\n",
    "- many smaller algorithms (called neurons)\n",
    "- needs more training data but can solve more intense problems than traditional machine learning (e.g. summary and image classification)"
   ]
  },
  {
   "cell_type": "markdown",
   "metadata": {},
   "source": [
    " "
   ]
  },
  {
   "cell_type": "markdown",
   "metadata": {},
   "source": [
    "## <font color=\"#3c4369\">Data Science Roles and Tools</font>\n",
    "\n",
    "### 1. Data Engineer\n",
    "- control the flow of data\n",
    "- design data pipelines / storage systems\n",
    "- focus on data collection and storage\n",
    "- SQL to store / organise\n",
    "- Java, Scala, Python to process\n",
    "- Shell to automate tasks\n",
    "- Cloud computing for large storage\n",
    "\n",
    "### 2. Data Analyst\n",
    "- describe data\n",
    "- create reports, summaries and dashboards\n",
    "- focus on data preparation, exploration & visualisation\n",
    "- SQL to query\n",
    "- Excel for analysis\n",
    "- BI tools for dashboards\n",
    "- Python, R for cleaning and visualisation\n",
    "\n",
    "### 3. Data Scientist\n",
    "- statistics\n",
    "- use traditional machines learning\n",
    "- focus on data preparation, exploration, visualisation, experimentation & prediction\n",
    "- SQL to query\n",
    "- Python, R\n",
    "\n",
    "### 4. Machines Learning Scientist\n",
    "- machine specialisation\n",
    "- classify more unruly data\n",
    "- focus on data preparation, exploration, visualisation\n",
    "- strong focus on experimentation & prediction\n",
    "- Python, R to run algorithms"
   ]
  }
 ],
 "metadata": {
  "kernelspec": {
   "display_name": "Python 3",
   "language": "python",
   "name": "python3"
  },
  "language_info": {
   "codemirror_mode": {
    "name": "ipython",
    "version": 3
   },
   "file_extension": ".py",
   "mimetype": "text/x-python",
   "name": "python",
   "nbconvert_exporter": "python",
   "pygments_lexer": "ipython3",
   "version": "3.8.5"
  }
 },
 "nbformat": 4,
 "nbformat_minor": 4
}
