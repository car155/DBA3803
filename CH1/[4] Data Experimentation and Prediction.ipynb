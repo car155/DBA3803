{
 "cells": [
  {
   "cell_type": "markdown",
   "metadata": {},
   "source": [
    "# Data Experimentation and Prediction\n",
    "\n",
    "## <font color='#3c4369'>A/B Testing</font> \n",
    "- choose between 2 options\n",
    "\n",
    "### 1. Pick a Metric to Track\n",
    "- the dependent variable\n",
    "\n",
    "### 2. Calculate Sample Size\n",
    "- larger sample sizes allow detection of smaller changes\n",
    "- smaller sample sizes are easier but can only detect larger changes\n",
    "\n",
    "### 3. Run Experiment\n",
    "\n",
    "\n",
    "### 4. Check Significance\n",
    "- statistical tests\n",
    "- not significant if:\n",
    "    - difference is smaller than the chosen threshold\n",
    "    - the actual values might change with a larger sample size but the conclusion is unlikely to change"
   ]
  },
  {
   "cell_type": "markdown",
   "metadata": {},
   "source": [
    " "
   ]
  },
  {
   "cell_type": "markdown",
   "metadata": {},
   "source": [
    "## <font color='#3c4369'>Time Series Forecasting</font> \n",
    "- combination of statistics and machine learning\n",
    "\n",
    "### Seasonality\n",
    "- Repeating patterns related to time\n",
    "\n",
    "### Confidence Intervals\n",
    "- x% sure that the true value will fall within the given region\n",
    "- buffer for the unexpected"
   ]
  },
  {
   "cell_type": "markdown",
   "metadata": {},
   "source": [
    " "
   ]
  },
  {
   "cell_type": "markdown",
   "metadata": {},
   "source": [
    "## <font color='#3c4369'>Supervised Machine Learning</font> \n",
    "- predictions from data with labels and features\n",
    "- label is what we want to predict\n",
    "- features are data that might help predict the label\n",
    "- e.g. recommendations, diagnosing biomedical images, recognising hand-written notes, customer churn\n",
    "\n",
    "### Model Evaluation\n",
    "- not all historical data should be used to train the model\n",
    "- a random sample of the historical data should be put aside as test data\n",
    "- model accuracy is not enough (especially for rare events)\n",
    "- both label outcomes should be evaluated\n",
    "\n",
    "<img src=\"Images/model_evaluation.png\" width=\"500\">\n",
    "\n",
    "- e.g. the above model has an overall accuracy of 97% but a 0% churn prediction accuracy"
   ]
  },
  {
   "cell_type": "markdown",
   "metadata": {},
   "source": [
    " "
   ]
  },
  {
   "cell_type": "markdown",
   "metadata": {},
   "source": [
    "## <font color='#3c4369'>Clustering</font> \n",
    "\n",
    "- divide data into categories\n",
    "- part of unsupervised machine learning\n",
    "\n",
    "### Unsupervised Machine Learning\n",
    "- no labels\n",
    "- only features\n",
    "- good when not much is known about the data set\n",
    "- less about predicting outcomes\n",
    "- focus on categorising\n",
    "\n",
    "### 1. Define features\n",
    "- some features might have more weight than others in the algorithm\n",
    "\n",
    "### 2. Define number of clusters\n",
    "- affects how the algorithms segments te data\n",
    "- might not tell us the actual number of clusters but can help make an informed decision\n",
    "- having a hypothesis can help get better clustering results"
   ]
  }
 ],
 "metadata": {
  "kernelspec": {
   "display_name": "Python 3",
   "language": "python",
   "name": "python3"
  },
  "language_info": {
   "codemirror_mode": {
    "name": "ipython",
    "version": 3
   },
   "file_extension": ".py",
   "mimetype": "text/x-python",
   "name": "python",
   "nbconvert_exporter": "python",
   "pygments_lexer": "ipython3",
   "version": "3.8.5"
  }
 },
 "nbformat": 4,
 "nbformat_minor": 4
}
