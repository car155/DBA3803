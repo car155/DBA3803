{
 "cells": [
  {
   "cell_type": "markdown",
   "metadata": {},
   "source": [
    "# Data Collection and Storage\n",
    "\n",
    "## <font color=\"#3c4369\">Sources of Data</font>\n",
    "\n",
    "### 1. Company data\n",
    "- collected through interactions with customers\n",
    "- web events, surveys, logistics, financial transactions\n",
    "- helps companies make data-driven decisions\n",
    "\n",
    "### 2. Open data\n",
    "- free, open\n",
    "- can be used, shared, and built-on by anyone\n",
    "- through data APIs, public records"
   ]
  },
  {
   "cell_type": "markdown",
   "metadata": {},
   "source": [
    " "
   ]
  },
  {
   "cell_type": "markdown",
   "metadata": {},
   "source": [
    "## <font color=\"#3c4369\">Data Types</font>\n",
    "\n",
    "- affects how to store the data (not all data can be stored effectively in the same way)\n",
    "- affects visualisation / analysis\n",
    "\n",
    "### 1. Quantitative Data\n",
    "- deals with numbers\n",
    "- can be measured\n",
    "\n",
    "### 2. Qualitative Data\n",
    "- deals with descriptions\n",
    "- can be observed but not measured (e.g. colour)\n",
    "- might be described by quantitative measures but the underlying data is still qualitative (e.g. \"how likely are you to recommend this product to a friend?\")\n",
    "\n",
    "### 3. Others\n",
    "- image\n",
    "- text\n",
    "- geospatial\n",
    "- network\n",
    "- ...\n",
    "- not necessarily mutually exclusive types (e.g. a review is a type of text data that has a numerical rating and a description, both quantitative and qualitative)"
   ]
  },
  {
   "cell_type": "markdown",
   "metadata": {},
   "source": [
    " "
   ]
  },
  {
   "cell_type": "markdown",
   "metadata": {},
   "source": [
    "## <font color=\"#3c4369\">Data Storage and Retrieval</font>\n",
    "\n",
    "### 1. Location\n",
    "- large amounts of data are usually stored on a network of storage computers (cluster, server)\n",
    "- pay another company to store data (cloud services)\n",
    "\n",
    "### 2. Data Type\n",
    "- unstructured data (e.g. email, text, video, audio, web pages, social media) are stored on document databases\n",
    "- tabular data (e.g. a customer's answers to a survey) are stored on a relational database\n",
    "\n",
    "### 3. Retrieval\n",
    "- data querying\n",
    "- document databases use NoSQL\n",
    "- relational database use SQL"
   ]
  },
  {
   "cell_type": "markdown",
   "metadata": {},
   "source": [
    " "
   ]
  },
  {
   "cell_type": "markdown",
   "metadata": {},
   "source": [
    "## <font color=\"#3c4369\">Data Pipelines</font>\n",
    "\n",
    "- collect from multiple sources\n",
    "- store in different databases\n",
    "- moves data into defined stages automatically through scheduling / when an event is triggered\n",
    "- must monitor and generate alerts\n",
    "- customised depending on the data project\n",
    "\n",
    "### 1. Extract\n",
    "- extract data from all the project's data sources\n",
    "\n",
    "### 2. Transform\n",
    "- the data extracted will be of different types\n",
    "- similarly typed data is joined into one data set\n",
    "- data structures are converted to fit database schemas\n",
    "- remove irrelevant data\n",
    "\n",
    "### 3. Load\n",
    "- store the data"
   ]
  }
 ],
 "metadata": {
  "kernelspec": {
   "display_name": "Python 3",
   "language": "python",
   "name": "python3"
  },
  "language_info": {
   "codemirror_mode": {
    "name": "ipython",
    "version": 3
   },
   "file_extension": ".py",
   "mimetype": "text/x-python",
   "name": "python",
   "nbconvert_exporter": "python",
   "pygments_lexer": "ipython3",
   "version": "3.8.5"
  }
 },
 "nbformat": 4,
 "nbformat_minor": 4
}
