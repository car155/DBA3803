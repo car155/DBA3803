{
 "cells": [
  {
   "cell_type": "markdown",
   "metadata": {},
   "source": [
    "# Boosting\n",
    "\n",
    "## 1. Adaptive Boosting"
   ]
  },
  {
   "cell_type": "raw",
   "metadata": {},
   "source": [
    "from sklearn.ensemble import AdaBoostClassifier\n",
    "from sklearn.tree import DecisionTreeClassifier\n",
    "from sklearn.metrics import roc_auc_score\n",
    "from sklearn.model_selection import train_test_split\n",
    "\n",
    "SEED = 1\n",
    "\n",
    "X_train, X_test, y_train, y_test = train_test_split(X, y, test_size = 0.3, \n",
    "                                                    stratify=y, \n",
    "                                                    random_state=SEED)\n",
    "\n",
    "# Instantiate classification tree\n",
    "dt = DecisionTreClassifier(max_depth=1, random_state=SEED) # stump is a weak learner\n",
    "\n",
    "# Instantiate an AdaBoost classifier\n",
    "adb_clf = AdaBoostClassifier(base_estimator=dt, n_estimators=100)\n",
    "\n",
    "# Fit to training set\n",
    "adb_clf.fit(X_train, y_train)\n",
    "\n",
    "# Predict\n",
    "y_pred_proba = adb_clf.predict_proba(X_test)[:, 1]\n",
    "adb_clf_roc_auc_score = roc_auc_score(y_test, y_pred_proba)"
   ]
  },
  {
   "cell_type": "markdown",
   "metadata": {},
   "source": [
    " "
   ]
  },
  {
   "cell_type": "markdown",
   "metadata": {},
   "source": [
    "## 2. Gradient Boosting"
   ]
  },
  {
   "cell_type": "raw",
   "metadata": {},
   "source": [
    "from sklearn.ensemble import GradientBoostingRegressor\n",
    "from sklearn.model_selection import train_test_split\n",
    "from sklearn.metrics import mean_squared_error as MSE\n",
    "\n",
    "SEED = 1\n",
    "\n",
    "X_train, X_test, y_train, y_test = train_test_split(X, y, test_size = 0.3, \n",
    "                                                    stratify=y, \n",
    "                                                    random_state=SEED)\n",
    "\n",
    "# Instantiate Gradient Boosting Regressor\n",
    "gbt = GradientBoostingRegressor(n_estimators=300, max_depth=1, random_state=SEED)\n",
    "\n",
    "# Fit to training set\n",
    "gbt.fit(X_train, y_train)\n",
    "\n",
    "# Predict\n",
    "y_pred = gbt.predict(X_test)\n",
    "rmse_test = MSE(y_test, y_pred) ** 0.5"
   ]
  },
  {
   "cell_type": "markdown",
   "metadata": {},
   "source": [
    "## 3. Stochastic Gradient "
   ]
  },
  {
   "cell_type": "raw",
   "metadata": {},
   "source": [
    "from sklearn.ensemble import GradientBoostingRegressor\n",
    "from sklearn.model_selection import train_test_split\n",
    "from sklearn.metrics import mean_squared_error as MSE\n",
    "\n",
    "SEED = 1\n",
    "\n",
    "X_train, X_test, y_train, y_test = train_test_split(X, y, test_size = 0.3, \n",
    "                                                    stratify=y, \n",
    "                                                    random_state=SEED)\n",
    "\n",
    "# Instantiate Stochastic Gradient Boosting Regressor\n",
    "gbt = GradientBoostingRegressor(max_depth=1, \n",
    "                                subsample=0.8, # sample 80% of data at each training w/o replacement\n",
    "                                max_features=0.2, # samples 20% of features (similar to Random Forests)\n",
    "                                n_estimators=300,\n",
    "                                random_state=SEED)\n",
    "\n",
    "# Fit to training set\n",
    "sgbt.fit(X_train, y_train)\n",
    "\n",
    "# Predict\n",
    "y_pred = sgbt.predict(X_test)\n",
    "rmse_test = MSE(y_test, y_pred) ** 0.5"
   ]
  }
 ],
 "metadata": {
  "kernelspec": {
   "display_name": "Python 3",
   "language": "python",
   "name": "python3"
  },
  "language_info": {
   "codemirror_mode": {
    "name": "ipython",
    "version": 3
   },
   "file_extension": ".py",
   "mimetype": "text/x-python",
   "name": "python",
   "nbconvert_exporter": "python",
   "pygments_lexer": "ipython3",
   "version": "3.8.5"
  }
 },
 "nbformat": 4,
 "nbformat_minor": 4
}
