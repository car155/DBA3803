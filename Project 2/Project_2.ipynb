{
 "cells": [
  {
   "cell_type": "code",
   "execution_count": 1,
   "metadata": {
    "id": "aWgyb5PjEVs8"
   },
   "outputs": [],
   "source": [
    "#Standard DataFrame packages\n",
    "import numpy as np \n",
    "import pandas as pd \n",
    "\n",
    "#Process and model pacakges\n",
    "from sklearn.model_selection import GridSearchCV\n",
    "from sklearn.tree import DecisionTreeClassifier\n",
    "from sklearn.preprocessing import LabelEncoder\n",
    "from sklearn.linear_model import LogisticRegression\n",
    "from sklearn.ensemble import RandomForestClassifier\n",
    "from sklearn.metrics import roc_auc_score, roc_curve, confusion_matrix, classification_report\n",
    "from sklearn.model_selection import train_test_split\n",
    "import scipy.stats as stats\n",
    "from pycaret.classification import *\n",
    "\n",
    "\n",
    "#Visualization packages\n",
    "from sklearn.tree import export_graphviz\n",
    "import graphviz\n",
    "import pydotplus\n",
    "import matplotlib.pyplot as plt\n",
    "import seaborn as sns\n",
    "\n",
    "#Do we need to prevent warnings to be displayed?\n",
    "import warnings\n",
    "warnings.filterwarnings(\"ignore\")"
   ]
  },
  {
   "cell_type": "code",
   "execution_count": 4,
   "metadata": {
    "id": "-5lxSUFREV5s"
   },
   "outputs": [],
   "source": [
    "#Read in files\n",
    "df = pd.read_csv(\"./Data/Project2_Train.csv\")\n",
    "df_test = pd.read_csv(\"./Data/Project2_Test.csv\")"
   ]
  },
  {
   "cell_type": "code",
   "execution_count": 5,
   "metadata": {
    "id": "53-_VSspEWBT"
   },
   "outputs": [],
   "source": [
    "#Remove id columns, as it is not a feature column\n",
    "df = df.iloc[:,1:]\n",
    "df_test = df_test.iloc[:,1:]"
   ]
  },
  {
   "cell_type": "code",
   "execution_count": 6,
   "metadata": {
    "colab": {
     "base_uri": "https://localhost:8080/",
     "height": 795,
     "referenced_widgets": [
      "df14150e9ccb4f04bbf508ee0c8a9ecc",
      "f29e53fe222e47c7b3b85f48eb78aca5",
      "2ea452c1ec6c4d1f815f3b633b160424",
      "6b43224573984b5d9e28c041dac3e725",
      "969bb724f5fe464a9b87135402342285",
      "feaf0584e37247098d3d8aee0dc6a47c"
     ]
    },
    "id": "YDY8VCvLD96f",
    "outputId": "a5f26630-e3ad-4369-b7d1-2368109f1179"
   },
   "outputs": [
    {
     "data": {
      "text/html": [
       "<style  type=\"text/css\" >\n",
       "#T_b9f543d0_460a_11ec_bf48_4c34883e4c5brow44_col1{\n",
       "            background-color:  lightgreen;\n",
       "        }</style><table id=\"T_b9f543d0_460a_11ec_bf48_4c34883e4c5b\" ><thead>    <tr>        <th class=\"blank level0\" ></th>        <th class=\"col_heading level0 col0\" >Description</th>        <th class=\"col_heading level0 col1\" >Value</th>    </tr></thead><tbody>\n",
       "                <tr>\n",
       "                        <th id=\"T_b9f543d0_460a_11ec_bf48_4c34883e4c5blevel0_row0\" class=\"row_heading level0 row0\" >0</th>\n",
       "                        <td id=\"T_b9f543d0_460a_11ec_bf48_4c34883e4c5brow0_col0\" class=\"data row0 col0\" >session_id</td>\n",
       "                        <td id=\"T_b9f543d0_460a_11ec_bf48_4c34883e4c5brow0_col1\" class=\"data row0 col1\" >6205</td>\n",
       "            </tr>\n",
       "            <tr>\n",
       "                        <th id=\"T_b9f543d0_460a_11ec_bf48_4c34883e4c5blevel0_row1\" class=\"row_heading level0 row1\" >1</th>\n",
       "                        <td id=\"T_b9f543d0_460a_11ec_bf48_4c34883e4c5brow1_col0\" class=\"data row1 col0\" >Target</td>\n",
       "                        <td id=\"T_b9f543d0_460a_11ec_bf48_4c34883e4c5brow1_col1\" class=\"data row1 col1\" >Response</td>\n",
       "            </tr>\n",
       "            <tr>\n",
       "                        <th id=\"T_b9f543d0_460a_11ec_bf48_4c34883e4c5blevel0_row2\" class=\"row_heading level0 row2\" >2</th>\n",
       "                        <td id=\"T_b9f543d0_460a_11ec_bf48_4c34883e4c5brow2_col0\" class=\"data row2 col0\" >Target Type</td>\n",
       "                        <td id=\"T_b9f543d0_460a_11ec_bf48_4c34883e4c5brow2_col1\" class=\"data row2 col1\" >Binary</td>\n",
       "            </tr>\n",
       "            <tr>\n",
       "                        <th id=\"T_b9f543d0_460a_11ec_bf48_4c34883e4c5blevel0_row3\" class=\"row_heading level0 row3\" >3</th>\n",
       "                        <td id=\"T_b9f543d0_460a_11ec_bf48_4c34883e4c5brow3_col0\" class=\"data row3 col0\" >Label Encoded</td>\n",
       "                        <td id=\"T_b9f543d0_460a_11ec_bf48_4c34883e4c5brow3_col1\" class=\"data row3 col1\" >None</td>\n",
       "            </tr>\n",
       "            <tr>\n",
       "                        <th id=\"T_b9f543d0_460a_11ec_bf48_4c34883e4c5blevel0_row4\" class=\"row_heading level0 row4\" >4</th>\n",
       "                        <td id=\"T_b9f543d0_460a_11ec_bf48_4c34883e4c5brow4_col0\" class=\"data row4 col0\" >Original Data</td>\n",
       "                        <td id=\"T_b9f543d0_460a_11ec_bf48_4c34883e4c5brow4_col1\" class=\"data row4 col1\" >(10000, 8)</td>\n",
       "            </tr>\n",
       "            <tr>\n",
       "                        <th id=\"T_b9f543d0_460a_11ec_bf48_4c34883e4c5blevel0_row5\" class=\"row_heading level0 row5\" >5</th>\n",
       "                        <td id=\"T_b9f543d0_460a_11ec_bf48_4c34883e4c5brow5_col0\" class=\"data row5 col0\" >Missing Values</td>\n",
       "                        <td id=\"T_b9f543d0_460a_11ec_bf48_4c34883e4c5brow5_col1\" class=\"data row5 col1\" >False</td>\n",
       "            </tr>\n",
       "            <tr>\n",
       "                        <th id=\"T_b9f543d0_460a_11ec_bf48_4c34883e4c5blevel0_row6\" class=\"row_heading level0 row6\" >6</th>\n",
       "                        <td id=\"T_b9f543d0_460a_11ec_bf48_4c34883e4c5brow6_col0\" class=\"data row6 col0\" >Numeric Features</td>\n",
       "                        <td id=\"T_b9f543d0_460a_11ec_bf48_4c34883e4c5brow6_col1\" class=\"data row6 col1\" >3</td>\n",
       "            </tr>\n",
       "            <tr>\n",
       "                        <th id=\"T_b9f543d0_460a_11ec_bf48_4c34883e4c5blevel0_row7\" class=\"row_heading level0 row7\" >7</th>\n",
       "                        <td id=\"T_b9f543d0_460a_11ec_bf48_4c34883e4c5brow7_col0\" class=\"data row7 col0\" >Categorical Features</td>\n",
       "                        <td id=\"T_b9f543d0_460a_11ec_bf48_4c34883e4c5brow7_col1\" class=\"data row7 col1\" >4</td>\n",
       "            </tr>\n",
       "            <tr>\n",
       "                        <th id=\"T_b9f543d0_460a_11ec_bf48_4c34883e4c5blevel0_row8\" class=\"row_heading level0 row8\" >8</th>\n",
       "                        <td id=\"T_b9f543d0_460a_11ec_bf48_4c34883e4c5brow8_col0\" class=\"data row8 col0\" >Ordinal Features</td>\n",
       "                        <td id=\"T_b9f543d0_460a_11ec_bf48_4c34883e4c5brow8_col1\" class=\"data row8 col1\" >False</td>\n",
       "            </tr>\n",
       "            <tr>\n",
       "                        <th id=\"T_b9f543d0_460a_11ec_bf48_4c34883e4c5blevel0_row9\" class=\"row_heading level0 row9\" >9</th>\n",
       "                        <td id=\"T_b9f543d0_460a_11ec_bf48_4c34883e4c5brow9_col0\" class=\"data row9 col0\" >High Cardinality Features</td>\n",
       "                        <td id=\"T_b9f543d0_460a_11ec_bf48_4c34883e4c5brow9_col1\" class=\"data row9 col1\" >False</td>\n",
       "            </tr>\n",
       "            <tr>\n",
       "                        <th id=\"T_b9f543d0_460a_11ec_bf48_4c34883e4c5blevel0_row10\" class=\"row_heading level0 row10\" >10</th>\n",
       "                        <td id=\"T_b9f543d0_460a_11ec_bf48_4c34883e4c5brow10_col0\" class=\"data row10 col0\" >High Cardinality Method</td>\n",
       "                        <td id=\"T_b9f543d0_460a_11ec_bf48_4c34883e4c5brow10_col1\" class=\"data row10 col1\" >None</td>\n",
       "            </tr>\n",
       "            <tr>\n",
       "                        <th id=\"T_b9f543d0_460a_11ec_bf48_4c34883e4c5blevel0_row11\" class=\"row_heading level0 row11\" >11</th>\n",
       "                        <td id=\"T_b9f543d0_460a_11ec_bf48_4c34883e4c5brow11_col0\" class=\"data row11 col0\" >Transformed Train Set</td>\n",
       "                        <td id=\"T_b9f543d0_460a_11ec_bf48_4c34883e4c5brow11_col1\" class=\"data row11 col1\" >(6999, 18)</td>\n",
       "            </tr>\n",
       "            <tr>\n",
       "                        <th id=\"T_b9f543d0_460a_11ec_bf48_4c34883e4c5blevel0_row12\" class=\"row_heading level0 row12\" >12</th>\n",
       "                        <td id=\"T_b9f543d0_460a_11ec_bf48_4c34883e4c5brow12_col0\" class=\"data row12 col0\" >Transformed Test Set</td>\n",
       "                        <td id=\"T_b9f543d0_460a_11ec_bf48_4c34883e4c5brow12_col1\" class=\"data row12 col1\" >(3001, 18)</td>\n",
       "            </tr>\n",
       "            <tr>\n",
       "                        <th id=\"T_b9f543d0_460a_11ec_bf48_4c34883e4c5blevel0_row13\" class=\"row_heading level0 row13\" >13</th>\n",
       "                        <td id=\"T_b9f543d0_460a_11ec_bf48_4c34883e4c5brow13_col0\" class=\"data row13 col0\" >Shuffle Train-Test</td>\n",
       "                        <td id=\"T_b9f543d0_460a_11ec_bf48_4c34883e4c5brow13_col1\" class=\"data row13 col1\" >True</td>\n",
       "            </tr>\n",
       "            <tr>\n",
       "                        <th id=\"T_b9f543d0_460a_11ec_bf48_4c34883e4c5blevel0_row14\" class=\"row_heading level0 row14\" >14</th>\n",
       "                        <td id=\"T_b9f543d0_460a_11ec_bf48_4c34883e4c5brow14_col0\" class=\"data row14 col0\" >Stratify Train-Test</td>\n",
       "                        <td id=\"T_b9f543d0_460a_11ec_bf48_4c34883e4c5brow14_col1\" class=\"data row14 col1\" >False</td>\n",
       "            </tr>\n",
       "            <tr>\n",
       "                        <th id=\"T_b9f543d0_460a_11ec_bf48_4c34883e4c5blevel0_row15\" class=\"row_heading level0 row15\" >15</th>\n",
       "                        <td id=\"T_b9f543d0_460a_11ec_bf48_4c34883e4c5brow15_col0\" class=\"data row15 col0\" >Fold Generator</td>\n",
       "                        <td id=\"T_b9f543d0_460a_11ec_bf48_4c34883e4c5brow15_col1\" class=\"data row15 col1\" >StratifiedKFold</td>\n",
       "            </tr>\n",
       "            <tr>\n",
       "                        <th id=\"T_b9f543d0_460a_11ec_bf48_4c34883e4c5blevel0_row16\" class=\"row_heading level0 row16\" >16</th>\n",
       "                        <td id=\"T_b9f543d0_460a_11ec_bf48_4c34883e4c5brow16_col0\" class=\"data row16 col0\" >Fold Number</td>\n",
       "                        <td id=\"T_b9f543d0_460a_11ec_bf48_4c34883e4c5brow16_col1\" class=\"data row16 col1\" >10</td>\n",
       "            </tr>\n",
       "            <tr>\n",
       "                        <th id=\"T_b9f543d0_460a_11ec_bf48_4c34883e4c5blevel0_row17\" class=\"row_heading level0 row17\" >17</th>\n",
       "                        <td id=\"T_b9f543d0_460a_11ec_bf48_4c34883e4c5brow17_col0\" class=\"data row17 col0\" >CPU Jobs</td>\n",
       "                        <td id=\"T_b9f543d0_460a_11ec_bf48_4c34883e4c5brow17_col1\" class=\"data row17 col1\" >-1</td>\n",
       "            </tr>\n",
       "            <tr>\n",
       "                        <th id=\"T_b9f543d0_460a_11ec_bf48_4c34883e4c5blevel0_row18\" class=\"row_heading level0 row18\" >18</th>\n",
       "                        <td id=\"T_b9f543d0_460a_11ec_bf48_4c34883e4c5brow18_col0\" class=\"data row18 col0\" >Use GPU</td>\n",
       "                        <td id=\"T_b9f543d0_460a_11ec_bf48_4c34883e4c5brow18_col1\" class=\"data row18 col1\" >False</td>\n",
       "            </tr>\n",
       "            <tr>\n",
       "                        <th id=\"T_b9f543d0_460a_11ec_bf48_4c34883e4c5blevel0_row19\" class=\"row_heading level0 row19\" >19</th>\n",
       "                        <td id=\"T_b9f543d0_460a_11ec_bf48_4c34883e4c5brow19_col0\" class=\"data row19 col0\" >Log Experiment</td>\n",
       "                        <td id=\"T_b9f543d0_460a_11ec_bf48_4c34883e4c5brow19_col1\" class=\"data row19 col1\" >False</td>\n",
       "            </tr>\n",
       "            <tr>\n",
       "                        <th id=\"T_b9f543d0_460a_11ec_bf48_4c34883e4c5blevel0_row20\" class=\"row_heading level0 row20\" >20</th>\n",
       "                        <td id=\"T_b9f543d0_460a_11ec_bf48_4c34883e4c5brow20_col0\" class=\"data row20 col0\" >Experiment Name</td>\n",
       "                        <td id=\"T_b9f543d0_460a_11ec_bf48_4c34883e4c5brow20_col1\" class=\"data row20 col1\" >clf-default-name</td>\n",
       "            </tr>\n",
       "            <tr>\n",
       "                        <th id=\"T_b9f543d0_460a_11ec_bf48_4c34883e4c5blevel0_row21\" class=\"row_heading level0 row21\" >21</th>\n",
       "                        <td id=\"T_b9f543d0_460a_11ec_bf48_4c34883e4c5brow21_col0\" class=\"data row21 col0\" >USI</td>\n",
       "                        <td id=\"T_b9f543d0_460a_11ec_bf48_4c34883e4c5brow21_col1\" class=\"data row21 col1\" >4cad</td>\n",
       "            </tr>\n",
       "            <tr>\n",
       "                        <th id=\"T_b9f543d0_460a_11ec_bf48_4c34883e4c5blevel0_row22\" class=\"row_heading level0 row22\" >22</th>\n",
       "                        <td id=\"T_b9f543d0_460a_11ec_bf48_4c34883e4c5brow22_col0\" class=\"data row22 col0\" >Imputation Type</td>\n",
       "                        <td id=\"T_b9f543d0_460a_11ec_bf48_4c34883e4c5brow22_col1\" class=\"data row22 col1\" >simple</td>\n",
       "            </tr>\n",
       "            <tr>\n",
       "                        <th id=\"T_b9f543d0_460a_11ec_bf48_4c34883e4c5blevel0_row23\" class=\"row_heading level0 row23\" >23</th>\n",
       "                        <td id=\"T_b9f543d0_460a_11ec_bf48_4c34883e4c5brow23_col0\" class=\"data row23 col0\" >Iterative Imputation Iteration</td>\n",
       "                        <td id=\"T_b9f543d0_460a_11ec_bf48_4c34883e4c5brow23_col1\" class=\"data row23 col1\" >None</td>\n",
       "            </tr>\n",
       "            <tr>\n",
       "                        <th id=\"T_b9f543d0_460a_11ec_bf48_4c34883e4c5blevel0_row24\" class=\"row_heading level0 row24\" >24</th>\n",
       "                        <td id=\"T_b9f543d0_460a_11ec_bf48_4c34883e4c5brow24_col0\" class=\"data row24 col0\" >Numeric Imputer</td>\n",
       "                        <td id=\"T_b9f543d0_460a_11ec_bf48_4c34883e4c5brow24_col1\" class=\"data row24 col1\" >mean</td>\n",
       "            </tr>\n",
       "            <tr>\n",
       "                        <th id=\"T_b9f543d0_460a_11ec_bf48_4c34883e4c5blevel0_row25\" class=\"row_heading level0 row25\" >25</th>\n",
       "                        <td id=\"T_b9f543d0_460a_11ec_bf48_4c34883e4c5brow25_col0\" class=\"data row25 col0\" >Iterative Imputation Numeric Model</td>\n",
       "                        <td id=\"T_b9f543d0_460a_11ec_bf48_4c34883e4c5brow25_col1\" class=\"data row25 col1\" >None</td>\n",
       "            </tr>\n",
       "            <tr>\n",
       "                        <th id=\"T_b9f543d0_460a_11ec_bf48_4c34883e4c5blevel0_row26\" class=\"row_heading level0 row26\" >26</th>\n",
       "                        <td id=\"T_b9f543d0_460a_11ec_bf48_4c34883e4c5brow26_col0\" class=\"data row26 col0\" >Categorical Imputer</td>\n",
       "                        <td id=\"T_b9f543d0_460a_11ec_bf48_4c34883e4c5brow26_col1\" class=\"data row26 col1\" >constant</td>\n",
       "            </tr>\n",
       "            <tr>\n",
       "                        <th id=\"T_b9f543d0_460a_11ec_bf48_4c34883e4c5blevel0_row27\" class=\"row_heading level0 row27\" >27</th>\n",
       "                        <td id=\"T_b9f543d0_460a_11ec_bf48_4c34883e4c5brow27_col0\" class=\"data row27 col0\" >Iterative Imputation Categorical Model</td>\n",
       "                        <td id=\"T_b9f543d0_460a_11ec_bf48_4c34883e4c5brow27_col1\" class=\"data row27 col1\" >None</td>\n",
       "            </tr>\n",
       "            <tr>\n",
       "                        <th id=\"T_b9f543d0_460a_11ec_bf48_4c34883e4c5blevel0_row28\" class=\"row_heading level0 row28\" >28</th>\n",
       "                        <td id=\"T_b9f543d0_460a_11ec_bf48_4c34883e4c5brow28_col0\" class=\"data row28 col0\" >Unknown Categoricals Handling</td>\n",
       "                        <td id=\"T_b9f543d0_460a_11ec_bf48_4c34883e4c5brow28_col1\" class=\"data row28 col1\" >least_frequent</td>\n",
       "            </tr>\n",
       "            <tr>\n",
       "                        <th id=\"T_b9f543d0_460a_11ec_bf48_4c34883e4c5blevel0_row29\" class=\"row_heading level0 row29\" >29</th>\n",
       "                        <td id=\"T_b9f543d0_460a_11ec_bf48_4c34883e4c5brow29_col0\" class=\"data row29 col0\" >Normalize</td>\n",
       "                        <td id=\"T_b9f543d0_460a_11ec_bf48_4c34883e4c5brow29_col1\" class=\"data row29 col1\" >False</td>\n",
       "            </tr>\n",
       "            <tr>\n",
       "                        <th id=\"T_b9f543d0_460a_11ec_bf48_4c34883e4c5blevel0_row30\" class=\"row_heading level0 row30\" >30</th>\n",
       "                        <td id=\"T_b9f543d0_460a_11ec_bf48_4c34883e4c5brow30_col0\" class=\"data row30 col0\" >Normalize Method</td>\n",
       "                        <td id=\"T_b9f543d0_460a_11ec_bf48_4c34883e4c5brow30_col1\" class=\"data row30 col1\" >None</td>\n",
       "            </tr>\n",
       "            <tr>\n",
       "                        <th id=\"T_b9f543d0_460a_11ec_bf48_4c34883e4c5blevel0_row31\" class=\"row_heading level0 row31\" >31</th>\n",
       "                        <td id=\"T_b9f543d0_460a_11ec_bf48_4c34883e4c5brow31_col0\" class=\"data row31 col0\" >Transformation</td>\n",
       "                        <td id=\"T_b9f543d0_460a_11ec_bf48_4c34883e4c5brow31_col1\" class=\"data row31 col1\" >False</td>\n",
       "            </tr>\n",
       "            <tr>\n",
       "                        <th id=\"T_b9f543d0_460a_11ec_bf48_4c34883e4c5blevel0_row32\" class=\"row_heading level0 row32\" >32</th>\n",
       "                        <td id=\"T_b9f543d0_460a_11ec_bf48_4c34883e4c5brow32_col0\" class=\"data row32 col0\" >Transformation Method</td>\n",
       "                        <td id=\"T_b9f543d0_460a_11ec_bf48_4c34883e4c5brow32_col1\" class=\"data row32 col1\" >None</td>\n",
       "            </tr>\n",
       "            <tr>\n",
       "                        <th id=\"T_b9f543d0_460a_11ec_bf48_4c34883e4c5blevel0_row33\" class=\"row_heading level0 row33\" >33</th>\n",
       "                        <td id=\"T_b9f543d0_460a_11ec_bf48_4c34883e4c5brow33_col0\" class=\"data row33 col0\" >PCA</td>\n",
       "                        <td id=\"T_b9f543d0_460a_11ec_bf48_4c34883e4c5brow33_col1\" class=\"data row33 col1\" >False</td>\n",
       "            </tr>\n",
       "            <tr>\n",
       "                        <th id=\"T_b9f543d0_460a_11ec_bf48_4c34883e4c5blevel0_row34\" class=\"row_heading level0 row34\" >34</th>\n",
       "                        <td id=\"T_b9f543d0_460a_11ec_bf48_4c34883e4c5brow34_col0\" class=\"data row34 col0\" >PCA Method</td>\n",
       "                        <td id=\"T_b9f543d0_460a_11ec_bf48_4c34883e4c5brow34_col1\" class=\"data row34 col1\" >None</td>\n",
       "            </tr>\n",
       "            <tr>\n",
       "                        <th id=\"T_b9f543d0_460a_11ec_bf48_4c34883e4c5blevel0_row35\" class=\"row_heading level0 row35\" >35</th>\n",
       "                        <td id=\"T_b9f543d0_460a_11ec_bf48_4c34883e4c5brow35_col0\" class=\"data row35 col0\" >PCA Components</td>\n",
       "                        <td id=\"T_b9f543d0_460a_11ec_bf48_4c34883e4c5brow35_col1\" class=\"data row35 col1\" >None</td>\n",
       "            </tr>\n",
       "            <tr>\n",
       "                        <th id=\"T_b9f543d0_460a_11ec_bf48_4c34883e4c5blevel0_row36\" class=\"row_heading level0 row36\" >36</th>\n",
       "                        <td id=\"T_b9f543d0_460a_11ec_bf48_4c34883e4c5brow36_col0\" class=\"data row36 col0\" >Ignore Low Variance</td>\n",
       "                        <td id=\"T_b9f543d0_460a_11ec_bf48_4c34883e4c5brow36_col1\" class=\"data row36 col1\" >False</td>\n",
       "            </tr>\n",
       "            <tr>\n",
       "                        <th id=\"T_b9f543d0_460a_11ec_bf48_4c34883e4c5blevel0_row37\" class=\"row_heading level0 row37\" >37</th>\n",
       "                        <td id=\"T_b9f543d0_460a_11ec_bf48_4c34883e4c5brow37_col0\" class=\"data row37 col0\" >Combine Rare Levels</td>\n",
       "                        <td id=\"T_b9f543d0_460a_11ec_bf48_4c34883e4c5brow37_col1\" class=\"data row37 col1\" >False</td>\n",
       "            </tr>\n",
       "            <tr>\n",
       "                        <th id=\"T_b9f543d0_460a_11ec_bf48_4c34883e4c5blevel0_row38\" class=\"row_heading level0 row38\" >38</th>\n",
       "                        <td id=\"T_b9f543d0_460a_11ec_bf48_4c34883e4c5brow38_col0\" class=\"data row38 col0\" >Rare Level Threshold</td>\n",
       "                        <td id=\"T_b9f543d0_460a_11ec_bf48_4c34883e4c5brow38_col1\" class=\"data row38 col1\" >None</td>\n",
       "            </tr>\n",
       "            <tr>\n",
       "                        <th id=\"T_b9f543d0_460a_11ec_bf48_4c34883e4c5blevel0_row39\" class=\"row_heading level0 row39\" >39</th>\n",
       "                        <td id=\"T_b9f543d0_460a_11ec_bf48_4c34883e4c5brow39_col0\" class=\"data row39 col0\" >Numeric Binning</td>\n",
       "                        <td id=\"T_b9f543d0_460a_11ec_bf48_4c34883e4c5brow39_col1\" class=\"data row39 col1\" >False</td>\n",
       "            </tr>\n",
       "            <tr>\n",
       "                        <th id=\"T_b9f543d0_460a_11ec_bf48_4c34883e4c5blevel0_row40\" class=\"row_heading level0 row40\" >40</th>\n",
       "                        <td id=\"T_b9f543d0_460a_11ec_bf48_4c34883e4c5brow40_col0\" class=\"data row40 col0\" >Remove Outliers</td>\n",
       "                        <td id=\"T_b9f543d0_460a_11ec_bf48_4c34883e4c5brow40_col1\" class=\"data row40 col1\" >False</td>\n",
       "            </tr>\n",
       "            <tr>\n",
       "                        <th id=\"T_b9f543d0_460a_11ec_bf48_4c34883e4c5blevel0_row41\" class=\"row_heading level0 row41\" >41</th>\n",
       "                        <td id=\"T_b9f543d0_460a_11ec_bf48_4c34883e4c5brow41_col0\" class=\"data row41 col0\" >Outliers Threshold</td>\n",
       "                        <td id=\"T_b9f543d0_460a_11ec_bf48_4c34883e4c5brow41_col1\" class=\"data row41 col1\" >None</td>\n",
       "            </tr>\n",
       "            <tr>\n",
       "                        <th id=\"T_b9f543d0_460a_11ec_bf48_4c34883e4c5blevel0_row42\" class=\"row_heading level0 row42\" >42</th>\n",
       "                        <td id=\"T_b9f543d0_460a_11ec_bf48_4c34883e4c5brow42_col0\" class=\"data row42 col0\" >Remove Multicollinearity</td>\n",
       "                        <td id=\"T_b9f543d0_460a_11ec_bf48_4c34883e4c5brow42_col1\" class=\"data row42 col1\" >False</td>\n",
       "            </tr>\n",
       "            <tr>\n",
       "                        <th id=\"T_b9f543d0_460a_11ec_bf48_4c34883e4c5blevel0_row43\" class=\"row_heading level0 row43\" >43</th>\n",
       "                        <td id=\"T_b9f543d0_460a_11ec_bf48_4c34883e4c5brow43_col0\" class=\"data row43 col0\" >Multicollinearity Threshold</td>\n",
       "                        <td id=\"T_b9f543d0_460a_11ec_bf48_4c34883e4c5brow43_col1\" class=\"data row43 col1\" >None</td>\n",
       "            </tr>\n",
       "            <tr>\n",
       "                        <th id=\"T_b9f543d0_460a_11ec_bf48_4c34883e4c5blevel0_row44\" class=\"row_heading level0 row44\" >44</th>\n",
       "                        <td id=\"T_b9f543d0_460a_11ec_bf48_4c34883e4c5brow44_col0\" class=\"data row44 col0\" >Remove Perfect Collinearity</td>\n",
       "                        <td id=\"T_b9f543d0_460a_11ec_bf48_4c34883e4c5brow44_col1\" class=\"data row44 col1\" >True</td>\n",
       "            </tr>\n",
       "            <tr>\n",
       "                        <th id=\"T_b9f543d0_460a_11ec_bf48_4c34883e4c5blevel0_row45\" class=\"row_heading level0 row45\" >45</th>\n",
       "                        <td id=\"T_b9f543d0_460a_11ec_bf48_4c34883e4c5brow45_col0\" class=\"data row45 col0\" >Clustering</td>\n",
       "                        <td id=\"T_b9f543d0_460a_11ec_bf48_4c34883e4c5brow45_col1\" class=\"data row45 col1\" >False</td>\n",
       "            </tr>\n",
       "            <tr>\n",
       "                        <th id=\"T_b9f543d0_460a_11ec_bf48_4c34883e4c5blevel0_row46\" class=\"row_heading level0 row46\" >46</th>\n",
       "                        <td id=\"T_b9f543d0_460a_11ec_bf48_4c34883e4c5brow46_col0\" class=\"data row46 col0\" >Clustering Iteration</td>\n",
       "                        <td id=\"T_b9f543d0_460a_11ec_bf48_4c34883e4c5brow46_col1\" class=\"data row46 col1\" >None</td>\n",
       "            </tr>\n",
       "            <tr>\n",
       "                        <th id=\"T_b9f543d0_460a_11ec_bf48_4c34883e4c5blevel0_row47\" class=\"row_heading level0 row47\" >47</th>\n",
       "                        <td id=\"T_b9f543d0_460a_11ec_bf48_4c34883e4c5brow47_col0\" class=\"data row47 col0\" >Polynomial Features</td>\n",
       "                        <td id=\"T_b9f543d0_460a_11ec_bf48_4c34883e4c5brow47_col1\" class=\"data row47 col1\" >False</td>\n",
       "            </tr>\n",
       "            <tr>\n",
       "                        <th id=\"T_b9f543d0_460a_11ec_bf48_4c34883e4c5blevel0_row48\" class=\"row_heading level0 row48\" >48</th>\n",
       "                        <td id=\"T_b9f543d0_460a_11ec_bf48_4c34883e4c5brow48_col0\" class=\"data row48 col0\" >Polynomial Degree</td>\n",
       "                        <td id=\"T_b9f543d0_460a_11ec_bf48_4c34883e4c5brow48_col1\" class=\"data row48 col1\" >None</td>\n",
       "            </tr>\n",
       "            <tr>\n",
       "                        <th id=\"T_b9f543d0_460a_11ec_bf48_4c34883e4c5blevel0_row49\" class=\"row_heading level0 row49\" >49</th>\n",
       "                        <td id=\"T_b9f543d0_460a_11ec_bf48_4c34883e4c5brow49_col0\" class=\"data row49 col0\" >Trignometry Features</td>\n",
       "                        <td id=\"T_b9f543d0_460a_11ec_bf48_4c34883e4c5brow49_col1\" class=\"data row49 col1\" >False</td>\n",
       "            </tr>\n",
       "            <tr>\n",
       "                        <th id=\"T_b9f543d0_460a_11ec_bf48_4c34883e4c5blevel0_row50\" class=\"row_heading level0 row50\" >50</th>\n",
       "                        <td id=\"T_b9f543d0_460a_11ec_bf48_4c34883e4c5brow50_col0\" class=\"data row50 col0\" >Polynomial Threshold</td>\n",
       "                        <td id=\"T_b9f543d0_460a_11ec_bf48_4c34883e4c5brow50_col1\" class=\"data row50 col1\" >None</td>\n",
       "            </tr>\n",
       "            <tr>\n",
       "                        <th id=\"T_b9f543d0_460a_11ec_bf48_4c34883e4c5blevel0_row51\" class=\"row_heading level0 row51\" >51</th>\n",
       "                        <td id=\"T_b9f543d0_460a_11ec_bf48_4c34883e4c5brow51_col0\" class=\"data row51 col0\" >Group Features</td>\n",
       "                        <td id=\"T_b9f543d0_460a_11ec_bf48_4c34883e4c5brow51_col1\" class=\"data row51 col1\" >False</td>\n",
       "            </tr>\n",
       "            <tr>\n",
       "                        <th id=\"T_b9f543d0_460a_11ec_bf48_4c34883e4c5blevel0_row52\" class=\"row_heading level0 row52\" >52</th>\n",
       "                        <td id=\"T_b9f543d0_460a_11ec_bf48_4c34883e4c5brow52_col0\" class=\"data row52 col0\" >Feature Selection</td>\n",
       "                        <td id=\"T_b9f543d0_460a_11ec_bf48_4c34883e4c5brow52_col1\" class=\"data row52 col1\" >False</td>\n",
       "            </tr>\n",
       "            <tr>\n",
       "                        <th id=\"T_b9f543d0_460a_11ec_bf48_4c34883e4c5blevel0_row53\" class=\"row_heading level0 row53\" >53</th>\n",
       "                        <td id=\"T_b9f543d0_460a_11ec_bf48_4c34883e4c5brow53_col0\" class=\"data row53 col0\" >Feature Selection Method</td>\n",
       "                        <td id=\"T_b9f543d0_460a_11ec_bf48_4c34883e4c5brow53_col1\" class=\"data row53 col1\" >classic</td>\n",
       "            </tr>\n",
       "            <tr>\n",
       "                        <th id=\"T_b9f543d0_460a_11ec_bf48_4c34883e4c5blevel0_row54\" class=\"row_heading level0 row54\" >54</th>\n",
       "                        <td id=\"T_b9f543d0_460a_11ec_bf48_4c34883e4c5brow54_col0\" class=\"data row54 col0\" >Features Selection Threshold</td>\n",
       "                        <td id=\"T_b9f543d0_460a_11ec_bf48_4c34883e4c5brow54_col1\" class=\"data row54 col1\" >None</td>\n",
       "            </tr>\n",
       "            <tr>\n",
       "                        <th id=\"T_b9f543d0_460a_11ec_bf48_4c34883e4c5blevel0_row55\" class=\"row_heading level0 row55\" >55</th>\n",
       "                        <td id=\"T_b9f543d0_460a_11ec_bf48_4c34883e4c5brow55_col0\" class=\"data row55 col0\" >Feature Interaction</td>\n",
       "                        <td id=\"T_b9f543d0_460a_11ec_bf48_4c34883e4c5brow55_col1\" class=\"data row55 col1\" >False</td>\n",
       "            </tr>\n",
       "            <tr>\n",
       "                        <th id=\"T_b9f543d0_460a_11ec_bf48_4c34883e4c5blevel0_row56\" class=\"row_heading level0 row56\" >56</th>\n",
       "                        <td id=\"T_b9f543d0_460a_11ec_bf48_4c34883e4c5brow56_col0\" class=\"data row56 col0\" >Feature Ratio</td>\n",
       "                        <td id=\"T_b9f543d0_460a_11ec_bf48_4c34883e4c5brow56_col1\" class=\"data row56 col1\" >False</td>\n",
       "            </tr>\n",
       "            <tr>\n",
       "                        <th id=\"T_b9f543d0_460a_11ec_bf48_4c34883e4c5blevel0_row57\" class=\"row_heading level0 row57\" >57</th>\n",
       "                        <td id=\"T_b9f543d0_460a_11ec_bf48_4c34883e4c5brow57_col0\" class=\"data row57 col0\" >Interaction Threshold</td>\n",
       "                        <td id=\"T_b9f543d0_460a_11ec_bf48_4c34883e4c5brow57_col1\" class=\"data row57 col1\" >None</td>\n",
       "            </tr>\n",
       "            <tr>\n",
       "                        <th id=\"T_b9f543d0_460a_11ec_bf48_4c34883e4c5blevel0_row58\" class=\"row_heading level0 row58\" >58</th>\n",
       "                        <td id=\"T_b9f543d0_460a_11ec_bf48_4c34883e4c5brow58_col0\" class=\"data row58 col0\" >Fix Imbalance</td>\n",
       "                        <td id=\"T_b9f543d0_460a_11ec_bf48_4c34883e4c5brow58_col1\" class=\"data row58 col1\" >False</td>\n",
       "            </tr>\n",
       "            <tr>\n",
       "                        <th id=\"T_b9f543d0_460a_11ec_bf48_4c34883e4c5blevel0_row59\" class=\"row_heading level0 row59\" >59</th>\n",
       "                        <td id=\"T_b9f543d0_460a_11ec_bf48_4c34883e4c5brow59_col0\" class=\"data row59 col0\" >Fix Imbalance Method</td>\n",
       "                        <td id=\"T_b9f543d0_460a_11ec_bf48_4c34883e4c5brow59_col1\" class=\"data row59 col1\" >SMOTE</td>\n",
       "            </tr>\n",
       "    </tbody></table>"
      ],
      "text/plain": [
       "<pandas.io.formats.style.Styler at 0x23e3f94ad90>"
      ]
     },
     "metadata": {},
     "output_type": "display_data"
    }
   ],
   "source": [
    "#Show data type inference using pycaret\n",
    "types = setup(df, target = 'Response')"
   ]
  },
  {
   "cell_type": "markdown",
   "metadata": {
    "id": "socrbogaFHcf"
   },
   "source": [
    "# Functions"
   ]
  },
  {
   "cell_type": "code",
   "execution_count": 7,
   "metadata": {
    "id": "gLEAPdR5ETZU"
   },
   "outputs": [],
   "source": [
    "def plotROC(fpr,tpr, roc_auc):\n",
    "    \"\"\"\n",
    "    This function plots the ROC curve which in simple terms compares\n",
    "    the performance of our model to a random guess\n",
    "\n",
    "    params:\n",
    "      fpr: numpy.array\n",
    "      tpr: numpy.array\n",
    "\n",
    "    :return:\n",
    "      ROC curve: matplotlib.pyplot\n",
    "    \"\"\"\n",
    "\n",
    "    plt.plot([0, 1], [0, 1], 'k--')\n",
    "    plt.plot(fpr, tpr, label = 'AUC = %0.3f' % roc_auc)\n",
    "    plt.legend(loc = 'lower right')\n",
    "    plt.xlabel('False Positive Rate')\n",
    "    plt.ylabel('True Positive Rate')\n",
    "    plt.title('ROC Curve')\n",
    "    plt.show()"
   ]
  },
  {
   "cell_type": "code",
   "execution_count": 8,
   "metadata": {
    "id": "-pRH78e6FFgZ"
   },
   "outputs": [],
   "source": [
    "\n",
    "def data_preprocess(data,type):\n",
    "    \"\"\"\n",
    "    This function is used to prepare the data to be runable \n",
    "    for the models. We have three types of data in the dataframe.\n",
    "    Continous, which is Annual_Premium & Vintage, Nominal categorical variables\n",
    "    which is Gender, Region_Code, Vehicle_Damage and Ordinal Categorical variables\n",
    "    which is vehicle age. Here we also differentiate between trees and logistic regression,\n",
    "    as the tree structure requires us to do integer encoding for the vehicle age.\n",
    "\n",
    "    params:\n",
    "      data: pd.DataFrame\n",
    "      type: str\n",
    "\n",
    "    :return:\n",
    "      X_train: pd.DataFrame\n",
    "      y_train: pd.DataFrame\n",
    "    \"\"\"\n",
    "\n",
    "    data = data.copy()\n",
    "    \n",
    "    if type == \"trees\":\n",
    "        le = LabelEncoder()\n",
    "        \n",
    "        # Integer Encoding\n",
    "        data[\"Vehicle_Age\"] = le.fit_transform(data[\"Vehicle_Age\"]) # 1-2 year = 0, < 1 year = 1, > 2 year = 2\n",
    "\n",
    "        # Dummy Encoding \n",
    "        # Vehicle_Age - VA, Region_Code - RC, Vehicle_Damage - VD\n",
    "        data = pd.get_dummies(data,columns=[\"Region_Code\",\"Gender\",\"Vehicle_Damage\"], \n",
    "                                prefix=[\"RC\",\"Gender\",\"VD\"], drop_first=True)\n",
    "\n",
    "        # Split into train \n",
    "        y_train = data.loc[:, 'Response']\n",
    "        X_train = data.drop('Response', 1)\n",
    "\n",
    "        return X_train, y_train\n",
    "\n",
    "    elif type == \"LogReg\":\n",
    "        # Dummy Encoding \n",
    "        # Vehicle_Age - VA, Region_Code - RC, Vehicle_Damage - VD\n",
    "        data = pd.get_dummies(data,columns=[\"Vehicle_Age\",\"Region_Code\",\"Gender\",\"Vehicle_Damage\"], \n",
    "                                        prefix=[\"VA\",\"RC\",\"Gender\",\"VD\"])\n",
    "\n",
    "        data = data.rename(columns={\"VA_1-2 Year\": \"VA_1-2\", \"VA_< 1 Year\": \"VA<1\", \"VA_> 2 Years\": \"VA>2\"})\n",
    "\n",
    "        # Drop dummy columns to avoid collinearity\n",
    "        data = data.drop(columns=['VA<1', 'RC_3', 'Gender_Female', 'VD_No'])\n",
    "\n",
    "        # Split into train\n",
    "        y_train = data.loc[:, 'Response']\n",
    "        X_train = data.drop('Response', 1)\n",
    "\n",
    "        return X_train, y_train"
   ]
  },
  {
   "cell_type": "markdown",
   "metadata": {
    "id": "XYnLMlyjFR8L"
   },
   "source": [
    "# Classification Tree"
   ]
  },
  {
   "cell_type": "code",
   "execution_count": 9,
   "metadata": {
    "id": "LSeMdDQjFFpC"
   },
   "outputs": [],
   "source": [
    "# Preprocess Data for CT \n",
    "X_train = data_preprocess(df, \"trees\")[0]\n",
    "y_train = data_preprocess(df, \"trees\")[1]\n",
    "\n",
    "X_test = data_preprocess(df_test, \"trees\")[0]\n",
    "y_test = data_preprocess(df_test, \"trees\")[1]"
   ]
  },
  {
   "cell_type": "code",
   "execution_count": 10,
   "metadata": {
    "colab": {
     "base_uri": "https://localhost:8080/"
    },
    "id": "i7x-g3tWtt1z",
    "outputId": "3a489209-dd13-454f-cc10-747d98903840"
   },
   "outputs": [
    {
     "name": "stdout",
     "output_type": "stream",
     "text": [
      "mean_test_score: 0.816\n",
      "mean_train_score: 0.821\n"
     ]
    }
   ],
   "source": [
    "# Training Set \n",
    "\n",
    "# Create a DT Classifier with specified criterion\n",
    "clf = DecisionTreeClassifier(random_state=1)\n",
    "\n",
    "# Create the parameter grid to allow GridSearchCV to selevt the optimal parameters for prediction\n",
    "param_grid = {\"max_depth\": [1,2,3], \n",
    "                \"min_samples_leaf\": [2,5,10,20]} \n",
    "\n",
    "# Create a GridSearchCV object\n",
    "grid_clf_class = GridSearchCV(estimator=clf,\n",
    "                            param_grid=param_grid,\n",
    "                            scoring=\"roc_auc\",\n",
    "                            cv=5,\n",
    "                            refit=True,\n",
    "                            return_train_score=True)\n",
    "\n",
    "# Create model \n",
    "clf_result = grid_clf_class.fit(X_train, y_train)\n",
    "\n",
    "# Checking of GridSearch results \n",
    "result = pd.DataFrame(clf_result.cv_results_)\n",
    "result = result[result[\"rank_test_score\"] == 1][[\"mean_test_score\",\"mean_train_score\"]]\n",
    "\n",
    "mean_test_score = result.values[0][0]\n",
    "mean_train_score = result.values[0][1]\n",
    "\n",
    "print(\"mean_test_score:\", round(mean_test_score,3))\n",
    "print(\"mean_train_score:\", round(mean_train_score,3))"
   ]
  },
  {
   "cell_type": "code",
   "execution_count": 11,
   "metadata": {
    "colab": {
     "base_uri": "https://localhost:8080/",
     "height": 329
    },
    "id": "OrV1PH0quByJ",
    "outputId": "e09fffb5-6407-4747-f911-c4e4d5da217f"
   },
   "outputs": [
    {
     "data": {
      "image/png": "[encoded data removed]",
      "text/plain": [
       "<Figure size 432x288 with 1 Axes>"
      ]
     },
     "metadata": {
      "needs_background": "light"
     },
     "output_type": "display_data"
    },
    {
     "name": "stdout",
     "output_type": "stream",
     "text": [
      "Best Parameters for Classification Tree: {'max_depth': 3, 'min_samples_leaf': 20}\n",
      "Train ROC-AUC Score for Classification Tree: 0.822\n"
     ]
    }
   ],
   "source": [
    "# Evaluate probabilities based on training set, as we are not making a prediction yet, but merely choosing the best model\n",
    "best_params = clf_result.best_params_\n",
    "predictions_proba = grid_clf_class.best_estimator_.predict_proba(X_train)[:,1]\n",
    "\n",
    "# Compute fpr & tpr\n",
    "fpr, tpr, _ = roc_curve(y_train, predictions_proba)\n",
    "auroc_dt_train = roc_auc_score(y_train, predictions_proba)\n",
    "\n",
    "plotROC(fpr,tpr, auroc_dt_train)\n",
    "\n",
    "print(\"Best Parameters for Classification Tree:\",best_params)\n",
    "print(\"Train ROC-AUC Score for Classification Tree:\", round(auroc_dt_train,3))"
   ]
  },
  {
   "cell_type": "code",
   "execution_count": 12,
   "metadata": {
    "colab": {
     "base_uri": "https://localhost:8080/",
     "height": 582
    },
    "id": "oPUlOqvFFFto",
    "outputId": "53308f37-8e6a-4217-cc04-3d5f9cef9d47"
   },
   "outputs": [
    {
     "ename": "ExecutableNotFound",
     "evalue": "failed to execute WindowsPath('dot'), make sure the Graphviz executables are on your systems' PATH",
     "output_type": "error",
     "traceback": [
      "\u001b[1;31m---------------------------------------------------------------------------\u001b[0m",
      "\u001b[1;31mFileNotFoundError\u001b[0m                         Traceback (most recent call last)",
      "\u001b[1;32m~\\anaconda3\\lib\\site-packages\\graphviz\\backend\\execute.py\u001b[0m in \u001b[0;36mrun_check\u001b[1;34m(cmd, input_lines, encoding, capture_output, quiet, **kwargs)\u001b[0m\n\u001b[0;32m     82\u001b[0m             \u001b[1;32massert\u001b[0m \u001b[0miter\u001b[0m\u001b[1;33m(\u001b[0m\u001b[0minput_lines\u001b[0m\u001b[1;33m)\u001b[0m \u001b[1;32mis\u001b[0m \u001b[0minput_lines\u001b[0m\u001b[1;33m\u001b[0m\u001b[1;33m\u001b[0m\u001b[0m\n\u001b[1;32m---> 83\u001b[1;33m             \u001b[0mproc\u001b[0m \u001b[1;33m=\u001b[0m \u001b[0m_run_input_lines\u001b[0m\u001b[1;33m(\u001b[0m\u001b[0mcmd\u001b[0m\u001b[1;33m,\u001b[0m \u001b[0minput_lines\u001b[0m\u001b[1;33m,\u001b[0m \u001b[0mkwargs\u001b[0m\u001b[1;33m=\u001b[0m\u001b[0mkwargs\u001b[0m\u001b[1;33m)\u001b[0m\u001b[1;33m\u001b[0m\u001b[1;33m\u001b[0m\u001b[0m\n\u001b[0m\u001b[0;32m     84\u001b[0m         \u001b[1;32melse\u001b[0m\u001b[1;33m:\u001b[0m\u001b[1;33m\u001b[0m\u001b[1;33m\u001b[0m\u001b[0m\n",
      "\u001b[1;32m~\\anaconda3\\lib\\site-packages\\graphviz\\backend\\execute.py\u001b[0m in \u001b[0;36m_run_input_lines\u001b[1;34m(cmd, input_lines, kwargs)\u001b[0m\n\u001b[0;32m    102\u001b[0m \u001b[1;32mdef\u001b[0m \u001b[0m_run_input_lines\u001b[0m\u001b[1;33m(\u001b[0m\u001b[0mcmd\u001b[0m\u001b[1;33m,\u001b[0m \u001b[0minput_lines\u001b[0m\u001b[1;33m,\u001b[0m \u001b[1;33m*\u001b[0m\u001b[1;33m,\u001b[0m \u001b[0mkwargs\u001b[0m\u001b[1;33m)\u001b[0m\u001b[1;33m:\u001b[0m\u001b[1;33m\u001b[0m\u001b[1;33m\u001b[0m\u001b[0m\n\u001b[1;32m--> 103\u001b[1;33m     \u001b[0mpopen\u001b[0m \u001b[1;33m=\u001b[0m \u001b[0msubprocess\u001b[0m\u001b[1;33m.\u001b[0m\u001b[0mPopen\u001b[0m\u001b[1;33m(\u001b[0m\u001b[0mcmd\u001b[0m\u001b[1;33m,\u001b[0m \u001b[0mstdin\u001b[0m\u001b[1;33m=\u001b[0m\u001b[0msubprocess\u001b[0m\u001b[1;33m.\u001b[0m\u001b[0mPIPE\u001b[0m\u001b[1;33m,\u001b[0m \u001b[1;33m**\u001b[0m\u001b[0mkwargs\u001b[0m\u001b[1;33m)\u001b[0m\u001b[1;33m\u001b[0m\u001b[1;33m\u001b[0m\u001b[0m\n\u001b[0m\u001b[0;32m    104\u001b[0m \u001b[1;33m\u001b[0m\u001b[0m\n",
      "\u001b[1;32m~\\anaconda3\\lib\\subprocess.py\u001b[0m in \u001b[0;36m__init__\u001b[1;34m(self, args, bufsize, executable, stdin, stdout, stderr, preexec_fn, close_fds, shell, cwd, env, universal_newlines, startupinfo, creationflags, restore_signals, start_new_session, pass_fds, encoding, errors, text)\u001b[0m\n\u001b[0;32m    853\u001b[0m \u001b[1;33m\u001b[0m\u001b[0m\n\u001b[1;32m--> 854\u001b[1;33m             self._execute_child(args, executable, preexec_fn, close_fds,\n\u001b[0m\u001b[0;32m    855\u001b[0m                                 \u001b[0mpass_fds\u001b[0m\u001b[1;33m,\u001b[0m \u001b[0mcwd\u001b[0m\u001b[1;33m,\u001b[0m \u001b[0menv\u001b[0m\u001b[1;33m,\u001b[0m\u001b[1;33m\u001b[0m\u001b[1;33m\u001b[0m\u001b[0m\n",
      "\u001b[1;32m~\\anaconda3\\lib\\subprocess.py\u001b[0m in \u001b[0;36m_execute_child\u001b[1;34m(self, args, executable, preexec_fn, close_fds, pass_fds, cwd, env, startupinfo, creationflags, shell, p2cread, p2cwrite, c2pread, c2pwrite, errread, errwrite, unused_restore_signals, unused_start_new_session)\u001b[0m\n\u001b[0;32m   1306\u001b[0m             \u001b[1;32mtry\u001b[0m\u001b[1;33m:\u001b[0m\u001b[1;33m\u001b[0m\u001b[1;33m\u001b[0m\u001b[0m\n\u001b[1;32m-> 1307\u001b[1;33m                 hp, ht, pid, tid = _winapi.CreateProcess(executable, args,\n\u001b[0m\u001b[0;32m   1308\u001b[0m                                          \u001b[1;31m# no special security\u001b[0m\u001b[1;33m\u001b[0m\u001b[1;33m\u001b[0m\u001b[1;33m\u001b[0m\u001b[0m\n",
      "\u001b[1;31mFileNotFoundError\u001b[0m: [WinError 2] The system cannot find the file specified",
      "\nThe above exception was the direct cause of the following exception:\n",
      "\u001b[1;31mExecutableNotFound\u001b[0m                        Traceback (most recent call last)",
      "\u001b[1;32m~\\anaconda3\\lib\\site-packages\\IPython\\core\\formatters.py\u001b[0m in \u001b[0;36m__call__\u001b[1;34m(self, obj)\u001b[0m\n\u001b[0;32m    343\u001b[0m             \u001b[0mmethod\u001b[0m \u001b[1;33m=\u001b[0m \u001b[0mget_real_method\u001b[0m\u001b[1;33m(\u001b[0m\u001b[0mobj\u001b[0m\u001b[1;33m,\u001b[0m \u001b[0mself\u001b[0m\u001b[1;33m.\u001b[0m\u001b[0mprint_method\u001b[0m\u001b[1;33m)\u001b[0m\u001b[1;33m\u001b[0m\u001b[1;33m\u001b[0m\u001b[0m\n\u001b[0;32m    344\u001b[0m             \u001b[1;32mif\u001b[0m \u001b[0mmethod\u001b[0m \u001b[1;32mis\u001b[0m \u001b[1;32mnot\u001b[0m \u001b[1;32mNone\u001b[0m\u001b[1;33m:\u001b[0m\u001b[1;33m\u001b[0m\u001b[1;33m\u001b[0m\u001b[0m\n\u001b[1;32m--> 345\u001b[1;33m                 \u001b[1;32mreturn\u001b[0m \u001b[0mmethod\u001b[0m\u001b[1;33m(\u001b[0m\u001b[1;33m)\u001b[0m\u001b[1;33m\u001b[0m\u001b[1;33m\u001b[0m\u001b[0m\n\u001b[0m\u001b[0;32m    346\u001b[0m             \u001b[1;32mreturn\u001b[0m \u001b[1;32mNone\u001b[0m\u001b[1;33m\u001b[0m\u001b[1;33m\u001b[0m\u001b[0m\n\u001b[0;32m    347\u001b[0m         \u001b[1;32melse\u001b[0m\u001b[1;33m:\u001b[0m\u001b[1;33m\u001b[0m\u001b[1;33m\u001b[0m\u001b[0m\n",
      "\u001b[1;32m~\\anaconda3\\lib\\site-packages\\graphviz\\jupyter_integration.py\u001b[0m in \u001b[0;36m_repr_svg_\u001b[1;34m(self)\u001b[0m\n\u001b[0;32m     10\u001b[0m \u001b[1;33m\u001b[0m\u001b[0m\n\u001b[0;32m     11\u001b[0m     \u001b[1;32mdef\u001b[0m \u001b[0m_repr_svg_\u001b[0m\u001b[1;33m(\u001b[0m\u001b[0mself\u001b[0m\u001b[1;33m)\u001b[0m\u001b[1;33m:\u001b[0m\u001b[1;33m\u001b[0m\u001b[1;33m\u001b[0m\u001b[0m\n\u001b[1;32m---> 12\u001b[1;33m         \u001b[1;32mreturn\u001b[0m \u001b[0mself\u001b[0m\u001b[1;33m.\u001b[0m\u001b[0mpipe\u001b[0m\u001b[1;33m(\u001b[0m\u001b[0mformat\u001b[0m\u001b[1;33m=\u001b[0m\u001b[1;34m'svg'\u001b[0m\u001b[1;33m,\u001b[0m \u001b[0mencoding\u001b[0m\u001b[1;33m=\u001b[0m\u001b[0mself\u001b[0m\u001b[1;33m.\u001b[0m\u001b[0m_encoding\u001b[0m\u001b[1;33m)\u001b[0m\u001b[1;33m\u001b[0m\u001b[1;33m\u001b[0m\u001b[0m\n\u001b[0m",
      "\u001b[1;32m~\\anaconda3\\lib\\site-packages\\graphviz\\piping.py\u001b[0m in \u001b[0;36mpipe\u001b[1;34m(self, format, renderer, formatter, quiet, engine, encoding)\u001b[0m\n\u001b[0;32m    111\u001b[0m             \u001b[1;32mif\u001b[0m \u001b[0mcodecs\u001b[0m\u001b[1;33m.\u001b[0m\u001b[0mlookup\u001b[0m\u001b[1;33m(\u001b[0m\u001b[0mencoding\u001b[0m\u001b[1;33m)\u001b[0m \u001b[1;32mis\u001b[0m \u001b[0mcodecs\u001b[0m\u001b[1;33m.\u001b[0m\u001b[0mlookup\u001b[0m\u001b[1;33m(\u001b[0m\u001b[0mself\u001b[0m\u001b[1;33m.\u001b[0m\u001b[0m_encoding\u001b[0m\u001b[1;33m)\u001b[0m\u001b[1;33m:\u001b[0m\u001b[1;33m\u001b[0m\u001b[1;33m\u001b[0m\u001b[0m\n\u001b[0;32m    112\u001b[0m                 \u001b[1;31m# common case: both stdin and stdout need the same encoding\u001b[0m\u001b[1;33m\u001b[0m\u001b[1;33m\u001b[0m\u001b[1;33m\u001b[0m\u001b[0m\n\u001b[1;32m--> 113\u001b[1;33m                 \u001b[1;32mreturn\u001b[0m \u001b[0mself\u001b[0m\u001b[1;33m.\u001b[0m\u001b[0m_pipe_lines_string\u001b[0m\u001b[1;33m(\u001b[0m\u001b[1;33m*\u001b[0m\u001b[0margs\u001b[0m\u001b[1;33m,\u001b[0m \u001b[0mencoding\u001b[0m\u001b[1;33m=\u001b[0m\u001b[0mencoding\u001b[0m\u001b[1;33m,\u001b[0m \u001b[1;33m**\u001b[0m\u001b[0mkwargs\u001b[0m\u001b[1;33m)\u001b[0m\u001b[1;33m\u001b[0m\u001b[1;33m\u001b[0m\u001b[0m\n\u001b[0m\u001b[0;32m    114\u001b[0m             \u001b[0mraw\u001b[0m \u001b[1;33m=\u001b[0m \u001b[0mself\u001b[0m\u001b[1;33m.\u001b[0m\u001b[0m_pipe_lines\u001b[0m\u001b[1;33m(\u001b[0m\u001b[1;33m*\u001b[0m\u001b[0margs\u001b[0m\u001b[1;33m,\u001b[0m \u001b[0minput_encoding\u001b[0m\u001b[1;33m=\u001b[0m\u001b[0mself\u001b[0m\u001b[1;33m.\u001b[0m\u001b[0m_encoding\u001b[0m\u001b[1;33m,\u001b[0m \u001b[1;33m**\u001b[0m\u001b[0mkwargs\u001b[0m\u001b[1;33m)\u001b[0m\u001b[1;33m\u001b[0m\u001b[1;33m\u001b[0m\u001b[0m\n\u001b[0;32m    115\u001b[0m             \u001b[1;32mreturn\u001b[0m \u001b[0mraw\u001b[0m\u001b[1;33m.\u001b[0m\u001b[0mdecode\u001b[0m\u001b[1;33m(\u001b[0m\u001b[0mencoding\u001b[0m\u001b[1;33m)\u001b[0m\u001b[1;33m\u001b[0m\u001b[1;33m\u001b[0m\u001b[0m\n",
      "\u001b[1;32m~\\anaconda3\\lib\\site-packages\\graphviz\\backend\\piping.py\u001b[0m in \u001b[0;36mpipe_lines_string\u001b[1;34m(engine, format, input_lines, encoding, renderer, formatter, quiet)\u001b[0m\n\u001b[0;32m    195\u001b[0m     \u001b[0mkwargs\u001b[0m \u001b[1;33m=\u001b[0m \u001b[1;33m{\u001b[0m\u001b[1;34m'input_lines'\u001b[0m\u001b[1;33m:\u001b[0m \u001b[0minput_lines\u001b[0m\u001b[1;33m,\u001b[0m \u001b[1;34m'encoding'\u001b[0m\u001b[1;33m:\u001b[0m \u001b[0mencoding\u001b[0m\u001b[1;33m}\u001b[0m\u001b[1;33m\u001b[0m\u001b[1;33m\u001b[0m\u001b[0m\n\u001b[0;32m    196\u001b[0m \u001b[1;33m\u001b[0m\u001b[0m\n\u001b[1;32m--> 197\u001b[1;33m     \u001b[0mproc\u001b[0m \u001b[1;33m=\u001b[0m \u001b[0mexecute\u001b[0m\u001b[1;33m.\u001b[0m\u001b[0mrun_check\u001b[0m\u001b[1;33m(\u001b[0m\u001b[0mcmd\u001b[0m\u001b[1;33m,\u001b[0m \u001b[0mcapture_output\u001b[0m\u001b[1;33m=\u001b[0m\u001b[1;32mTrue\u001b[0m\u001b[1;33m,\u001b[0m \u001b[0mquiet\u001b[0m\u001b[1;33m=\u001b[0m\u001b[0mquiet\u001b[0m\u001b[1;33m,\u001b[0m \u001b[1;33m**\u001b[0m\u001b[0mkwargs\u001b[0m\u001b[1;33m)\u001b[0m\u001b[1;33m\u001b[0m\u001b[1;33m\u001b[0m\u001b[0m\n\u001b[0m\u001b[0;32m    198\u001b[0m     \u001b[1;32mreturn\u001b[0m \u001b[0mproc\u001b[0m\u001b[1;33m.\u001b[0m\u001b[0mstdout\u001b[0m\u001b[1;33m\u001b[0m\u001b[1;33m\u001b[0m\u001b[0m\n",
      "\u001b[1;32m~\\anaconda3\\lib\\site-packages\\graphviz\\backend\\execute.py\u001b[0m in \u001b[0;36mrun_check\u001b[1;34m(cmd, input_lines, encoding, capture_output, quiet, **kwargs)\u001b[0m\n\u001b[0;32m     86\u001b[0m     \u001b[1;32mexcept\u001b[0m \u001b[0mOSError\u001b[0m \u001b[1;32mas\u001b[0m \u001b[0me\u001b[0m\u001b[1;33m:\u001b[0m\u001b[1;33m\u001b[0m\u001b[1;33m\u001b[0m\u001b[0m\n\u001b[0;32m     87\u001b[0m         \u001b[1;32mif\u001b[0m \u001b[0me\u001b[0m\u001b[1;33m.\u001b[0m\u001b[0merrno\u001b[0m \u001b[1;33m==\u001b[0m \u001b[0merrno\u001b[0m\u001b[1;33m.\u001b[0m\u001b[0mENOENT\u001b[0m\u001b[1;33m:\u001b[0m\u001b[1;33m\u001b[0m\u001b[1;33m\u001b[0m\u001b[0m\n\u001b[1;32m---> 88\u001b[1;33m             \u001b[1;32mraise\u001b[0m \u001b[0mExecutableNotFound\u001b[0m\u001b[1;33m(\u001b[0m\u001b[0mcmd\u001b[0m\u001b[1;33m)\u001b[0m \u001b[1;32mfrom\u001b[0m \u001b[0me\u001b[0m\u001b[1;33m\u001b[0m\u001b[1;33m\u001b[0m\u001b[0m\n\u001b[0m\u001b[0;32m     89\u001b[0m         \u001b[1;32mraise\u001b[0m\u001b[1;33m\u001b[0m\u001b[1;33m\u001b[0m\u001b[0m\n\u001b[0;32m     90\u001b[0m \u001b[1;33m\u001b[0m\u001b[0m\n",
      "\u001b[1;31mExecutableNotFound\u001b[0m: failed to execute WindowsPath('dot'), make sure the Graphviz executables are on your systems' PATH"
     ]
    },
    {
     "data": {
      "text/plain": [
       "<graphviz.sources.Source at 0x23e3fc1e040>"
      ]
     },
     "execution_count": 12,
     "metadata": {},
     "output_type": "execute_result"
    }
   ],
   "source": [
    "feature_names = X_train.columns\n",
    "dot_data = export_graphviz(grid_clf_class.best_estimator_, out_file=None, \n",
    "            filled=True, rounded=True, feature_names=feature_names, class_names=True)\n",
    "\n",
    "# Decision Tree\n",
    "pydot_graph = pydotplus.graph_from_dot_data(dot_data)\n",
    "pydot_graph.set_size('\"15,15!\"')\n",
    "gvz_graph = graphviz.Source(pydot_graph.to_string())\n",
    "\n",
    "gvz_graph"
   ]
  },
  {
   "cell_type": "code",
   "execution_count": 13,
   "metadata": {
    "colab": {
     "base_uri": "https://localhost:8080/",
     "height": 312
    },
    "id": "R2hMs7cmFFvi",
    "outputId": "0c5dbcc5-e3de-4bbc-e1ca-584d6b1cfdda"
   },
   "outputs": [
    {
     "data": {
      "image/png": "[encoded data removed]",
      "text/plain": [
       "<Figure size 432x288 with 1 Axes>"
      ]
     },
     "metadata": {
      "needs_background": "light"
     },
     "output_type": "display_data"
    },
    {
     "name": "stdout",
     "output_type": "stream",
     "text": [
      "Test ROC-AUC Score for Classification Tree: 0.813\n"
     ]
    }
   ],
   "source": [
    "# Test Set \n",
    "predictions_proba = grid_clf_class.best_estimator_.predict_proba(X_test)[:,1]\n",
    "\n",
    "# Compute fpr & tpr\n",
    "fpr, tpr, _ = roc_curve(y_test, predictions_proba)\n",
    "auroc_dt_test = roc_auc_score(y_test, predictions_proba)\n",
    "\n",
    "plotROC(fpr,tpr, auroc_dt_test)\n",
    "\n",
    "print(\"Test ROC-AUC Score for Classification Tree:\", round(auroc_dt_test,3))"
   ]
  },
  {
   "cell_type": "markdown",
   "metadata": {
    "id": "O82gS4rdFo9q"
   },
   "source": [
    "# Logistic Regression"
   ]
  },
  {
   "cell_type": "code",
   "execution_count": 14,
   "metadata": {
    "id": "dphVVI6yFFxT"
   },
   "outputs": [],
   "source": [
    "# Preprocess Data for LogReg\n",
    "X_train = data_preprocess(df, \"LogReg\")[0]\n",
    "y_train = data_preprocess(df, \"LogReg\")[1]\n",
    "\n",
    "X_test = data_preprocess(df_test, \"LogReg\")[0]\n",
    "y_test = data_preprocess(df_test, \"LogReg\")[1]"
   ]
  },
  {
   "cell_type": "code",
   "execution_count": 15,
   "metadata": {
    "colab": {
     "base_uri": "https://localhost:8080/"
    },
    "id": "30fJj9b2uRgf",
    "outputId": "1fec86c2-89e8-4701-ca61-4f418c4e1ee8"
   },
   "outputs": [
    {
     "name": "stdout",
     "output_type": "stream",
     "text": [
      "mean_test_score: 0.817\n",
      "mean_train_score: 0.821\n"
     ]
    }
   ],
   "source": [
    "# Training Set \n",
    "\n",
    "# Create a LR with specified criterion\n",
    "# https://stackoverflow.com/questions/38640109/logistic-regression-python-solvers-definitions \n",
    "lr = LogisticRegression(random_state=1, penalty= \"l1\", solver=\"liblinear\")\n",
    "\n",
    "# Create the parameter grid\n",
    "param_grid = {'C':[0.001, 0.01, 0.05, 0.1]} \n",
    "\n",
    "# Create a GridSearchCV object\n",
    "grid_lr_class = GridSearchCV(estimator=lr,\n",
    "                            param_grid=param_grid,\n",
    "                            scoring=\"roc_auc\",\n",
    "                            cv=5,\n",
    "                            refit=True,\n",
    "                            return_train_score=True)\n",
    "\n",
    "# Create model \n",
    "lr_result = grid_lr_class.fit(X_train, y_train)\n",
    "\n",
    "# Checking of GridSearch results \n",
    "result = pd.DataFrame(lr_result.cv_results_)\n",
    "result = result[result[\"rank_test_score\"] == 1][[\"mean_test_score\",\"mean_train_score\"]]\n",
    "\n",
    "mean_test_score = result.values[0][0]\n",
    "mean_train_score = result.values[0][1]\n",
    "\n",
    "print(\"mean_test_score:\", round(mean_test_score,3))\n",
    "print(\"mean_train_score:\", round(mean_train_score,3))"
   ]
  },
  {
   "cell_type": "code",
   "execution_count": 16,
   "metadata": {
    "colab": {
     "base_uri": "https://localhost:8080/",
     "height": 295
    },
    "id": "aW7COJUpuSMB",
    "outputId": "4be7008a-a9d4-4d1c-c4c4-859a798c3580"
   },
   "outputs": [
    {
     "data": {
      "image/png": "[encoded data removed]",
      "text/plain": [
       "<Figure size 432x288 with 1 Axes>"
      ]
     },
     "metadata": {
      "needs_background": "light"
     },
     "output_type": "display_data"
    }
   ],
   "source": [
    "# Evaluate model \n",
    "best_params = lr_result.best_params_\n",
    "predictions_proba = grid_lr_class.best_estimator_.predict_proba(X_train)[:,1]\n",
    "\n",
    "# Compute fpr & tpr\n",
    "fpr, tpr, _ = roc_curve(y_train, predictions_proba)\n",
    "auroc_lr_train = roc_auc_score(y_train, predictions_proba)\n",
    "\n",
    "plotROC(fpr,tpr, auroc_lr_train)"
   ]
  },
  {
   "cell_type": "code",
   "execution_count": 17,
   "metadata": {
    "colab": {
     "base_uri": "https://localhost:8080/",
     "height": 579
    },
    "id": "mXbJ8DoZFoiQ",
    "outputId": "317d9fb4-293f-4e65-bd57-58076f111eed"
   },
   "outputs": [
    {
     "name": "stdout",
     "output_type": "stream",
     "text": [
      "Best Parameters for Logistic regression: {'C': 0.1}\n",
      "Train ROC-AUC Score for Logistic regression: 0.821\n"
     ]
    },
    {
     "data": {
      "text/html": [
       "<div>\n",
       "<style scoped>\n",
       "    .dataframe tbody tr th:only-of-type {\n",
       "        vertical-align: middle;\n",
       "    }\n",
       "\n",
       "    .dataframe tbody tr th {\n",
       "        vertical-align: top;\n",
       "    }\n",
       "\n",
       "    .dataframe thead th {\n",
       "        text-align: right;\n",
       "    }\n",
       "</style>\n",
       "<table border=\"1\" class=\"dataframe\">\n",
       "  <thead>\n",
       "    <tr style=\"text-align: right;\">\n",
       "      <th></th>\n",
       "      <th>Features</th>\n",
       "      <th>Coefficient</th>\n",
       "    </tr>\n",
       "  </thead>\n",
       "  <tbody>\n",
       "    <tr>\n",
       "      <th>0</th>\n",
       "      <td>Age</td>\n",
       "      <td>-0.020283</td>\n",
       "    </tr>\n",
       "    <tr>\n",
       "      <th>1</th>\n",
       "      <td>Annual_Premium</td>\n",
       "      <td>-0.000002</td>\n",
       "    </tr>\n",
       "    <tr>\n",
       "      <th>2</th>\n",
       "      <td>Vintage</td>\n",
       "      <td>-0.000505</td>\n",
       "    </tr>\n",
       "    <tr>\n",
       "      <th>3</th>\n",
       "      <td>VA_1-2</td>\n",
       "      <td>0.901402</td>\n",
       "    </tr>\n",
       "    <tr>\n",
       "      <th>4</th>\n",
       "      <td>VA&gt;2</td>\n",
       "      <td>1.050778</td>\n",
       "    </tr>\n",
       "    <tr>\n",
       "      <th>5</th>\n",
       "      <td>RC_8</td>\n",
       "      <td>-0.190837</td>\n",
       "    </tr>\n",
       "    <tr>\n",
       "      <th>6</th>\n",
       "      <td>RC_11</td>\n",
       "      <td>0.064158</td>\n",
       "    </tr>\n",
       "    <tr>\n",
       "      <th>7</th>\n",
       "      <td>RC_15</td>\n",
       "      <td>-0.458777</td>\n",
       "    </tr>\n",
       "    <tr>\n",
       "      <th>8</th>\n",
       "      <td>RC_28</td>\n",
       "      <td>0.000000</td>\n",
       "    </tr>\n",
       "    <tr>\n",
       "      <th>9</th>\n",
       "      <td>RC_29</td>\n",
       "      <td>0.000000</td>\n",
       "    </tr>\n",
       "    <tr>\n",
       "      <th>10</th>\n",
       "      <td>RC_30</td>\n",
       "      <td>0.000000</td>\n",
       "    </tr>\n",
       "    <tr>\n",
       "      <th>11</th>\n",
       "      <td>RC_41</td>\n",
       "      <td>0.000000</td>\n",
       "    </tr>\n",
       "    <tr>\n",
       "      <th>12</th>\n",
       "      <td>RC_46</td>\n",
       "      <td>-0.381891</td>\n",
       "    </tr>\n",
       "    <tr>\n",
       "      <th>13</th>\n",
       "      <td>RC_50</td>\n",
       "      <td>0.000000</td>\n",
       "    </tr>\n",
       "    <tr>\n",
       "      <th>14</th>\n",
       "      <td>Gender_Male</td>\n",
       "      <td>0.014667</td>\n",
       "    </tr>\n",
       "    <tr>\n",
       "      <th>15</th>\n",
       "      <td>VD_Yes</td>\n",
       "      <td>3.165335</td>\n",
       "    </tr>\n",
       "  </tbody>\n",
       "</table>\n",
       "</div>"
      ],
      "text/plain": [
       "          Features  Coefficient\n",
       "0              Age    -0.020283\n",
       "1   Annual_Premium    -0.000002\n",
       "2          Vintage    -0.000505\n",
       "3           VA_1-2     0.901402\n",
       "4             VA>2     1.050778\n",
       "5             RC_8    -0.190837\n",
       "6            RC_11     0.064158\n",
       "7            RC_15    -0.458777\n",
       "8            RC_28     0.000000\n",
       "9            RC_29     0.000000\n",
       "10           RC_30     0.000000\n",
       "11           RC_41     0.000000\n",
       "12           RC_46    -0.381891\n",
       "13           RC_50     0.000000\n",
       "14     Gender_Male     0.014667\n",
       "15          VD_Yes     3.165335"
      ]
     },
     "execution_count": 17,
     "metadata": {},
     "output_type": "execute_result"
    }
   ],
   "source": [
    "feature_names = X_train.columns\n",
    "coef = grid_lr_class.best_estimator_.coef_[0]\n",
    "summary = pd.DataFrame({\"Features\" : feature_names, \"Coefficient\": coef})\n",
    "\n",
    "print(\"Best Parameters for Logistic regression:\",best_params)\n",
    "print(\"Train ROC-AUC Score for Logistic regression:\", round(auroc_lr_train,3))\n",
    "summary"
   ]
  },
  {
   "cell_type": "code",
   "execution_count": 18,
   "metadata": {
    "colab": {
     "base_uri": "https://localhost:8080/",
     "height": 295
    },
    "id": "SzOAzlBFFt0o",
    "outputId": "aa57e7e6-bc28-485e-db65-14e41ecd6f9e"
   },
   "outputs": [
    {
     "data": {
      "image/png": "[encoded data removed]",
      "text/plain": [
       "<Figure size 432x288 with 1 Axes>"
      ]
     },
     "metadata": {
      "needs_background": "light"
     },
     "output_type": "display_data"
    }
   ],
   "source": [
    "predictions_proba = grid_lr_class.best_estimator_.predict_proba(X_test)[:,1]\n",
    "\n",
    "# Compute fpr & tpr\n",
    "fpr, tpr, _ = roc_curve(y_test, predictions_proba)\n",
    "auroc_lr_test = roc_auc_score(y_test, predictions_proba)\n",
    "\n",
    "plotROC(fpr,tpr, auroc_lr_test)"
   ]
  },
  {
   "cell_type": "code",
   "execution_count": 19,
   "metadata": {
    "colab": {
     "base_uri": "https://localhost:8080/",
     "height": 562
    },
    "id": "m42tFdgOv4dP",
    "outputId": "a5b5660c-5e85-410a-c03c-f5757ecdb2aa"
   },
   "outputs": [
    {
     "name": "stdout",
     "output_type": "stream",
     "text": [
      "Test ROC-AUC Score for Logistic regression: 0.817\n"
     ]
    },
    {
     "data": {
      "text/html": [
       "<div>\n",
       "<style scoped>\n",
       "    .dataframe tbody tr th:only-of-type {\n",
       "        vertical-align: middle;\n",
       "    }\n",
       "\n",
       "    .dataframe tbody tr th {\n",
       "        vertical-align: top;\n",
       "    }\n",
       "\n",
       "    .dataframe thead th {\n",
       "        text-align: right;\n",
       "    }\n",
       "</style>\n",
       "<table border=\"1\" class=\"dataframe\">\n",
       "  <thead>\n",
       "    <tr style=\"text-align: right;\">\n",
       "      <th></th>\n",
       "      <th>Features</th>\n",
       "      <th>Coefficient</th>\n",
       "    </tr>\n",
       "  </thead>\n",
       "  <tbody>\n",
       "    <tr>\n",
       "      <th>0</th>\n",
       "      <td>Age</td>\n",
       "      <td>-0.020283</td>\n",
       "    </tr>\n",
       "    <tr>\n",
       "      <th>1</th>\n",
       "      <td>Annual_Premium</td>\n",
       "      <td>-0.000002</td>\n",
       "    </tr>\n",
       "    <tr>\n",
       "      <th>2</th>\n",
       "      <td>Vintage</td>\n",
       "      <td>-0.000505</td>\n",
       "    </tr>\n",
       "    <tr>\n",
       "      <th>3</th>\n",
       "      <td>VA_1-2</td>\n",
       "      <td>0.901402</td>\n",
       "    </tr>\n",
       "    <tr>\n",
       "      <th>4</th>\n",
       "      <td>VA&gt;2</td>\n",
       "      <td>1.050778</td>\n",
       "    </tr>\n",
       "    <tr>\n",
       "      <th>5</th>\n",
       "      <td>RC_8</td>\n",
       "      <td>-0.190837</td>\n",
       "    </tr>\n",
       "    <tr>\n",
       "      <th>6</th>\n",
       "      <td>RC_11</td>\n",
       "      <td>0.064158</td>\n",
       "    </tr>\n",
       "    <tr>\n",
       "      <th>7</th>\n",
       "      <td>RC_15</td>\n",
       "      <td>-0.458777</td>\n",
       "    </tr>\n",
       "    <tr>\n",
       "      <th>8</th>\n",
       "      <td>RC_28</td>\n",
       "      <td>0.000000</td>\n",
       "    </tr>\n",
       "    <tr>\n",
       "      <th>9</th>\n",
       "      <td>RC_29</td>\n",
       "      <td>0.000000</td>\n",
       "    </tr>\n",
       "    <tr>\n",
       "      <th>10</th>\n",
       "      <td>RC_30</td>\n",
       "      <td>0.000000</td>\n",
       "    </tr>\n",
       "    <tr>\n",
       "      <th>11</th>\n",
       "      <td>RC_41</td>\n",
       "      <td>0.000000</td>\n",
       "    </tr>\n",
       "    <tr>\n",
       "      <th>12</th>\n",
       "      <td>RC_46</td>\n",
       "      <td>-0.381891</td>\n",
       "    </tr>\n",
       "    <tr>\n",
       "      <th>13</th>\n",
       "      <td>RC_50</td>\n",
       "      <td>0.000000</td>\n",
       "    </tr>\n",
       "    <tr>\n",
       "      <th>14</th>\n",
       "      <td>Gender_Male</td>\n",
       "      <td>0.014667</td>\n",
       "    </tr>\n",
       "    <tr>\n",
       "      <th>15</th>\n",
       "      <td>VD_Yes</td>\n",
       "      <td>3.165335</td>\n",
       "    </tr>\n",
       "  </tbody>\n",
       "</table>\n",
       "</div>"
      ],
      "text/plain": [
       "          Features  Coefficient\n",
       "0              Age    -0.020283\n",
       "1   Annual_Premium    -0.000002\n",
       "2          Vintage    -0.000505\n",
       "3           VA_1-2     0.901402\n",
       "4             VA>2     1.050778\n",
       "5             RC_8    -0.190837\n",
       "6            RC_11     0.064158\n",
       "7            RC_15    -0.458777\n",
       "8            RC_28     0.000000\n",
       "9            RC_29     0.000000\n",
       "10           RC_30     0.000000\n",
       "11           RC_41     0.000000\n",
       "12           RC_46    -0.381891\n",
       "13           RC_50     0.000000\n",
       "14     Gender_Male     0.014667\n",
       "15          VD_Yes     3.165335"
      ]
     },
     "execution_count": 19,
     "metadata": {},
     "output_type": "execute_result"
    }
   ],
   "source": [
    "feature_names = X_test.columns\n",
    "coef = grid_lr_class.best_estimator_.coef_[0]\n",
    "summary = pd.DataFrame({\"Features\" : feature_names, \"Coefficient\": coef})\n",
    "\n",
    "print(\"Test ROC-AUC Score for Logistic regression:\", round(auroc_lr_test,3))\n",
    "summary"
   ]
  },
  {
   "cell_type": "code",
   "execution_count": 20,
   "metadata": {
    "colab": {
     "base_uri": "https://localhost:8080/",
     "height": 80
    },
    "id": "QgBu_uU68Ivq",
    "outputId": "ac0e179c-3ba4-401d-a339-51c9df2d80d7"
   },
   "outputs": [
    {
     "data": {
      "text/html": [
       "<div>\n",
       "<style scoped>\n",
       "    .dataframe tbody tr th:only-of-type {\n",
       "        vertical-align: middle;\n",
       "    }\n",
       "\n",
       "    .dataframe tbody tr th {\n",
       "        vertical-align: top;\n",
       "    }\n",
       "\n",
       "    .dataframe thead th {\n",
       "        text-align: right;\n",
       "    }\n",
       "</style>\n",
       "<table border=\"1\" class=\"dataframe\">\n",
       "  <thead>\n",
       "    <tr style=\"text-align: right;\">\n",
       "      <th>Features</th>\n",
       "      <th>Age</th>\n",
       "      <th>Annual_Premium</th>\n",
       "      <th>Vintage</th>\n",
       "      <th>VA_1-2</th>\n",
       "      <th>VA&gt;2</th>\n",
       "      <th>RC_8</th>\n",
       "      <th>RC_11</th>\n",
       "      <th>RC_15</th>\n",
       "      <th>RC_28</th>\n",
       "      <th>RC_29</th>\n",
       "      <th>RC_30</th>\n",
       "      <th>RC_41</th>\n",
       "      <th>RC_46</th>\n",
       "      <th>RC_50</th>\n",
       "      <th>Gender_Male</th>\n",
       "      <th>VD_Yes</th>\n",
       "    </tr>\n",
       "  </thead>\n",
       "  <tbody>\n",
       "    <tr>\n",
       "      <th>Coefficient</th>\n",
       "      <td>-0.02</td>\n",
       "      <td>-0</td>\n",
       "      <td>-0</td>\n",
       "      <td>0.9</td>\n",
       "      <td>1.05</td>\n",
       "      <td>-0.19</td>\n",
       "      <td>0.06</td>\n",
       "      <td>-0.46</td>\n",
       "      <td>0</td>\n",
       "      <td>0</td>\n",
       "      <td>0</td>\n",
       "      <td>0</td>\n",
       "      <td>-0.38</td>\n",
       "      <td>0</td>\n",
       "      <td>0.01</td>\n",
       "      <td>3.17</td>\n",
       "    </tr>\n",
       "  </tbody>\n",
       "</table>\n",
       "</div>"
      ],
      "text/plain": [
       "Features      Age Annual_Premium Vintage VA_1-2  VA>2  RC_8 RC_11 RC_15 RC_28  \\\n",
       "Coefficient -0.02             -0      -0    0.9  1.05 -0.19  0.06 -0.46     0   \n",
       "\n",
       "Features    RC_29 RC_30 RC_41 RC_46 RC_50 Gender_Male VD_Yes  \n",
       "Coefficient     0     0     0 -0.38     0        0.01   3.17  "
      ]
     },
     "execution_count": 20,
     "metadata": {},
     "output_type": "execute_result"
    }
   ],
   "source": [
    "summary['Coefficient'] = round(summary['Coefficient'],2)\n",
    "data_t = summary.T\n",
    "data_t.columns = data_t.iloc[0]\n",
    "data_t = data_t.iloc[1:2]\n",
    "data_t"
   ]
  },
  {
   "cell_type": "markdown",
   "metadata": {
    "id": "HsDGtstqGDX_"
   },
   "source": [
    "# Random Forest"
   ]
  },
  {
   "cell_type": "code",
   "execution_count": 21,
   "metadata": {
    "id": "EWjMWtQ8Ft6_"
   },
   "outputs": [],
   "source": [
    "# Preprocess Data for Random Forest\n",
    "X_train = data_preprocess(df, \"trees\")[0]\n",
    "y_train = data_preprocess(df, \"trees\")[1]\n",
    "\n",
    "X_test = data_preprocess(df_test, \"trees\")[0]\n",
    "y_test = data_preprocess(df_test, \"trees\")[1]"
   ]
  },
  {
   "cell_type": "code",
   "execution_count": 22,
   "metadata": {
    "colab": {
     "base_uri": "https://localhost:8080/"
    },
    "id": "NCc5Vc7sv98F",
    "outputId": "b1e253b2-e751-436e-c75e-2b0686cb35cb"
   },
   "outputs": [
    {
     "name": "stdout",
     "output_type": "stream",
     "text": [
      "mean_test_score: 0.823\n",
      "mean_train_score: 0.854\n"
     ]
    }
   ],
   "source": [
    "# Training Set \n",
    "\n",
    "# Create a rf with specified criterion\n",
    "rf = RandomForestClassifier(random_state=1)\n",
    "\n",
    "# Create the parameter grid\n",
    "param_grid = {\"max_depth\": [2,3,4,5], \n",
    "                \"min_samples_leaf\": [5,10,25,50], \n",
    "                \"n_estimators\": np.arange(100,500,100)} \n",
    "\n",
    "# Create a GridSearchCV object\n",
    "grid_rf_class = GridSearchCV(estimator=rf,\n",
    "                            param_grid=param_grid,\n",
    "                            scoring=\"roc_auc\",\n",
    "                            cv=5,\n",
    "                            refit=True, n_jobs= 2,\n",
    "                            return_train_score=True)\n",
    "\n",
    "# Create model \n",
    "rf_result = grid_rf_class.fit(X_train, y_train)\n",
    "\n",
    "# Checking of GridSearch results \n",
    "result = pd.DataFrame(rf_result.cv_results_)\n",
    "result = result[result[\"rank_test_score\"] == 1][[\"mean_test_score\",\"mean_train_score\"]]\n",
    "\n",
    "mean_test_score = result.values[0][0]\n",
    "mean_train_score = result.values[0][1]\n",
    "\n",
    "print(\"mean_test_score:\", round(mean_test_score,3))\n",
    "print(\"mean_train_score:\", round(mean_train_score,3))"
   ]
  },
  {
   "cell_type": "code",
   "execution_count": 23,
   "metadata": {
    "colab": {
     "base_uri": "https://localhost:8080/",
     "height": 329
    },
    "id": "8x0PfMLLv-pv",
    "outputId": "00c0b65a-e292-4ac1-f7c8-b93835f12255"
   },
   "outputs": [
    {
     "data": {
      "image/png": "[encoded data removed]",
      "text/plain": [
       "<Figure size 432x288 with 1 Axes>"
      ]
     },
     "metadata": {
      "needs_background": "light"
     },
     "output_type": "display_data"
    },
    {
     "name": "stdout",
     "output_type": "stream",
     "text": [
      "Best Parameters for Random Forest: {'max_depth': 5, 'min_samples_leaf': 5, 'n_estimators': 300}\n",
      "Train ROC-AUC Score for Random Forest: 0.849\n"
     ]
    }
   ],
   "source": [
    "# Evaluate model \n",
    "best_params = rf_result.best_params_\n",
    "predictions_proba = grid_rf_class.best_estimator_.predict_proba(X_train)[:,1]\n",
    "\n",
    "# Compute fpr & tpr\n",
    "fpr, tpr, _ = roc_curve(y_train, predictions_proba)\n",
    "auroc_rf_train = roc_auc_score(y_train, predictions_proba)\n",
    "\n",
    "plotROC(fpr,tpr, auroc_rf_train)\n",
    "\n",
    "print(\"Best Parameters for Random Forest:\",best_params)\n",
    "print(\"Train ROC-AUC Score for Random Forest:\", round(auroc_rf_train,3))"
   ]
  },
  {
   "cell_type": "code",
   "execution_count": 24,
   "metadata": {
    "colab": {
     "base_uri": "https://localhost:8080/",
     "height": 281
    },
    "id": "hOV78EQcFoFl",
    "outputId": "3fbcdcbb-2aed-4231-af26-e51b3c5e2153"
   },
   "outputs": [
    {
     "data": {
      "image/png": "[encoded data removed]",
      "text/plain": [
       "<Figure size 432x288 with 1 Axes>"
      ]
     },
     "metadata": {
      "needs_background": "light"
     },
     "output_type": "display_data"
    }
   ],
   "source": [
    "# Create a pd.Series of features importances\n",
    "importances = pd.Series(data=grid_rf_class.best_estimator_.feature_importances_,\n",
    "                        index= X_train.columns)\n",
    "\n",
    "# Sort importances\n",
    "Region_Code_val = sum(importances.loc[[col for col in X_train.columns if \"RC_\" in col]])\n",
    "importances = importances.loc[[col for col in X_train.columns if \"RC_\" not in col]]\n",
    "importances.loc[\"Region_Code\"] = Region_Code_val\n",
    "importances_sorted = importances.sort_values()\n",
    "\n",
    "# Draw a horizontal barplot of importances_sorted\n",
    "importances_sorted.plot(color='lightgreen', kind='barh')\n",
    "plt.title('Features Importances')\n",
    "\n",
    "plt.show()"
   ]
  },
  {
   "cell_type": "code",
   "execution_count": 25,
   "metadata": {
    "colab": {
     "base_uri": "https://localhost:8080/",
     "height": 312
    },
    "id": "-lSt81aSGMG2",
    "outputId": "33054aef-fb06-4dbe-c90b-cb44ed994b18"
   },
   "outputs": [
    {
     "data": {
      "image/png": "[encoded data removed]",
      "text/plain": [
       "<Figure size 432x288 with 1 Axes>"
      ]
     },
     "metadata": {
      "needs_background": "light"
     },
     "output_type": "display_data"
    },
    {
     "name": "stdout",
     "output_type": "stream",
     "text": [
      "Test ROC-AUC Score for Random Forest: 0.822\n"
     ]
    }
   ],
   "source": [
    "# Test Set \n",
    "predictions_proba = grid_rf_class.best_estimator_.predict_proba(X_test)[:,1]\n",
    "\n",
    "# Compute fpr & tpr\n",
    "fpr, tpr, _ = roc_curve(y_test, predictions_proba)\n",
    "auroc_rf_test = roc_auc_score(y_test, predictions_proba)\n",
    "\n",
    "plotROC(fpr,tpr,auroc_rf_test)\n",
    "\n",
    "print(\"Test ROC-AUC Score for Random Forest:\", round(auroc_rf_test,3))"
   ]
  },
  {
   "cell_type": "code",
   "execution_count": 26,
   "metadata": {
    "id": "HujRlDf_wme2"
   },
   "outputs": [],
   "source": [
    "# Preprocess Data for CT & RF\n",
    "X_train = data_preprocess(df, \"trees\")[0]\n",
    "y_train = data_preprocess(df, \"trees\")[1]\n",
    "\n",
    "X_test = data_preprocess(df_test, \"trees\")[0]\n",
    "y_test = data_preprocess(df_test, \"trees\")[1]\n",
    "\n",
    "predictions_proba_clf = grid_clf_class.best_estimator_.predict_proba(X_train)[:,1]\n",
    "predictions_proba_rf = grid_rf_class.best_estimator_.predict_proba(X_train)[:,1]\n",
    "\n",
    "# Preprocess Data for LR\n",
    "X_train = data_preprocess(df, \"LogReg\")[0]\n",
    "y_train = data_preprocess(df, \"LogReg\")[1]\n",
    "\n",
    "X_test = data_preprocess(df_test, \"LogReg\")[0]\n",
    "y_test = data_preprocess(df_test, \"LogReg\")[1]\n",
    "\n",
    "predictions_proba_lr = grid_lr_class.best_estimator_.predict_proba(X_train)[:,1]"
   ]
  },
  {
   "cell_type": "code",
   "execution_count": 27,
   "metadata": {
    "id": "VG3zw4tGwnQf"
   },
   "outputs": [],
   "source": [
    "# Compute fpr & tpr\n",
    "fpr_clf, tpr_clf, _ = roc_curve(y_train, predictions_proba_clf)\n",
    "auroc_dt_train = roc_auc_score(y_train, predictions_proba_clf)\n",
    "\n",
    "fpr_lr, tpr_lr, _ = roc_curve(y_train, predictions_proba_lr)\n",
    "auroc_lr_train = roc_auc_score(y_train, predictions_proba_lr)\n",
    "\n",
    "fpr_rf, tpr_rf, _ = roc_curve(y_train, predictions_proba_rf)\n",
    "auroc_rf_train = roc_auc_score(y_train, predictions_proba_rf)"
   ]
  },
  {
   "cell_type": "code",
   "execution_count": 28,
   "metadata": {
    "colab": {
     "base_uri": "https://localhost:8080/",
     "height": 529
    },
    "id": "ILTep-3mIC8s",
    "outputId": "edb4a54a-dce9-472d-cde5-343ef0822f0c"
   },
   "outputs": [
    {
     "data": {
      "image/png": "[encoded data removed]",
      "text/plain": [
       "<Figure size 720x432 with 1 Axes>"
      ]
     },
     "metadata": {
      "needs_background": "light"
     },
     "output_type": "display_data"
    },
    {
     "data": {
      "text/html": [
       "<div>\n",
       "<style scoped>\n",
       "    .dataframe tbody tr th:only-of-type {\n",
       "        vertical-align: middle;\n",
       "    }\n",
       "\n",
       "    .dataframe tbody tr th {\n",
       "        vertical-align: top;\n",
       "    }\n",
       "\n",
       "    .dataframe thead th {\n",
       "        text-align: right;\n",
       "    }\n",
       "</style>\n",
       "<table border=\"1\" class=\"dataframe\">\n",
       "  <thead>\n",
       "    <tr style=\"text-align: right;\">\n",
       "      <th></th>\n",
       "      <th>models</th>\n",
       "      <th>train results (Validation)</th>\n",
       "      <th>test results</th>\n",
       "    </tr>\n",
       "  </thead>\n",
       "  <tbody>\n",
       "    <tr>\n",
       "      <th>0</th>\n",
       "      <td>Classification Tree</td>\n",
       "      <td>0.822</td>\n",
       "      <td>0.813</td>\n",
       "    </tr>\n",
       "    <tr>\n",
       "      <th>1</th>\n",
       "      <td>Logistic Regression</td>\n",
       "      <td>0.821</td>\n",
       "      <td>0.817</td>\n",
       "    </tr>\n",
       "    <tr>\n",
       "      <th>2</th>\n",
       "      <td>Random Forest</td>\n",
       "      <td>0.849</td>\n",
       "      <td>0.822</td>\n",
       "    </tr>\n",
       "  </tbody>\n",
       "</table>\n",
       "</div>"
      ],
      "text/plain": [
       "                models  train results (Validation)  test results\n",
       "0  Classification Tree                       0.822         0.813\n",
       "1  Logistic Regression                       0.821         0.817\n",
       "2        Random Forest                       0.849         0.822"
      ]
     },
     "execution_count": 28,
     "metadata": {},
     "output_type": "execute_result"
    }
   ],
   "source": [
    "plt.figure(figsize=(10, 6))\n",
    "plt.plot([0, 1], [0, 1], 'k--')\n",
    "plt.plot(fpr_clf, tpr_clf, label='Classification Tree', color = \"green\")\n",
    "plt.plot(fpr_lr, tpr_lr, label='Logistic Regression', color = \"orange\")\n",
    "plt.plot(fpr_rf, tpr_rf, label='Random Forest', color = \"red\")\n",
    "\n",
    "plt.xlabel('False Positive Rate')\n",
    "plt.ylabel('True Positive Rate')\n",
    "plt.title('ROC Curve')\n",
    "\n",
    "plt.legend()\n",
    "plt.show()\n",
    "\n",
    "consolidate = pd.DataFrame({'models': [\"Classification Tree\", \"Logistic Regression\", \"Random Forest\"],\n",
    "             'train results (Validation)': [round(auroc_dt_train,3), round(auroc_lr_train,3), round(auroc_rf_train,3)],\n",
    "             \"test results\": [round(auroc_dt_test,3), round(auroc_lr_test,3), round(auroc_rf_test,3)]})\n",
    "consolidate"
   ]
  },
  {
   "cell_type": "code",
   "execution_count": 29,
   "metadata": {
    "colab": {
     "base_uri": "https://localhost:8080/",
     "height": 80
    },
    "id": "sBL4qr0B3fCq",
    "outputId": "cb757d64-05f0-4d6c-c95c-a3f0fc7825dc"
   },
   "outputs": [
    {
     "data": {
      "text/html": [
       "<div>\n",
       "<style scoped>\n",
       "    .dataframe tbody tr th:only-of-type {\n",
       "        vertical-align: middle;\n",
       "    }\n",
       "\n",
       "    .dataframe tbody tr th {\n",
       "        vertical-align: top;\n",
       "    }\n",
       "\n",
       "    .dataframe thead th {\n",
       "        text-align: right;\n",
       "    }\n",
       "</style>\n",
       "<table border=\"1\" class=\"dataframe\">\n",
       "  <thead>\n",
       "    <tr style=\"text-align: right;\">\n",
       "      <th>models</th>\n",
       "      <th>Classification Tree</th>\n",
       "      <th>Logistic Regression</th>\n",
       "      <th>Random Forest</th>\n",
       "    </tr>\n",
       "  </thead>\n",
       "  <tbody>\n",
       "    <tr>\n",
       "      <th>train results (Validation)</th>\n",
       "      <td>0.822</td>\n",
       "      <td>0.821</td>\n",
       "      <td>0.849</td>\n",
       "    </tr>\n",
       "  </tbody>\n",
       "</table>\n",
       "</div>"
      ],
      "text/plain": [
       "models                     Classification Tree Logistic Regression  \\\n",
       "train results (Validation)               0.822               0.821   \n",
       "\n",
       "models                     Random Forest  \n",
       "train results (Validation)         0.849  "
      ]
     },
     "execution_count": 29,
     "metadata": {},
     "output_type": "execute_result"
    }
   ],
   "source": [
    "data = consolidate.T\n",
    "data.columns = data.iloc[0]\n",
    "data = data.iloc[1:2]\n",
    "data"
   ]
  },
  {
   "cell_type": "markdown",
   "metadata": {
    "id": "52e_XuxY6rtS"
   },
   "source": [
    "# Chosen Model: Random Forest"
   ]
  },
  {
   "cell_type": "code",
   "execution_count": 30,
   "metadata": {
    "id": "xHNX78IN6hod"
   },
   "outputs": [],
   "source": [
    "# Types of models: (1) grid_clf_class, (2) grid_lr_class, (3) grid_rf_class"
   ]
  },
  {
   "cell_type": "code",
   "execution_count": 31,
   "metadata": {
    "id": "5LZ7HXZF6q88"
   },
   "outputs": [],
   "source": [
    "# Preprocess Data for Random Forest\n",
    "# Use training set to determine the benefit schemes\n",
    "X_train = data_preprocess(df, \"trees\")[0]\n",
    "y_train = data_preprocess(df, \"trees\")[1]"
   ]
  },
  {
   "cell_type": "code",
   "execution_count": 32,
   "metadata": {
    "id": "xs4Kz-f-7lgj"
   },
   "outputs": [],
   "source": [
    "predictions_proba = grid_rf_class.best_estimator_.predict_proba(X_train)[:,1]\n",
    "probability_threshold = [0.01, 0.1, 0.2, 0.5]\n",
    "cm = []\n",
    "\n",
    "for threshold in probability_threshold:\n",
    "    pred = (predictions_proba >= threshold).astype('int')\n",
    "    cm.append(confusion_matrix(y_train, pred))"
   ]
  },
  {
   "cell_type": "code",
   "execution_count": 33,
   "metadata": {
    "id": "qtGu4Hlv7lse"
   },
   "outputs": [],
   "source": [
    "def compute_benefit(cm): \n",
    "    probability_threshold = [0.01, 0.1, 0.2, 0.5]\n",
    "    \n",
    "    for num in range(4):\n",
    "        tn, fp, fn, tp = cm[num].ravel()\n",
    "        benefit_structure = tp*10 + fn*(-10) + fp*(-2) + (tp+fp)*(-1)\n",
    "        print(\"Benefit Structure for\", probability_threshold[num],\"is\", benefit_structure)\n",
    "\n",
    "    for num in range(4):\n",
    "        tn, fp, fn, tp = cm[num].ravel()\n",
    "        benefit_structure = tp*100 + fn*(-100) + fp*(-2) + (tp+fp)*(-1)\n",
    "        print(\"New Benefit Structure for\", probability_threshold[num],\"is\", benefit_structure)"
   ]
  },
  {
   "cell_type": "code",
   "execution_count": 34,
   "metadata": {
    "colab": {
     "base_uri": "https://localhost:8080/",
     "height": 173
    },
    "id": "GWA09srt7l3A",
    "outputId": "253a1013-3495-41de-bc42-1dfbf7d35976"
   },
   "outputs": [
    {
     "data": {
      "text/html": [
       "<div>\n",
       "<style scoped>\n",
       "    .dataframe tbody tr th:only-of-type {\n",
       "        vertical-align: middle;\n",
       "    }\n",
       "\n",
       "    .dataframe tbody tr th {\n",
       "        vertical-align: top;\n",
       "    }\n",
       "\n",
       "    .dataframe thead th {\n",
       "        text-align: right;\n",
       "    }\n",
       "</style>\n",
       "<table border=\"1\" class=\"dataframe\">\n",
       "  <thead>\n",
       "    <tr style=\"text-align: right;\">\n",
       "      <th></th>\n",
       "      <th>threshold</th>\n",
       "      <th>benefit</th>\n",
       "    </tr>\n",
       "  </thead>\n",
       "  <tbody>\n",
       "    <tr>\n",
       "      <th>0</th>\n",
       "      <td>0.01</td>\n",
       "      <td>-13899</td>\n",
       "    </tr>\n",
       "    <tr>\n",
       "      <th>1</th>\n",
       "      <td>0.10</td>\n",
       "      <td>840</td>\n",
       "    </tr>\n",
       "    <tr>\n",
       "      <th>2</th>\n",
       "      <td>0.20</td>\n",
       "      <td>963</td>\n",
       "    </tr>\n",
       "    <tr>\n",
       "      <th>3</th>\n",
       "      <td>0.50</td>\n",
       "      <td>-13260</td>\n",
       "    </tr>\n",
       "  </tbody>\n",
       "</table>\n",
       "</div>"
      ],
      "text/plain": [
       "   threshold  benefit\n",
       "0       0.01   -13899\n",
       "1       0.10      840\n",
       "2       0.20      963\n",
       "3       0.50   -13260"
      ]
     },
     "execution_count": 34,
     "metadata": {},
     "output_type": "execute_result"
    }
   ],
   "source": [
    "# Old Benefit Structure \n",
    "bs = []\n",
    "for num in range(4):\n",
    "    probability_threshold = [0.01, 0.1, 0.2, 0.5]\n",
    "    tn, fp, fn, tp = cm[num].ravel()\n",
    "    benefit_structure = tp*10 + fn*(-10) + fp*(-2) + (tp+fp)*(-1)\n",
    "    bs.append(benefit_structure)\n",
    "    \n",
    "outcome = pd.DataFrame({\"threshold\":probability_threshold, \"benefit\": bs})\n",
    "outcome"
   ]
  },
  {
   "cell_type": "code",
   "execution_count": 35,
   "metadata": {
    "colab": {
     "base_uri": "https://localhost:8080/",
     "height": 173
    },
    "id": "VxeKpQA87pwf",
    "outputId": "fce7af24-83c1-4f44-9d85-21e83044b150"
   },
   "outputs": [
    {
     "data": {
      "text/html": [
       "<div>\n",
       "<style scoped>\n",
       "    .dataframe tbody tr th:only-of-type {\n",
       "        vertical-align: middle;\n",
       "    }\n",
       "\n",
       "    .dataframe tbody tr th {\n",
       "        vertical-align: top;\n",
       "    }\n",
       "\n",
       "    .dataframe thead th {\n",
       "        text-align: right;\n",
       "    }\n",
       "</style>\n",
       "<table border=\"1\" class=\"dataframe\">\n",
       "  <thead>\n",
       "    <tr style=\"text-align: right;\">\n",
       "      <th></th>\n",
       "      <th>threshold</th>\n",
       "      <th>benefit</th>\n",
       "    </tr>\n",
       "  </thead>\n",
       "  <tbody>\n",
       "    <tr>\n",
       "      <th>0</th>\n",
       "      <td>0.01</td>\n",
       "      <td>105441</td>\n",
       "    </tr>\n",
       "    <tr>\n",
       "      <th>1</th>\n",
       "      <td>0.10</td>\n",
       "      <td>114780</td>\n",
       "    </tr>\n",
       "    <tr>\n",
       "      <th>2</th>\n",
       "      <td>0.20</td>\n",
       "      <td>91683</td>\n",
       "    </tr>\n",
       "    <tr>\n",
       "      <th>3</th>\n",
       "      <td>0.50</td>\n",
       "      <td>-132600</td>\n",
       "    </tr>\n",
       "  </tbody>\n",
       "</table>\n",
       "</div>"
      ],
      "text/plain": [
       "   threshold  benefit\n",
       "0       0.01   105441\n",
       "1       0.10   114780\n",
       "2       0.20    91683\n",
       "3       0.50  -132600"
      ]
     },
     "execution_count": 35,
     "metadata": {},
     "output_type": "execute_result"
    }
   ],
   "source": [
    "# New Benefit Structure \n",
    "bs = []\n",
    "for num in range(4):\n",
    "    probability_threshold = [0.01, 0.1, 0.2, 0.5]\n",
    "    tn, fp, fn, tp = cm[num].ravel()\n",
    "    benefit_structure = tp*100 + fn*(-100) + fp*(-2) + (tp+fp)*(-1)\n",
    "    bs.append(benefit_structure)\n",
    "outcome = pd.DataFrame({\"threshold\":probability_threshold, \"benefit\": bs})\n",
    "outcome"
   ]
  }
 ],
 "metadata": {
  "colab": {
   "collapsed_sections": [],
   "name": "Project 2.ipynb",
   "provenance": []
  },
  "kernelspec": {
   "display_name": "Python 3",
   "language": "python",
   "name": "python3"
  },
  "language_info": {
   "codemirror_mode": {
    "name": "ipython",
    "version": 3
   },
   "file_extension": ".py",
   "mimetype": "text/x-python",
   "name": "python",
   "nbconvert_exporter": "python",
   "pygments_lexer": "ipython3",
   "version": "3.8.5"
  },
  "widgets": {
   "application/vnd.jupyter.widget-state+json": {
    "2ea452c1ec6c4d1f815f3b633b160424": {
     "model_module": "@jupyter-widgets/base",
     "model_module_version": "1.2.0",
     "model_name": "LayoutModel",
     "state": {
      "_model_module": "@jupyter-widgets/base",
      "_model_module_version": "1.2.0",
      "_model_name": "LayoutModel",
      "_view_count": null,
      "_view_module": "@jupyter-widgets/base",
      "_view_module_version": "1.2.0",
      "_view_name": "LayoutView",
      "align_content": null,
      "align_items": null,
      "align_self": null,
      "border": null,
      "bottom": null,
      "display": null,
      "flex": null,
      "flex_flow": null,
      "grid_area": null,
      "grid_auto_columns": null,
      "grid_auto_flow": null,
      "grid_auto_rows": null,
      "grid_column": null,
      "grid_gap": null,
      "grid_row": null,
      "grid_template_areas": null,
      "grid_template_columns": null,
      "grid_template_rows": null,
      "height": null,
      "justify_content": null,
      "justify_items": null,
      "left": null,
      "margin": null,
      "max_height": null,
      "max_width": null,
      "min_height": null,
      "min_width": null,
      "object_fit": null,
      "object_position": null,
      "order": null,
      "overflow": null,
      "overflow_x": null,
      "overflow_y": null,
      "padding": null,
      "right": null,
      "top": null,
      "visibility": null,
      "width": null
     }
    },
    "6b43224573984b5d9e28c041dac3e725": {
     "model_module": "@jupyter-widgets/controls",
     "model_module_version": "1.5.0",
     "model_name": "TextModel",
     "state": {
      "_dom_classes": [],
      "_model_module": "@jupyter-widgets/controls",
      "_model_module_version": "1.5.0",
      "_model_name": "TextModel",
      "_view_count": null,
      "_view_module": "@jupyter-widgets/controls",
      "_view_module_version": "1.5.0",
      "_view_name": "TextView",
      "continuous_update": true,
      "description": "",
      "description_tooltip": null,
      "disabled": false,
      "layout": "IPY_MODEL_feaf0584e37247098d3d8aee0dc6a47c",
      "placeholder": "​",
      "style": "IPY_MODEL_969bb724f5fe464a9b87135402342285",
      "value": "Following data types have been inferred automatically, if they are correct press enter to continue or type 'quit' otherwise."
     }
    },
    "969bb724f5fe464a9b87135402342285": {
     "model_module": "@jupyter-widgets/controls",
     "model_module_version": "1.5.0",
     "model_name": "DescriptionStyleModel",
     "state": {
      "_model_module": "@jupyter-widgets/controls",
      "_model_module_version": "1.5.0",
      "_model_name": "DescriptionStyleModel",
      "_view_count": null,
      "_view_module": "@jupyter-widgets/base",
      "_view_module_version": "1.2.0",
      "_view_name": "StyleView",
      "description_width": ""
     }
    },
    "df14150e9ccb4f04bbf508ee0c8a9ecc": {
     "model_module": "@jupyter-widgets/controls",
     "model_module_version": "1.5.0",
     "model_name": "IntProgressModel",
     "state": {
      "_dom_classes": [],
      "_model_module": "@jupyter-widgets/controls",
      "_model_module_version": "1.5.0",
      "_model_name": "IntProgressModel",
      "_view_count": null,
      "_view_module": "@jupyter-widgets/controls",
      "_view_module_version": "1.5.0",
      "_view_name": "ProgressView",
      "bar_style": "",
      "description": "Processing: ",
      "description_tooltip": null,
      "layout": "IPY_MODEL_2ea452c1ec6c4d1f815f3b633b160424",
      "max": 3,
      "min": 0,
      "orientation": "horizontal",
      "style": "IPY_MODEL_f29e53fe222e47c7b3b85f48eb78aca5",
      "value": 2
     }
    },
    "f29e53fe222e47c7b3b85f48eb78aca5": {
     "model_module": "@jupyter-widgets/controls",
     "model_module_version": "1.5.0",
     "model_name": "ProgressStyleModel",
     "state": {
      "_model_module": "@jupyter-widgets/controls",
      "_model_module_version": "1.5.0",
      "_model_name": "ProgressStyleModel",
      "_view_count": null,
      "_view_module": "@jupyter-widgets/base",
      "_view_module_version": "1.2.0",
      "_view_name": "StyleView",
      "bar_color": null,
      "description_width": ""
     }
    },
    "feaf0584e37247098d3d8aee0dc6a47c": {
     "model_module": "@jupyter-widgets/base",
     "model_module_version": "1.2.0",
     "model_name": "LayoutModel",
     "state": {
      "_model_module": "@jupyter-widgets/base",
      "_model_module_version": "1.2.0",
      "_model_name": "LayoutModel",
      "_view_count": null,
      "_view_module": "@jupyter-widgets/base",
      "_view_module_version": "1.2.0",
      "_view_name": "LayoutView",
      "align_content": null,
      "align_items": null,
      "align_self": null,
      "border": null,
      "bottom": null,
      "display": null,
      "flex": null,
      "flex_flow": null,
      "grid_area": null,
      "grid_auto_columns": null,
      "grid_auto_flow": null,
      "grid_auto_rows": null,
      "grid_column": null,
      "grid_gap": null,
      "grid_row": null,
      "grid_template_areas": null,
      "grid_template_columns": null,
      "grid_template_rows": null,
      "height": null,
      "justify_content": null,
      "justify_items": null,
      "left": null,
      "margin": null,
      "max_height": null,
      "max_width": null,
      "min_height": null,
      "min_width": null,
      "object_fit": null,
      "object_position": null,
      "order": null,
      "overflow": null,
      "overflow_x": null,
      "overflow_y": null,
      "padding": null,
      "right": null,
      "top": null,
      "visibility": null,
      "width": "100%"
     }
    }
   }
  }
 },
 "nbformat": 4,
 "nbformat_minor": 1
}
