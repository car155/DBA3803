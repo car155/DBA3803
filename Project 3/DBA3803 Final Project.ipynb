{
 "cells": [
  {
   "cell_type": "markdown",
   "metadata": {},
   "source": [
    "# <u>Predicting Loan Approval</u>\n",
    "\n",
    "**Group 12: Carissa Ying Geok Teng (A0205190R), Chanell Ng (A0203547J), Kuek Yan Ling (A0205292L)**\n",
    "\n",
    "## Table of Content"
   ]
  },
  {
   "cell_type": "markdown",
   "metadata": {},
   "source": [
    "- [Importing Packages](#importing_packages)\n",
    "- [Cleaning Data](#cleaning_data)\n",
    "- [Logistic Regression](#lr)\n",
    "    - [Result](#lr_result)\n",
    "    - [Evaluation](#lr_evaluation)\n",
    "- [Decision Tree](#dt)\n",
    "    - [Result](#dt_result)\n",
    "    - [Evaluation](#dt_evaluation)\n",
    "- [K Nearest Neighbours](#knn)\n",
    "    - [Result](#knn_result)\n",
    "    - [Evaluation](#knn_evaluation)\n",
    "- [Random Forest](#rf)\n",
    "    - [Result](#rf_result)\n",
    "    - [Evaluation](#rf_evaluation)\n",
    "- [Gradient Boosting](#gb)\n",
    "    - [Result](#gb_result)\n",
    "    - [Evaluation](#gb_evaluation)\n",
    "- [Comparing Models](#comparing_models)\n",
    "- [Final Model: Logistic Regression](#final_model)\n",
    "    - [Test Result](#test_result)\n",
    "    - [Benefit Analysis](#benefit)"
   ]
  },
  {
   "cell_type": "markdown",
   "metadata": {},
   "source": [
    "## Importing Packages <a name=\"importing_packages\"></a>"
   ]
  },
  {
   "cell_type": "code",
   "execution_count": 1,
   "metadata": {},
   "outputs": [],
   "source": [
    "import pandas as pd\n",
    "import math\n",
    "import matplotlib.pyplot as plt\n",
    "import numpy as np\n",
    "from numpy import asarray\n",
    "import seaborn as sns\n",
    "import warnings\n",
    "warnings.filterwarnings('ignore')\n",
    "\n",
    "# For Encoding\n",
    "from sklearn.preprocessing import OneHotEncoder\n",
    "\n",
    "# For scaling\n",
    "from sklearn.pipeline import Pipeline\n",
    "from sklearn.preprocessing import MinMaxScaler\n",
    "from sklearn.preprocessing import StandardScaler\n",
    "\n",
    "# Models \n",
    "from sklearn.ensemble import AdaBoostClassifier\n",
    "from sklearn.ensemble import GradientBoostingClassifier\n",
    "from sklearn.ensemble import RandomForestClassifier\n",
    "from sklearn.linear_model import LogisticRegression\n",
    "from sklearn.neighbors import KNeighborsClassifier\n",
    "from sklearn.svm import SVC\n",
    "from sklearn.tree import DecisionTreeClassifier\n",
    "\n",
    "# Model Building\n",
    "from sklearn.model_selection import cross_val_score\n",
    "from sklearn.model_selection import GridSearchCV\n",
    "from sklearn.model_selection import RepeatedStratifiedKFold\n",
    "from sklearn.model_selection import train_test_split\n",
    "\n",
    "# Import xgboost as xgb\n",
    "from copy import deepcopy\n",
    "import time\n",
    "\n",
    "# Evaluating model performance\n",
    "from sklearn.metrics import accuracy_score\n",
    "from sklearn.metrics import classification_report\n",
    "from sklearn.metrics import confusion_matrix\n",
    "from sklearn.metrics import f1_score\n",
    "from sklearn.metrics import roc_auc_score\n",
    "\n",
    "# For visualisation\n",
    "from sklearn.metrics import plot_roc_curve\n",
    "from sklearn.tree import plot_tree\n",
    "from sklearn.tree import export_graphviz\n",
    "\n",
    "SEED = 1"
   ]
  },
  {
   "cell_type": "markdown",
   "metadata": {},
   "source": [
    "## Cleaning Data <a name=\"cleaning_data\"></a>"
   ]
  },
  {
   "cell_type": "code",
   "execution_count": 2,
   "metadata": {
    "scrolled": true
   },
   "outputs": [
    {
     "data": {
      "text/html": [
       "<div>\n",
       "<style scoped>\n",
       "    .dataframe tbody tr th:only-of-type {\n",
       "        vertical-align: middle;\n",
       "    }\n",
       "\n",
       "    .dataframe tbody tr th {\n",
       "        vertical-align: top;\n",
       "    }\n",
       "\n",
       "    .dataframe thead th {\n",
       "        text-align: right;\n",
       "    }\n",
       "</style>\n",
       "<table border=\"1\" class=\"dataframe\">\n",
       "  <thead>\n",
       "    <tr style=\"text-align: right;\">\n",
       "      <th></th>\n",
       "      <th>Loan_ID</th>\n",
       "      <th>Gender</th>\n",
       "      <th>Married</th>\n",
       "      <th>Dependents</th>\n",
       "      <th>Education</th>\n",
       "      <th>Self_Employed</th>\n",
       "      <th>ApplicantIncome</th>\n",
       "      <th>CoapplicantIncome</th>\n",
       "      <th>LoanAmount</th>\n",
       "      <th>Loan_Amount_Term</th>\n",
       "      <th>Credit_History</th>\n",
       "      <th>Property_Area</th>\n",
       "      <th>Loan_Status</th>\n",
       "    </tr>\n",
       "  </thead>\n",
       "  <tbody>\n",
       "    <tr>\n",
       "      <th>1</th>\n",
       "      <td>LP001003</td>\n",
       "      <td>Male</td>\n",
       "      <td>Yes</td>\n",
       "      <td>1</td>\n",
       "      <td>Graduate</td>\n",
       "      <td>No</td>\n",
       "      <td>4583</td>\n",
       "      <td>1508.0</td>\n",
       "      <td>128.0</td>\n",
       "      <td>360.0</td>\n",
       "      <td>1.0</td>\n",
       "      <td>Rural</td>\n",
       "      <td>0</td>\n",
       "    </tr>\n",
       "    <tr>\n",
       "      <th>2</th>\n",
       "      <td>LP001005</td>\n",
       "      <td>Male</td>\n",
       "      <td>Yes</td>\n",
       "      <td>0</td>\n",
       "      <td>Graduate</td>\n",
       "      <td>Yes</td>\n",
       "      <td>3000</td>\n",
       "      <td>0.0</td>\n",
       "      <td>66.0</td>\n",
       "      <td>360.0</td>\n",
       "      <td>1.0</td>\n",
       "      <td>Urban</td>\n",
       "      <td>1</td>\n",
       "    </tr>\n",
       "    <tr>\n",
       "      <th>3</th>\n",
       "      <td>LP001006</td>\n",
       "      <td>Male</td>\n",
       "      <td>Yes</td>\n",
       "      <td>0</td>\n",
       "      <td>Not Graduate</td>\n",
       "      <td>No</td>\n",
       "      <td>2583</td>\n",
       "      <td>2358.0</td>\n",
       "      <td>120.0</td>\n",
       "      <td>360.0</td>\n",
       "      <td>1.0</td>\n",
       "      <td>Urban</td>\n",
       "      <td>1</td>\n",
       "    </tr>\n",
       "    <tr>\n",
       "      <th>4</th>\n",
       "      <td>LP001008</td>\n",
       "      <td>Male</td>\n",
       "      <td>No</td>\n",
       "      <td>0</td>\n",
       "      <td>Graduate</td>\n",
       "      <td>No</td>\n",
       "      <td>6000</td>\n",
       "      <td>0.0</td>\n",
       "      <td>141.0</td>\n",
       "      <td>360.0</td>\n",
       "      <td>1.0</td>\n",
       "      <td>Urban</td>\n",
       "      <td>1</td>\n",
       "    </tr>\n",
       "    <tr>\n",
       "      <th>5</th>\n",
       "      <td>LP001011</td>\n",
       "      <td>Male</td>\n",
       "      <td>Yes</td>\n",
       "      <td>2</td>\n",
       "      <td>Graduate</td>\n",
       "      <td>Yes</td>\n",
       "      <td>5417</td>\n",
       "      <td>4196.0</td>\n",
       "      <td>267.0</td>\n",
       "      <td>360.0</td>\n",
       "      <td>1.0</td>\n",
       "      <td>Urban</td>\n",
       "      <td>1</td>\n",
       "    </tr>\n",
       "  </tbody>\n",
       "</table>\n",
       "</div>"
      ],
      "text/plain": [
       "    Loan_ID Gender Married Dependents     Education Self_Employed  \\\n",
       "1  LP001003   Male     Yes          1      Graduate            No   \n",
       "2  LP001005   Male     Yes          0      Graduate           Yes   \n",
       "3  LP001006   Male     Yes          0  Not Graduate            No   \n",
       "4  LP001008   Male      No          0      Graduate            No   \n",
       "5  LP001011   Male     Yes          2      Graduate           Yes   \n",
       "\n",
       "   ApplicantIncome  CoapplicantIncome  LoanAmount  Loan_Amount_Term  \\\n",
       "1             4583             1508.0       128.0             360.0   \n",
       "2             3000                0.0        66.0             360.0   \n",
       "3             2583             2358.0       120.0             360.0   \n",
       "4             6000                0.0       141.0             360.0   \n",
       "5             5417             4196.0       267.0             360.0   \n",
       "\n",
       "   Credit_History Property_Area  Loan_Status  \n",
       "1             1.0         Rural            0  \n",
       "2             1.0         Urban            1  \n",
       "3             1.0         Urban            1  \n",
       "4             1.0         Urban            1  \n",
       "5             1.0         Urban            1  "
      ]
     },
     "execution_count": 2,
     "metadata": {},
     "output_type": "execute_result"
    }
   ],
   "source": [
    "fileName = './Loan_Train.csv'\n",
    "\n",
    "# Drop na\n",
    "df = pd.read_csv(fileName)\n",
    "df.dropna(inplace=True)\n",
    "\n",
    "# Cleaning y data\n",
    "df.replace({\"Loan_Status\":{'N':0,'Y':1}},inplace=True)\n",
    "\n",
    "df.head()"
   ]
  },
  {
   "cell_type": "markdown",
   "metadata": {},
   "source": [
    "### Encoding"
   ]
  },
  {
   "cell_type": "code",
   "execution_count": 3,
   "metadata": {},
   "outputs": [],
   "source": [
    "continuous_variables = ['LoanAmount','ApplicantIncome','CoapplicantIncome']\n",
    "ordinal_variables = ['Dependents', 'Loan_Amount_Term']\n",
    "categorical_variables = {'Property_Area': [\"Rural\", \"Semiurban\", \"Urban\"]}\n",
    "binary_variables = {'Gender':'Male', 'Married':'Yes', 'Education':'Graduate', 'Self_Employed':'Yes', 'Credit_History':1.0}\n",
    "ordinal_to_int = {'Dependents': {\"0\":0, \"1\":1, \"2\":2, \"3+\":3}, \n",
    "                  'Loan_Amount_Term': {36:0, 60:1, 84:2, 120:3, 180:4, 240:5, 300:6, 360:7, 480:8}}"
   ]
  },
  {
   "cell_type": "code",
   "execution_count": 4,
   "metadata": {},
   "outputs": [],
   "source": [
    "#preprocessing function removes columns: Loan_ID (unique for every loan) and Loan_Status (target variable)\n",
    "\n",
    "def preprocessing(df, continuous_variables, ordinal_variables, categorical_variables, binary_variables, ordinal_mapping, ordinal=True):\n",
    "\n",
    "    new = df[continuous_variables]\n",
    "    \n",
    "    pd.options.mode.chained_assignment = None\n",
    "    if ordinal:\n",
    "        # Ordinal encode\n",
    "        for var in ordinal_variables:\n",
    "            new[var] = df[var].replace(ordinal_to_int[var])\n",
    "    else:\n",
    "        # Dummy encode for logistic regression\n",
    "        for var in ordinal_variables:\n",
    "            for val in ordinal_to_int[var]:\n",
    "                new[var + '_' + str(val)] = np.where(df[var]==val, 1, 0)\n",
    "\n",
    "    # Dummy encode for categorical\n",
    "    for var in categorical_variables:\n",
    "        for val in categorical_variables[var]:\n",
    "            new[var + '_' + str(val)] = np.where(df[var]==val, 1, 0)\n",
    "\n",
    "    for var in binary_variables:\n",
    "        # get first val in df\n",
    "        val = binary_variables[var]\n",
    "        new[var + '_' + str(val)] = np.where(df[var]==val, 1, 0)\n",
    "\n",
    "    return new"
   ]
  },
  {
   "cell_type": "markdown",
   "metadata": {},
   "source": [
    "Example of use of preprocessing function:"
   ]
  },
  {
   "cell_type": "code",
   "execution_count": 5,
   "metadata": {
    "scrolled": true
   },
   "outputs": [
    {
     "data": {
      "text/html": [
       "<div>\n",
       "<style scoped>\n",
       "    .dataframe tbody tr th:only-of-type {\n",
       "        vertical-align: middle;\n",
       "    }\n",
       "\n",
       "    .dataframe tbody tr th {\n",
       "        vertical-align: top;\n",
       "    }\n",
       "\n",
       "    .dataframe thead th {\n",
       "        text-align: right;\n",
       "    }\n",
       "</style>\n",
       "<table border=\"1\" class=\"dataframe\">\n",
       "  <thead>\n",
       "    <tr style=\"text-align: right;\">\n",
       "      <th></th>\n",
       "      <th>LoanAmount</th>\n",
       "      <th>ApplicantIncome</th>\n",
       "      <th>CoapplicantIncome</th>\n",
       "      <th>Dependents_0</th>\n",
       "      <th>Dependents_1</th>\n",
       "      <th>Dependents_2</th>\n",
       "      <th>Dependents_3+</th>\n",
       "      <th>Loan_Amount_Term_36</th>\n",
       "      <th>Loan_Amount_Term_60</th>\n",
       "      <th>Loan_Amount_Term_84</th>\n",
       "      <th>...</th>\n",
       "      <th>Loan_Amount_Term_360</th>\n",
       "      <th>Loan_Amount_Term_480</th>\n",
       "      <th>Property_Area_Rural</th>\n",
       "      <th>Property_Area_Semiurban</th>\n",
       "      <th>Property_Area_Urban</th>\n",
       "      <th>Gender_Male</th>\n",
       "      <th>Married_Yes</th>\n",
       "      <th>Education_Graduate</th>\n",
       "      <th>Self_Employed_Yes</th>\n",
       "      <th>Credit_History_1.0</th>\n",
       "    </tr>\n",
       "  </thead>\n",
       "  <tbody>\n",
       "    <tr>\n",
       "      <th>1</th>\n",
       "      <td>128.0</td>\n",
       "      <td>4583</td>\n",
       "      <td>1508.0</td>\n",
       "      <td>0</td>\n",
       "      <td>1</td>\n",
       "      <td>0</td>\n",
       "      <td>0</td>\n",
       "      <td>0</td>\n",
       "      <td>0</td>\n",
       "      <td>0</td>\n",
       "      <td>...</td>\n",
       "      <td>1</td>\n",
       "      <td>0</td>\n",
       "      <td>1</td>\n",
       "      <td>0</td>\n",
       "      <td>0</td>\n",
       "      <td>1</td>\n",
       "      <td>1</td>\n",
       "      <td>1</td>\n",
       "      <td>0</td>\n",
       "      <td>1</td>\n",
       "    </tr>\n",
       "    <tr>\n",
       "      <th>2</th>\n",
       "      <td>66.0</td>\n",
       "      <td>3000</td>\n",
       "      <td>0.0</td>\n",
       "      <td>1</td>\n",
       "      <td>0</td>\n",
       "      <td>0</td>\n",
       "      <td>0</td>\n",
       "      <td>0</td>\n",
       "      <td>0</td>\n",
       "      <td>0</td>\n",
       "      <td>...</td>\n",
       "      <td>1</td>\n",
       "      <td>0</td>\n",
       "      <td>0</td>\n",
       "      <td>0</td>\n",
       "      <td>1</td>\n",
       "      <td>1</td>\n",
       "      <td>1</td>\n",
       "      <td>1</td>\n",
       "      <td>1</td>\n",
       "      <td>1</td>\n",
       "    </tr>\n",
       "    <tr>\n",
       "      <th>3</th>\n",
       "      <td>120.0</td>\n",
       "      <td>2583</td>\n",
       "      <td>2358.0</td>\n",
       "      <td>1</td>\n",
       "      <td>0</td>\n",
       "      <td>0</td>\n",
       "      <td>0</td>\n",
       "      <td>0</td>\n",
       "      <td>0</td>\n",
       "      <td>0</td>\n",
       "      <td>...</td>\n",
       "      <td>1</td>\n",
       "      <td>0</td>\n",
       "      <td>0</td>\n",
       "      <td>0</td>\n",
       "      <td>1</td>\n",
       "      <td>1</td>\n",
       "      <td>1</td>\n",
       "      <td>0</td>\n",
       "      <td>0</td>\n",
       "      <td>1</td>\n",
       "    </tr>\n",
       "    <tr>\n",
       "      <th>4</th>\n",
       "      <td>141.0</td>\n",
       "      <td>6000</td>\n",
       "      <td>0.0</td>\n",
       "      <td>1</td>\n",
       "      <td>0</td>\n",
       "      <td>0</td>\n",
       "      <td>0</td>\n",
       "      <td>0</td>\n",
       "      <td>0</td>\n",
       "      <td>0</td>\n",
       "      <td>...</td>\n",
       "      <td>1</td>\n",
       "      <td>0</td>\n",
       "      <td>0</td>\n",
       "      <td>0</td>\n",
       "      <td>1</td>\n",
       "      <td>1</td>\n",
       "      <td>0</td>\n",
       "      <td>1</td>\n",
       "      <td>0</td>\n",
       "      <td>1</td>\n",
       "    </tr>\n",
       "    <tr>\n",
       "      <th>5</th>\n",
       "      <td>267.0</td>\n",
       "      <td>5417</td>\n",
       "      <td>4196.0</td>\n",
       "      <td>0</td>\n",
       "      <td>0</td>\n",
       "      <td>1</td>\n",
       "      <td>0</td>\n",
       "      <td>0</td>\n",
       "      <td>0</td>\n",
       "      <td>0</td>\n",
       "      <td>...</td>\n",
       "      <td>1</td>\n",
       "      <td>0</td>\n",
       "      <td>0</td>\n",
       "      <td>0</td>\n",
       "      <td>1</td>\n",
       "      <td>1</td>\n",
       "      <td>1</td>\n",
       "      <td>1</td>\n",
       "      <td>1</td>\n",
       "      <td>1</td>\n",
       "    </tr>\n",
       "  </tbody>\n",
       "</table>\n",
       "<p>5 rows × 24 columns</p>\n",
       "</div>"
      ],
      "text/plain": [
       "   LoanAmount  ApplicantIncome  CoapplicantIncome  Dependents_0  Dependents_1  \\\n",
       "1       128.0             4583             1508.0             0             1   \n",
       "2        66.0             3000                0.0             1             0   \n",
       "3       120.0             2583             2358.0             1             0   \n",
       "4       141.0             6000                0.0             1             0   \n",
       "5       267.0             5417             4196.0             0             0   \n",
       "\n",
       "   Dependents_2  Dependents_3+  Loan_Amount_Term_36  Loan_Amount_Term_60  \\\n",
       "1             0              0                    0                    0   \n",
       "2             0              0                    0                    0   \n",
       "3             0              0                    0                    0   \n",
       "4             0              0                    0                    0   \n",
       "5             1              0                    0                    0   \n",
       "\n",
       "   Loan_Amount_Term_84  ...  Loan_Amount_Term_360  Loan_Amount_Term_480  \\\n",
       "1                    0  ...                     1                     0   \n",
       "2                    0  ...                     1                     0   \n",
       "3                    0  ...                     1                     0   \n",
       "4                    0  ...                     1                     0   \n",
       "5                    0  ...                     1                     0   \n",
       "\n",
       "   Property_Area_Rural  Property_Area_Semiurban  Property_Area_Urban  \\\n",
       "1                    1                        0                    0   \n",
       "2                    0                        0                    1   \n",
       "3                    0                        0                    1   \n",
       "4                    0                        0                    1   \n",
       "5                    0                        0                    1   \n",
       "\n",
       "   Gender_Male  Married_Yes  Education_Graduate  Self_Employed_Yes  \\\n",
       "1            1            1                   1                  0   \n",
       "2            1            1                   1                  1   \n",
       "3            1            1                   0                  0   \n",
       "4            1            0                   1                  0   \n",
       "5            1            1                   1                  1   \n",
       "\n",
       "   Credit_History_1.0  \n",
       "1                   1  \n",
       "2                   1  \n",
       "3                   1  \n",
       "4                   1  \n",
       "5                   1  \n",
       "\n",
       "[5 rows x 24 columns]"
      ]
     },
     "execution_count": 5,
     "metadata": {},
     "output_type": "execute_result"
    }
   ],
   "source": [
    "eg = preprocessing(df, continuous_variables, ordinal_variables, categorical_variables, binary_variables, ordinal_to_int, False)\n",
    "eg.head()"
   ]
  },
  {
   "cell_type": "markdown",
   "metadata": {},
   "source": [
    "### Splitting train and test data"
   ]
  },
  {
   "cell_type": "code",
   "execution_count": 6,
   "metadata": {},
   "outputs": [],
   "source": [
    "# Splitting into independent and dependent\n",
    "X = df.drop(columns = ['Loan_Status','Loan_ID'])\n",
    "y = df.Loan_Status\n",
    "\n",
    "#Splitting the data into train and test sets\n",
    "X_train, X_test, y_train, y_test = train_test_split(X, y, test_size=0.30, random_state=SEED)\n",
    "\n",
    "#Splitting the data into validation and train sets\n",
    "X_train, X_val, y_train, y_val = train_test_split(X_train, y_train, test_size=0.30, random_state=SEED)\n",
    "\n",
    "#Process data for different models\n",
    "X_train_tree = preprocessing(X_train, continuous_variables, ordinal_variables, categorical_variables, \n",
    "                             binary_variables, ordinal_to_int, True)\n",
    "X_val_tree = preprocessing(X_val, continuous_variables, ordinal_variables, categorical_variables, \n",
    "                             binary_variables, ordinal_to_int, True)\n",
    "X_test_tree = preprocessing(X_test, continuous_variables, ordinal_variables, categorical_variables, \n",
    "                             binary_variables, ordinal_to_int, True)\n",
    "\n",
    "X_train_reg = preprocessing(X_train, continuous_variables, ordinal_variables, categorical_variables, \n",
    "                             binary_variables, ordinal_to_int, False)\n",
    "X_val_reg = preprocessing(X_val, continuous_variables, ordinal_variables, categorical_variables, \n",
    "                             binary_variables, ordinal_to_int, False)\n",
    "X_test_reg = preprocessing(X_test, continuous_variables, ordinal_variables, categorical_variables, \n",
    "                             binary_variables, ordinal_to_int, False)"
   ]
  },
  {
   "cell_type": "markdown",
   "metadata": {},
   "source": [
    "### Observation about the Data Distributiuon:\n",
    "There are more loan approvals than disapprovals."
   ]
  },
  {
   "cell_type": "code",
   "execution_count": 7,
   "metadata": {
    "scrolled": true
   },
   "outputs": [
    {
     "data": {
      "image/png": "[encoded data removed]",
      "text/plain": [
       "<Figure size 432x288 with 1 Axes>"
      ]
     },
     "metadata": {
      "needs_background": "light"
     },
     "output_type": "display_data"
    }
   ],
   "source": [
    "sns.countplot(y)\n",
    "plt.show()"
   ]
  },
  {
   "cell_type": "markdown",
   "metadata": {},
   "source": [
    "## Logistic Regression <a name=\"lr\"></a>"
   ]
  },
  {
   "cell_type": "code",
   "execution_count": 8,
   "metadata": {
    "scrolled": true
   },
   "outputs": [],
   "source": [
    "# Pipeline to standardise at each fold\n",
    "lr = Pipeline([('scaler', StandardScaler()), ('model', LogisticRegression(random_state=SEED))])"
   ]
  },
  {
   "cell_type": "code",
   "execution_count": 9,
   "metadata": {},
   "outputs": [
    {
     "data": {
      "text/plain": [
       "GridSearchCV(cv=10,\n",
       "             estimator=Pipeline(steps=[('scaler', StandardScaler()),\n",
       "                                       ('model',\n",
       "                                        LogisticRegression(random_state=1))]),\n",
       "             param_grid={'model__C': array([0.1, 0.2, 0.3, 0.4, 0.5, 0.6, 0.7, 0.8, 0.9, 1. ]),\n",
       "                         'model__penalty': ['l1'],\n",
       "                         'model__solver': ['liblinear', 'saga']},\n",
       "             return_train_score=True, scoring='roc_auc')"
      ]
     },
     "execution_count": 9,
     "metadata": {},
     "output_type": "execute_result"
    }
   ],
   "source": [
    "lr_param_grid = {'model__penalty' : ['l1'],\n",
    "                 'model__solver' : ['liblinear', 'saga'],\n",
    "                 'model__C' : np.arange(0.1, 1.1, 0.1)}\n",
    "\n",
    "lr_searcher = GridSearchCV(lr,\n",
    "                           param_grid=lr_param_grid,\n",
    "                           cv=10,\n",
    "                           scoring='roc_auc',\n",
    "                           return_train_score=True,\n",
    "                           refit=True)\n",
    "lr_searcher.fit(X_train_reg, y_train)"
   ]
  },
  {
   "cell_type": "markdown",
   "metadata": {},
   "source": [
    "### Result <a name=\"lr_result\"></a>"
   ]
  },
  {
   "cell_type": "code",
   "execution_count": 10,
   "metadata": {},
   "outputs": [
    {
     "data": {
      "text/plain": [
       "{'model__C': 0.2, 'model__penalty': 'l1', 'model__solver': 'saga'}"
      ]
     },
     "execution_count": 10,
     "metadata": {},
     "output_type": "execute_result"
    }
   ],
   "source": [
    "lr_searcher.best_params_"
   ]
  },
  {
   "cell_type": "code",
   "execution_count": 11,
   "metadata": {},
   "outputs": [
    {
     "data": {
      "text/html": [
       "<div>\n",
       "<style scoped>\n",
       "    .dataframe tbody tr th:only-of-type {\n",
       "        vertical-align: middle;\n",
       "    }\n",
       "\n",
       "    .dataframe tbody tr th {\n",
       "        vertical-align: top;\n",
       "    }\n",
       "\n",
       "    .dataframe thead th {\n",
       "        text-align: right;\n",
       "    }\n",
       "</style>\n",
       "<table border=\"1\" class=\"dataframe\">\n",
       "  <thead>\n",
       "    <tr style=\"text-align: right;\">\n",
       "      <th></th>\n",
       "      <th>Feature</th>\n",
       "      <th>Coefficient</th>\n",
       "    </tr>\n",
       "  </thead>\n",
       "  <tbody>\n",
       "    <tr>\n",
       "      <th>0</th>\n",
       "      <td>LoanAmount</td>\n",
       "      <td>-0.0579</td>\n",
       "    </tr>\n",
       "    <tr>\n",
       "      <th>1</th>\n",
       "      <td>ApplicantIncome</td>\n",
       "      <td>0.0000</td>\n",
       "    </tr>\n",
       "    <tr>\n",
       "      <th>2</th>\n",
       "      <td>CoapplicantIncome</td>\n",
       "      <td>-0.1586</td>\n",
       "    </tr>\n",
       "    <tr>\n",
       "      <th>3</th>\n",
       "      <td>Dependents_0</td>\n",
       "      <td>-0.1311</td>\n",
       "    </tr>\n",
       "    <tr>\n",
       "      <th>4</th>\n",
       "      <td>Dependents_1</td>\n",
       "      <td>0.0000</td>\n",
       "    </tr>\n",
       "    <tr>\n",
       "      <th>5</th>\n",
       "      <td>Dependents_2</td>\n",
       "      <td>0.0000</td>\n",
       "    </tr>\n",
       "    <tr>\n",
       "      <th>6</th>\n",
       "      <td>Dependents_3+</td>\n",
       "      <td>0.0378</td>\n",
       "    </tr>\n",
       "    <tr>\n",
       "      <th>7</th>\n",
       "      <td>Loan_Amount_Term_36</td>\n",
       "      <td>0.0000</td>\n",
       "    </tr>\n",
       "    <tr>\n",
       "      <th>8</th>\n",
       "      <td>Loan_Amount_Term_60</td>\n",
       "      <td>0.0000</td>\n",
       "    </tr>\n",
       "    <tr>\n",
       "      <th>9</th>\n",
       "      <td>Loan_Amount_Term_84</td>\n",
       "      <td>0.0000</td>\n",
       "    </tr>\n",
       "    <tr>\n",
       "      <th>10</th>\n",
       "      <td>Loan_Amount_Term_120</td>\n",
       "      <td>0.0000</td>\n",
       "    </tr>\n",
       "    <tr>\n",
       "      <th>11</th>\n",
       "      <td>Loan_Amount_Term_180</td>\n",
       "      <td>0.0011</td>\n",
       "    </tr>\n",
       "    <tr>\n",
       "      <th>12</th>\n",
       "      <td>Loan_Amount_Term_240</td>\n",
       "      <td>-0.1811</td>\n",
       "    </tr>\n",
       "    <tr>\n",
       "      <th>13</th>\n",
       "      <td>Loan_Amount_Term_300</td>\n",
       "      <td>-0.0528</td>\n",
       "    </tr>\n",
       "    <tr>\n",
       "      <th>14</th>\n",
       "      <td>Loan_Amount_Term_360</td>\n",
       "      <td>0.0000</td>\n",
       "    </tr>\n",
       "    <tr>\n",
       "      <th>15</th>\n",
       "      <td>Loan_Amount_Term_480</td>\n",
       "      <td>0.0000</td>\n",
       "    </tr>\n",
       "    <tr>\n",
       "      <th>16</th>\n",
       "      <td>Property_Area_Rural</td>\n",
       "      <td>-0.2552</td>\n",
       "    </tr>\n",
       "    <tr>\n",
       "      <th>17</th>\n",
       "      <td>Property_Area_Semiurban</td>\n",
       "      <td>0.0692</td>\n",
       "    </tr>\n",
       "    <tr>\n",
       "      <th>18</th>\n",
       "      <td>Property_Area_Urban</td>\n",
       "      <td>0.0000</td>\n",
       "    </tr>\n",
       "    <tr>\n",
       "      <th>19</th>\n",
       "      <td>Gender_Male</td>\n",
       "      <td>0.0000</td>\n",
       "    </tr>\n",
       "    <tr>\n",
       "      <th>20</th>\n",
       "      <td>Married_Yes</td>\n",
       "      <td>0.1694</td>\n",
       "    </tr>\n",
       "    <tr>\n",
       "      <th>21</th>\n",
       "      <td>Education_Graduate</td>\n",
       "      <td>0.0000</td>\n",
       "    </tr>\n",
       "    <tr>\n",
       "      <th>22</th>\n",
       "      <td>Self_Employed_Yes</td>\n",
       "      <td>0.0000</td>\n",
       "    </tr>\n",
       "    <tr>\n",
       "      <th>23</th>\n",
       "      <td>Credit_History_1.0</td>\n",
       "      <td>1.0110</td>\n",
       "    </tr>\n",
       "  </tbody>\n",
       "</table>\n",
       "</div>"
      ],
      "text/plain": [
       "                    Feature  Coefficient\n",
       "0                LoanAmount      -0.0579\n",
       "1           ApplicantIncome       0.0000\n",
       "2         CoapplicantIncome      -0.1586\n",
       "3              Dependents_0      -0.1311\n",
       "4              Dependents_1       0.0000\n",
       "5              Dependents_2       0.0000\n",
       "6             Dependents_3+       0.0378\n",
       "7       Loan_Amount_Term_36       0.0000\n",
       "8       Loan_Amount_Term_60       0.0000\n",
       "9       Loan_Amount_Term_84       0.0000\n",
       "10     Loan_Amount_Term_120       0.0000\n",
       "11     Loan_Amount_Term_180       0.0011\n",
       "12     Loan_Amount_Term_240      -0.1811\n",
       "13     Loan_Amount_Term_300      -0.0528\n",
       "14     Loan_Amount_Term_360       0.0000\n",
       "15     Loan_Amount_Term_480       0.0000\n",
       "16      Property_Area_Rural      -0.2552\n",
       "17  Property_Area_Semiurban       0.0692\n",
       "18      Property_Area_Urban       0.0000\n",
       "19              Gender_Male       0.0000\n",
       "20              Married_Yes       0.1694\n",
       "21       Education_Graduate       0.0000\n",
       "22        Self_Employed_Yes       0.0000\n",
       "23       Credit_History_1.0       1.0110"
      ]
     },
     "execution_count": 11,
     "metadata": {},
     "output_type": "execute_result"
    }
   ],
   "source": [
    "best_lr = lr_searcher.best_estimator_\n",
    "lr_coef_table = pd.concat([pd.DataFrame(X_train_reg.columns, columns=['Feature']),\n",
    "                           pd.DataFrame(best_lr.named_steps['model'].coef_.round(4).reshape(-1), columns=['Coefficient'])],\n",
    "                          axis=1)\n",
    "lr_coef_table"
   ]
  },
  {
   "cell_type": "markdown",
   "metadata": {},
   "source": [
    "### Evaluation <a name=\"lr_evaluation\"></a>"
   ]
  },
  {
   "cell_type": "code",
   "execution_count": 12,
   "metadata": {},
   "outputs": [
    {
     "name": "stdout",
     "output_type": "stream",
     "text": [
      "ROC-AUC of Logistic Regression (Train Set): 0.8266\n"
     ]
    }
   ],
   "source": [
    "X_train_reg_scaled = StandardScaler().fit_transform(X_train_reg)\n",
    "lr_auc_train = roc_auc_score(y_train,\n",
    "                             lr_searcher.predict_proba(X_train_reg_scaled)[:,1])\n",
    "print(\"ROC-AUC of Logistic Regression (Train Set): \" + str(lr_auc_train.round(4)))"
   ]
  },
  {
   "cell_type": "code",
   "execution_count": 13,
   "metadata": {},
   "outputs": [
    {
     "name": "stdout",
     "output_type": "stream",
     "text": [
      "ROC-AUC of Logistic Regression (Validation Set): 0.779\n"
     ]
    }
   ],
   "source": [
    "X_val_reg_scaled = StandardScaler().fit_transform(X_val_reg)\n",
    "lr_auc_val = roc_auc_score(y_val,\n",
    "                           best_lr.predict_proba(X_val_reg_scaled)[:,1])\n",
    "print(\"ROC-AUC of Logistic Regression (Validation Set): \" + str(lr_auc_val.round(4)))"
   ]
  },
  {
   "cell_type": "code",
   "execution_count": 14,
   "metadata": {},
   "outputs": [
    {
     "data": {
      "image/png": "[encoded data removed]",
      "text/plain": [
       "<Figure size 432x288 with 1 Axes>"
      ]
     },
     "metadata": {
      "needs_background": "light"
     },
     "output_type": "display_data"
    }
   ],
   "source": [
    "plot_roc_curve(lr_searcher, X_val_reg_scaled, y_val)\n",
    "plt.plot([0, 1], [0, 1], '--', color=\"gray\") # random guess\n",
    "plt.show()"
   ]
  },
  {
   "cell_type": "markdown",
   "metadata": {},
   "source": [
    "## Decision Tree <a name=\"dt\"></a>"
   ]
  },
  {
   "cell_type": "code",
   "execution_count": 15,
   "metadata": {},
   "outputs": [
    {
     "data": {
      "text/plain": [
       "GridSearchCV(cv=10, estimator=DecisionTreeClassifier(random_state=1),\n",
       "             param_grid={'max_depth': array([1, 2, 3, 4, 5, 6]),\n",
       "                         'min_samples_leaf': array([10, 20, 30, 40])},\n",
       "             return_train_score=True, scoring='roc_auc')"
      ]
     },
     "execution_count": 15,
     "metadata": {},
     "output_type": "execute_result"
    }
   ],
   "source": [
    "dt = DecisionTreeClassifier(random_state=SEED)\n",
    "\n",
    "dt_param_grid = {'max_depth' : np.arange(1, 7, 1),\n",
    "                 'min_samples_leaf' : np.arange(10, 50, 10)}\n",
    "\n",
    "dt_searcher = GridSearchCV(dt,\n",
    "                           param_grid=dt_param_grid,\n",
    "                           cv=10,\n",
    "                           scoring='roc_auc',\n",
    "                           return_train_score=True,\n",
    "                           refit=True)\n",
    "dt_searcher.fit(X_train_tree, y_train)"
   ]
  },
  {
   "cell_type": "markdown",
   "metadata": {},
   "source": [
    "### Result <a name=\"dt_result\"></a>"
   ]
  },
  {
   "cell_type": "code",
   "execution_count": 16,
   "metadata": {},
   "outputs": [
    {
     "data": {
      "text/plain": [
       "{'max_depth': 4, 'min_samples_leaf': 20}"
      ]
     },
     "execution_count": 16,
     "metadata": {},
     "output_type": "execute_result"
    }
   ],
   "source": [
    "dt_searcher.best_params_"
   ]
  },
  {
   "cell_type": "code",
   "execution_count": 17,
   "metadata": {},
   "outputs": [
    {
     "data": {
      "image/png": "[encoded data removed]",
      "text/plain": [
       "<Figure size 1800x1200 with 1 Axes>"
      ]
     },
     "metadata": {
      "needs_background": "light"
     },
     "output_type": "display_data"
    }
   ],
   "source": [
    "best_dt = dt_searcher.best_estimator_\n",
    "\n",
    "fig, axes = plt.subplots(nrows = 1,ncols = 1,figsize = (6,4), dpi=300)\n",
    "plot_tree(best_dt,\n",
    "               feature_names=X_train_tree.columns,\n",
    "               filled=True,\n",
    "               fontsize=3)\n",
    "#To save a image of the tree\n",
    "#fig.savefig('dt.png')\n",
    "plt.show()"
   ]
  },
  {
   "cell_type": "markdown",
   "metadata": {},
   "source": [
    "### Evaluation <a name=\"dt_evaluation\"></a>"
   ]
  },
  {
   "cell_type": "code",
   "execution_count": 18,
   "metadata": {},
   "outputs": [
    {
     "name": "stdout",
     "output_type": "stream",
     "text": [
      "ROC-AUC of Decision Tree (Train Set): 0.8295\n"
     ]
    }
   ],
   "source": [
    "dt_auc_train = roc_auc_score(y_train,\n",
    "                             dt_searcher.predict_proba(X_train_tree)[:,1])\n",
    "print(\"ROC-AUC of Decision Tree (Train Set): \" + str(dt_auc_train.round(4)))"
   ]
  },
  {
   "cell_type": "code",
   "execution_count": 19,
   "metadata": {},
   "outputs": [
    {
     "name": "stdout",
     "output_type": "stream",
     "text": [
      "ROC-AUC of Decision Tree (Validation Set): 0.7414\n"
     ]
    }
   ],
   "source": [
    "dt_auc_val = roc_auc_score(y_val,\n",
    "                             dt_searcher.predict_proba(X_val_tree)[:,1])\n",
    "print(\"ROC-AUC of Decision Tree (Validation Set): \" + str(dt_auc_val.round(4)))"
   ]
  },
  {
   "cell_type": "code",
   "execution_count": 20,
   "metadata": {},
   "outputs": [
    {
     "data": {
      "image/png": "[encoded data removed]",
      "text/plain": [
       "<Figure size 432x288 with 1 Axes>"
      ]
     },
     "metadata": {
      "needs_background": "light"
     },
     "output_type": "display_data"
    }
   ],
   "source": [
    "plot_roc_curve(dt_searcher, X_val_tree, y_val)\n",
    "plt.plot([0, 1], [0, 1], '--', color=\"gray\") # random guess\n",
    "plt.show()"
   ]
  },
  {
   "cell_type": "markdown",
   "metadata": {},
   "source": [
    "## K Nearest Neighbours <a name=\"knn\"></a>"
   ]
  },
  {
   "cell_type": "code",
   "execution_count": 21,
   "metadata": {},
   "outputs": [
    {
     "name": "stdout",
     "output_type": "stream",
     "text": [
      "Fitting 10 folds for each of 29 candidates, totalling 290 fits\n"
     ]
    },
    {
     "name": "stderr",
     "output_type": "stream",
     "text": [
      "[Parallel(n_jobs=1)]: Using backend SequentialBackend with 1 concurrent workers.\n",
      "[Parallel(n_jobs=1)]: Done 290 out of 290 | elapsed:    6.1s finished\n"
     ]
    },
    {
     "data": {
      "text/plain": [
       "GridSearchCV(cv=10,\n",
       "             estimator=Pipeline(steps=[('scaler', StandardScaler()),\n",
       "                                       ('model', KNeighborsClassifier())]),\n",
       "             param_grid={'model__n_neighbors': array([ 1,  2,  3,  4,  5,  6,  7,  8,  9, 10, 11, 12, 13, 14, 15, 16, 17,\n",
       "       18, 19, 20, 21, 22, 23, 24, 25, 26, 27, 28, 29])},\n",
       "             return_train_score=True, scoring='roc_auc', verbose=1)"
      ]
     },
     "execution_count": 21,
     "metadata": {},
     "output_type": "execute_result"
    }
   ],
   "source": [
    "knn = Pipeline([('scaler', StandardScaler()), ('model', KNeighborsClassifier())])\n",
    "\n",
    "k_range = list(range(1, 31))\n",
    "param_grid = {'model__n_neighbors': np.arange(1, 30)}\n",
    "  \n",
    "# defining parameter range\n",
    "knn_searcher = GridSearchCV(estimator= knn, \n",
    "                            param_grid = param_grid, \n",
    "                            cv = 10, \n",
    "                            scoring='roc_auc', \n",
    "                            return_train_score=True, \n",
    "                            verbose=1,\n",
    "                            refit=True)\n",
    "  \n",
    "# fitting the model for grid search\n",
    "knn_searcher.fit(X_train_reg, y_train)"
   ]
  },
  {
   "cell_type": "markdown",
   "metadata": {},
   "source": [
    "### Result <a name=\"knn_result\"></a>"
   ]
  },
  {
   "cell_type": "code",
   "execution_count": 22,
   "metadata": {},
   "outputs": [
    {
     "data": {
      "text/plain": [
       "{'model__n_neighbors': 29}"
      ]
     },
     "execution_count": 22,
     "metadata": {},
     "output_type": "execute_result"
    }
   ],
   "source": [
    "knn_searcher.best_params_"
   ]
  },
  {
   "cell_type": "markdown",
   "metadata": {},
   "source": [
    "### Evaluation <a name=\"knn_evaluation\"></a>"
   ]
  },
  {
   "cell_type": "code",
   "execution_count": 23,
   "metadata": {},
   "outputs": [
    {
     "name": "stdout",
     "output_type": "stream",
     "text": [
      "ROC-AUC of K Nearest Neighbours (Train Set): 0.7857\n"
     ]
    }
   ],
   "source": [
    "X_train_reg_scaled = StandardScaler().fit_transform(X_train_reg)\n",
    "knn_auc_train = roc_auc_score(y_train,\n",
    "                             knn_searcher.predict_proba(X_train_reg_scaled)[:,1])\n",
    "print(\"ROC-AUC of K Nearest Neighbours (Train Set): \" + str(knn_auc_train.round(4)))"
   ]
  },
  {
   "cell_type": "code",
   "execution_count": 24,
   "metadata": {},
   "outputs": [
    {
     "name": "stdout",
     "output_type": "stream",
     "text": [
      "ROC-AUC of K Nearest Neighbours (Validation Set): 0.7341\n"
     ]
    }
   ],
   "source": [
    "X_val_reg_scaled = StandardScaler().fit_transform(X_val_reg)\n",
    "knn_auc_val = roc_auc_score(y_val,\n",
    "                             knn_searcher.predict_proba(X_val_reg_scaled)[:,1])\n",
    "print(\"ROC-AUC of K Nearest Neighbours (Validation Set): \" + str(knn_auc_val.round(4)))"
   ]
  },
  {
   "cell_type": "code",
   "execution_count": 25,
   "metadata": {},
   "outputs": [
    {
     "data": {
      "image/png": "[encoded data removed]",
      "text/plain": [
       "<Figure size 432x288 with 1 Axes>"
      ]
     },
     "metadata": {
      "needs_background": "light"
     },
     "output_type": "display_data"
    }
   ],
   "source": [
    "X_val_reg_scaled = StandardScaler().fit_transform(X_val_reg)\n",
    "plot_roc_curve(knn_searcher, X_val_reg_scaled, y_val)\n",
    "plt.plot([0, 1], [0, 1], '--', color=\"gray\") # random guess\n",
    "plt.show()"
   ]
  },
  {
   "cell_type": "markdown",
   "metadata": {},
   "source": [
    "## Random Forest <a name=\"rf\"></a>"
   ]
  },
  {
   "cell_type": "code",
   "execution_count": 26,
   "metadata": {},
   "outputs": [
    {
     "data": {
      "text/plain": [
       "GridSearchCV(cv=10, estimator=RandomForestClassifier(random_state=1),\n",
       "             param_grid={'max_depth': array([3, 4, 5, 6]),\n",
       "                         'min_samples_leaf': array([ 5, 10, 15]),\n",
       "                         'n_estimators': [15, 25, 50]},\n",
       "             return_train_score=True, scoring='roc_auc')"
      ]
     },
     "execution_count": 26,
     "metadata": {},
     "output_type": "execute_result"
    }
   ],
   "source": [
    "rf = RandomForestClassifier(random_state=SEED)\n",
    "\n",
    "rf_param_grid = {'n_estimators' : [15, 25, 50],\n",
    "                 'max_depth' : np.arange(3, 7, 1),\n",
    "                 'min_samples_leaf' : np.arange(5, 20, 5)}\n",
    "\n",
    "rf_searcher = GridSearchCV(rf,\n",
    "                           param_grid=rf_param_grid,\n",
    "                           cv=10,\n",
    "                           scoring='roc_auc',\n",
    "                           return_train_score=True, \n",
    "                           refit=True)\n",
    "rf_searcher.fit(X_train_tree, y_train)"
   ]
  },
  {
   "cell_type": "markdown",
   "metadata": {},
   "source": [
    "### Result <a name=\"rf_result\"></a>"
   ]
  },
  {
   "cell_type": "code",
   "execution_count": 27,
   "metadata": {},
   "outputs": [
    {
     "data": {
      "text/plain": [
       "{'max_depth': 4, 'min_samples_leaf': 10, 'n_estimators': 15}"
      ]
     },
     "execution_count": 27,
     "metadata": {},
     "output_type": "execute_result"
    }
   ],
   "source": [
    "rf_searcher.best_params_"
   ]
  },
  {
   "cell_type": "markdown",
   "metadata": {},
   "source": [
    "**Importance Plot:**"
   ]
  },
  {
   "cell_type": "code",
   "execution_count": 28,
   "metadata": {},
   "outputs": [],
   "source": [
    "best_rf = rf_searcher.best_estimator_\n",
    "rf_importance = pd.Series(best_rf.feature_importances_, index=X_train_tree.columns)\n",
    "rf_sorted_importance = rf_importance.sort_values()"
   ]
  },
  {
   "cell_type": "code",
   "execution_count": 29,
   "metadata": {},
   "outputs": [
    {
     "data": {
      "image/png": "[encoded data removed]",
      "text/plain": [
       "<Figure size 432x288 with 1 Axes>"
      ]
     },
     "metadata": {
      "needs_background": "light"
     },
     "output_type": "display_data"
    }
   ],
   "source": [
    "rf_sorted_importance.plot(kind='barh', color='blue')\n",
    "plt.show()"
   ]
  },
  {
   "cell_type": "markdown",
   "metadata": {},
   "source": [
    "### Evaluation <a name=\"rf_evaluation\"></a>"
   ]
  },
  {
   "cell_type": "code",
   "execution_count": 30,
   "metadata": {},
   "outputs": [
    {
     "name": "stdout",
     "output_type": "stream",
     "text": [
      "ROC-AUC of Random Forest (Train Set): 0.8822\n"
     ]
    }
   ],
   "source": [
    "rf_auc_train = roc_auc_score(y_train,\n",
    "                             rf_searcher.predict_proba(X_train_tree)[:,1])\n",
    "print(\"ROC-AUC of Random Forest (Train Set): \" + str(rf_auc_train.round(4)))"
   ]
  },
  {
   "cell_type": "code",
   "execution_count": 31,
   "metadata": {},
   "outputs": [
    {
     "name": "stdout",
     "output_type": "stream",
     "text": [
      "ROC-AUC of Random Forest (Validation Set): 0.8003\n"
     ]
    }
   ],
   "source": [
    "rf_auc_val = roc_auc_score(y_val,\n",
    "                             rf_searcher.predict_proba(X_val_tree)[:,1])\n",
    "print(\"ROC-AUC of Random Forest (Validation Set): \" + str(rf_auc_val.round(4)))"
   ]
  },
  {
   "cell_type": "code",
   "execution_count": 32,
   "metadata": {},
   "outputs": [
    {
     "data": {
      "image/png": "[encoded data removed]",
      "text/plain": [
       "<Figure size 432x288 with 1 Axes>"
      ]
     },
     "metadata": {
      "needs_background": "light"
     },
     "output_type": "display_data"
    }
   ],
   "source": [
    "plot_roc_curve(rf_searcher, X_val_tree, y_val)\n",
    "plt.plot([0, 1], [0, 1], '--', color=\"gray\") # random guess\n",
    "plt.show()"
   ]
  },
  {
   "cell_type": "markdown",
   "metadata": {},
   "source": [
    "## Gradient Boost <a name=\"gb\"></a>"
   ]
  },
  {
   "cell_type": "code",
   "execution_count": 33,
   "metadata": {},
   "outputs": [
    {
     "data": {
      "text/plain": [
       "GridSearchCV(cv=10, estimator=GradientBoostingClassifier(random_state=1),\n",
       "             param_grid={'max_depth': array([1, 2, 3, 4]),\n",
       "                         'min_samples_leaf': [20, 30, 40],\n",
       "                         'n_estimators': [150, 200, 250]},\n",
       "             return_train_score=True, scoring='roc_auc')"
      ]
     },
     "execution_count": 33,
     "metadata": {},
     "output_type": "execute_result"
    }
   ],
   "source": [
    "gb = GradientBoostingClassifier(random_state=SEED)\n",
    "\n",
    "gb_param_grid = {'n_estimators' : [150, 200, 250],\n",
    "                 'max_depth' : np.arange(1, 5, 1),\n",
    "                 'min_samples_leaf' : [20, 30, 40]}\n",
    "\n",
    "gb_searcher = GridSearchCV(gb,\n",
    "                           param_grid=gb_param_grid,\n",
    "                           cv=10,\n",
    "                           scoring='roc_auc',\n",
    "                           return_train_score=True, \n",
    "                           refit=True)\n",
    "gb_searcher.fit(X_train_tree, y_train)"
   ]
  },
  {
   "cell_type": "markdown",
   "metadata": {},
   "source": [
    "### Result <a name=\"gb_result\"></a>"
   ]
  },
  {
   "cell_type": "code",
   "execution_count": 34,
   "metadata": {},
   "outputs": [
    {
     "data": {
      "text/plain": [
       "{'max_depth': 1, 'min_samples_leaf': 20, 'n_estimators': 150}"
      ]
     },
     "execution_count": 34,
     "metadata": {},
     "output_type": "execute_result"
    }
   ],
   "source": [
    "gb_searcher.best_params_"
   ]
  },
  {
   "cell_type": "code",
   "execution_count": 35,
   "metadata": {},
   "outputs": [],
   "source": [
    "best_gb = gb_searcher.best_estimator_\n",
    "gb_importance = pd.Series(best_gb.feature_importances_, index=X_train_tree.columns)\n",
    "gb_sorted_importance = gb_importance.sort_values()"
   ]
  },
  {
   "cell_type": "code",
   "execution_count": 36,
   "metadata": {},
   "outputs": [
    {
     "data": {
      "image/png": "[encoded data removed]",
      "text/plain": [
       "<Figure size 432x288 with 1 Axes>"
      ]
     },
     "metadata": {
      "needs_background": "light"
     },
     "output_type": "display_data"
    }
   ],
   "source": [
    "gb_sorted_importance.plot(kind='barh', color='blue')\n",
    "plt.show()"
   ]
  },
  {
   "cell_type": "markdown",
   "metadata": {},
   "source": [
    "### Evaluation <a name=\"gb_evaluation\"></a>"
   ]
  },
  {
   "cell_type": "code",
   "execution_count": 37,
   "metadata": {},
   "outputs": [
    {
     "name": "stdout",
     "output_type": "stream",
     "text": [
      "ROC-AUC of Gradient Boost (Train Set): 0.8584\n"
     ]
    }
   ],
   "source": [
    "gb_auc_train = roc_auc_score(y_train,\n",
    "                             gb_searcher.predict_proba(X_train_tree)[:,1])\n",
    "print(\"ROC-AUC of Gradient Boost (Train Set): \" + str(gb_auc_train.round(4)))"
   ]
  },
  {
   "cell_type": "code",
   "execution_count": 38,
   "metadata": {},
   "outputs": [
    {
     "name": "stdout",
     "output_type": "stream",
     "text": [
      "ROC-AUC of Gradient Boost (Validation Set): 0.7817\n"
     ]
    }
   ],
   "source": [
    "gb_auc_val = roc_auc_score(y_val,\n",
    "                             gb_searcher.predict_proba(X_val_tree)[:,1])\n",
    "print(\"ROC-AUC of Gradient Boost (Validation Set): \" + str(gb_auc_val.round(4)))"
   ]
  },
  {
   "cell_type": "code",
   "execution_count": 39,
   "metadata": {},
   "outputs": [
    {
     "data": {
      "image/png": "[encoded data removed]",
      "text/plain": [
       "<Figure size 432x288 with 1 Axes>"
      ]
     },
     "metadata": {
      "needs_background": "light"
     },
     "output_type": "display_data"
    }
   ],
   "source": [
    "plot_roc_curve(gb_searcher, X_val_tree, y_val)\n",
    "plt.plot([0, 1], [0, 1], '--', color=\"gray\") # random guess\n",
    "plt.show()"
   ]
  },
  {
   "cell_type": "markdown",
   "metadata": {},
   "source": [
    "## Comparing Models <a name=\"comparing_models\"></a>"
   ]
  },
  {
   "cell_type": "code",
   "execution_count": 40,
   "metadata": {},
   "outputs": [
    {
     "data": {
      "text/html": [
       "<div>\n",
       "<style scoped>\n",
       "    .dataframe tbody tr th:only-of-type {\n",
       "        vertical-align: middle;\n",
       "    }\n",
       "\n",
       "    .dataframe tbody tr th {\n",
       "        vertical-align: top;\n",
       "    }\n",
       "\n",
       "    .dataframe thead th {\n",
       "        text-align: right;\n",
       "    }\n",
       "</style>\n",
       "<table border=\"1\" class=\"dataframe\">\n",
       "  <thead>\n",
       "    <tr style=\"text-align: right;\">\n",
       "      <th></th>\n",
       "      <th>Model</th>\n",
       "      <th>Training ROC-AUC Score</th>\n",
       "      <th>Validation ROC-AUC Score</th>\n",
       "    </tr>\n",
       "  </thead>\n",
       "  <tbody>\n",
       "    <tr>\n",
       "      <th>0</th>\n",
       "      <td>Logistic Regression</td>\n",
       "      <td>0.826606</td>\n",
       "      <td>0.778986</td>\n",
       "    </tr>\n",
       "    <tr>\n",
       "      <th>1</th>\n",
       "      <td>Decision Tree</td>\n",
       "      <td>0.829502</td>\n",
       "      <td>0.741395</td>\n",
       "    </tr>\n",
       "    <tr>\n",
       "      <th>2</th>\n",
       "      <td>K Nearest Neighbours</td>\n",
       "      <td>0.785656</td>\n",
       "      <td>0.734149</td>\n",
       "    </tr>\n",
       "    <tr>\n",
       "      <th>3</th>\n",
       "      <td>Random Forest</td>\n",
       "      <td>0.882217</td>\n",
       "      <td>0.800272</td>\n",
       "    </tr>\n",
       "    <tr>\n",
       "      <th>4</th>\n",
       "      <td>Gradient Boost</td>\n",
       "      <td>0.858371</td>\n",
       "      <td>0.781703</td>\n",
       "    </tr>\n",
       "  </tbody>\n",
       "</table>\n",
       "</div>"
      ],
      "text/plain": [
       "                  Model  Training ROC-AUC Score  Validation ROC-AUC Score\n",
       "0   Logistic Regression                0.826606                  0.778986\n",
       "1         Decision Tree                0.829502                  0.741395\n",
       "2  K Nearest Neighbours                0.785656                  0.734149\n",
       "3         Random Forest                0.882217                  0.800272\n",
       "4        Gradient Boost                0.858371                  0.781703"
      ]
     },
     "execution_count": 40,
     "metadata": {},
     "output_type": "execute_result"
    }
   ],
   "source": [
    "pd.DataFrame({\"Model\": [\"Logistic Regression\", \"Decision Tree\", \"K Nearest Neighbours\", \n",
    "                        \"Random Forest\", \"Gradient Boost\"],\n",
    "              \"Training ROC-AUC Score\": [lr_auc_train, dt_auc_train, knn_auc_train, \n",
    "                                         rf_auc_train, gb_auc_train],\n",
    "              \"Validation ROC-AUC Score\": [lr_auc_val, dt_auc_val, knn_auc_val,\n",
    "                                          rf_auc_val, gb_auc_val]})"
   ]
  },
  {
   "cell_type": "markdown",
   "metadata": {},
   "source": [
    "## Final Model: Logistic Regression <a name=\"final_model\"></a>"
   ]
  },
  {
   "cell_type": "markdown",
   "metadata": {},
   "source": [
    "### Test Result <a name=\"test_result\"></a>"
   ]
  },
  {
   "cell_type": "code",
   "execution_count": 41,
   "metadata": {},
   "outputs": [
    {
     "name": "stdout",
     "output_type": "stream",
     "text": [
      "ROC-AUC of Logistic Regression (Test Set): 0.7065\n"
     ]
    }
   ],
   "source": [
    "X_test_reg_scaled = StandardScaler().fit_transform(X_test_reg)\n",
    "\n",
    "lr_auc_test = roc_auc_score(y_test,\n",
    "                             lr_searcher.predict_proba(X_test_reg_scaled)[:,1])\n",
    "print(\"ROC-AUC of Logistic Regression (Test Set): \" + str(lr_auc_test.round(4)))"
   ]
  },
  {
   "cell_type": "code",
   "execution_count": 42,
   "metadata": {},
   "outputs": [
    {
     "data": {
      "image/png": "[encoded data removed]",
      "text/plain": [
       "<Figure size 432x288 with 1 Axes>"
      ]
     },
     "metadata": {
      "needs_background": "light"
     },
     "output_type": "display_data"
    }
   ],
   "source": [
    "plot_roc_curve(lr_searcher, X_test_reg_scaled, y_test)\n",
    "plt.plot([0, 1], [0, 1], '--', color=\"gray\") # random guess\n",
    "plt.show()"
   ]
  },
  {
   "cell_type": "markdown",
   "metadata": {},
   "source": [
    "### Benefit Analysis <a name=\"benefit\"></a>"
   ]
  },
  {
   "cell_type": "code",
   "execution_count": 43,
   "metadata": {},
   "outputs": [],
   "source": [
    "def getCM(thresholds, model, X_train, y_train):\n",
    "    cm = []\n",
    "    for i in range(len(thresholds)):\n",
    "        p = model.predict_proba(X_train)[:,1]\n",
    "        threshold = thresholds[i]\n",
    "        y_pred = np.where(p > threshold, 1, 0)\n",
    "        cm.append(confusion_matrix(y_train, y_pred))\n",
    "    \n",
    "    return cm"
   ]
  },
  {
   "cell_type": "code",
   "execution_count": 44,
   "metadata": {},
   "outputs": [
    {
     "data": {
      "image/png": "[encoded data removed]",
      "text/plain": [
       "<Figure size 720x720 with 4 Axes>"
      ]
     },
     "metadata": {
      "needs_background": "light"
     },
     "output_type": "display_data"
    }
   ],
   "source": [
    "thresholds = [0.1, 0.25, 0.5, 0.75]\n",
    "\n",
    "cm = getCM(thresholds, lr_searcher, X_train_reg, y_train)\n",
    "\n",
    "fig, axes = plt.subplots(figsize=(10,10))\n",
    "plt.subplots_adjust(hspace=0.3, wspace=0.3)\n",
    "\n",
    "for i in range(len(thresholds)):\n",
    "    ax = plt.subplot(math.ceil(len(thresholds)/2), 2, i+1)\n",
    "    sns.heatmap(cm[i], annot=True, fmt='d', cbar=False, cmap='Blues', annot_kws={\"fontsize\":16})\n",
    "    ax.set_xlabel('Predicted')\n",
    "    ax.set_ylabel('Actual'); \n",
    "    ax.set_title('Threshold = ' + str(thresholds[i]*100) + '%');\n",
    "    ax.set_ylim([0,2])\n",
    "\n",
    "\n",
    "plt.show()"
   ]
  },
  {
   "cell_type": "code",
   "execution_count": 45,
   "metadata": {},
   "outputs": [],
   "source": [
    "def calcBenefit(cm, benefits):\n",
    "    calc = []\n",
    "    \n",
    "    for i in range(len(cm)):\n",
    "        tn, fp, fn, tp = cm[i].ravel()\n",
    "        calc.append(tp*benefits[\"tp\"] + fn*benefits[\"fn\"] + fp*benefits[\"fp\"] + \n",
    "                    tn*benefits[\"tn\"] + (tp+fp)*benefits[\"action\"])\n",
    "    \n",
    "    return calc        "
   ]
  },
  {
   "cell_type": "code",
   "execution_count": 46,
   "metadata": {},
   "outputs": [
    {
     "data": {
      "text/html": [
       "<div>\n",
       "<style scoped>\n",
       "    .dataframe tbody tr th:only-of-type {\n",
       "        vertical-align: middle;\n",
       "    }\n",
       "\n",
       "    .dataframe tbody tr th {\n",
       "        vertical-align: top;\n",
       "    }\n",
       "\n",
       "    .dataframe thead th {\n",
       "        text-align: right;\n",
       "    }\n",
       "</style>\n",
       "<table border=\"1\" class=\"dataframe\">\n",
       "  <thead>\n",
       "    <tr style=\"text-align: right;\">\n",
       "      <th></th>\n",
       "      <th>Threshold</th>\n",
       "      <th>Benefit</th>\n",
       "    </tr>\n",
       "  </thead>\n",
       "  <tbody>\n",
       "    <tr>\n",
       "      <th>0</th>\n",
       "      <td>0.10</td>\n",
       "      <td>11160</td>\n",
       "    </tr>\n",
       "    <tr>\n",
       "      <th>1</th>\n",
       "      <td>0.25</td>\n",
       "      <td>12660</td>\n",
       "    </tr>\n",
       "    <tr>\n",
       "      <th>2</th>\n",
       "      <td>0.50</td>\n",
       "      <td>12180</td>\n",
       "    </tr>\n",
       "    <tr>\n",
       "      <th>3</th>\n",
       "      <td>0.75</td>\n",
       "      <td>6540</td>\n",
       "    </tr>\n",
       "  </tbody>\n",
       "</table>\n",
       "</div>"
      ],
      "text/plain": [
       "   Threshold  Benefit\n",
       "0       0.10    11160\n",
       "1       0.25    12660\n",
       "2       0.50    12180\n",
       "3       0.75     6540"
      ]
     },
     "execution_count": 46,
     "metadata": {},
     "output_type": "execute_result"
    }
   ],
   "source": [
    "benefit_struct_1 = {\"tp\": 100, \"fn\": -150, \"fp\": -50, \"tn\": 0, \"action\": -10}\n",
    "benefit_1 = pd.DataFrame({\"Threshold\": thresholds, \"Benefit\": calcBenefit(cm, benefit_struct_1)})\n",
    "benefit_1"
   ]
  },
  {
   "cell_type": "code",
   "execution_count": 47,
   "metadata": {},
   "outputs": [
    {
     "data": {
      "text/html": [
       "<div>\n",
       "<style scoped>\n",
       "    .dataframe tbody tr th:only-of-type {\n",
       "        vertical-align: middle;\n",
       "    }\n",
       "\n",
       "    .dataframe tbody tr th {\n",
       "        vertical-align: top;\n",
       "    }\n",
       "\n",
       "    .dataframe thead th {\n",
       "        text-align: right;\n",
       "    }\n",
       "</style>\n",
       "<table border=\"1\" class=\"dataframe\">\n",
       "  <thead>\n",
       "    <tr style=\"text-align: right;\">\n",
       "      <th></th>\n",
       "      <th>Threshold</th>\n",
       "      <th>Benefit</th>\n",
       "    </tr>\n",
       "  </thead>\n",
       "  <tbody>\n",
       "    <tr>\n",
       "      <th>0</th>\n",
       "      <td>0.10</td>\n",
       "      <td>4760</td>\n",
       "    </tr>\n",
       "    <tr>\n",
       "      <th>1</th>\n",
       "      <td>0.25</td>\n",
       "      <td>8760</td>\n",
       "    </tr>\n",
       "    <tr>\n",
       "      <th>2</th>\n",
       "      <td>0.50</td>\n",
       "      <td>8980</td>\n",
       "    </tr>\n",
       "    <tr>\n",
       "      <th>3</th>\n",
       "      <td>0.75</td>\n",
       "      <td>7440</td>\n",
       "    </tr>\n",
       "  </tbody>\n",
       "</table>\n",
       "</div>"
      ],
      "text/plain": [
       "   Threshold  Benefit\n",
       "0       0.10     4760\n",
       "1       0.25     8760\n",
       "2       0.50     8980\n",
       "3       0.75     7440"
      ]
     },
     "execution_count": 47,
     "metadata": {},
     "output_type": "execute_result"
    }
   ],
   "source": [
    "benefit_struct_2 = {\"tp\": 100, \"fn\": -50, \"fp\": -150, \"tn\": 0, \"action\": -10}\n",
    "benefit_2 = pd.DataFrame({\"Threshold\": thresholds, \"Benefit\": calcBenefit(cm, benefit_struct_2)})\n",
    "benefit_2"
   ]
  }
 ],
 "metadata": {
  "kernelspec": {
   "display_name": "Python 3",
   "language": "python",
   "name": "python3"
  },
  "language_info": {
   "codemirror_mode": {
    "name": "ipython",
    "version": 3
   },
   "file_extension": ".py",
   "mimetype": "text/x-python",
   "name": "python",
   "nbconvert_exporter": "python",
   "pygments_lexer": "ipython3",
   "version": "3.8.5"
  }
 },
 "nbformat": 4,
 "nbformat_minor": 4
}
