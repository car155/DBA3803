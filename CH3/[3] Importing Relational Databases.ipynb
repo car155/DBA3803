{
 "cells": [
  {
   "cell_type": "markdown",
   "metadata": {},
   "source": [
    "# Importing Realational Databases\n",
    "\n",
    "- consists of many tables\n",
    "    - tables generally represent one entity type each\n",
    "    - similar to a data frame\n",
    "    - each row must have a unique identifier (aka an identity key) to allow row access\n",
    "- tables are linked \n",
    "    - usually have an attribute that corresponds to another entity\n",
    "    - usually uses the unique identifier\n",
    "    \n",
    "## Creating a Database Engine"
   ]
  },
  {
   "cell_type": "code",
   "execution_count": 5,
   "metadata": {},
   "outputs": [
    {
     "name": "stdout",
     "output_type": "stream",
     "text": [
      "[]\n"
     ]
    }
   ],
   "source": [
    "from sqlalchemy import create_engine\n",
    "\n",
    "# create engine\n",
    "# connection string = type of db :/// name of db (Chinook currently does not exist on this server)\n",
    "engine = create_engine(\"sqlite:///Chinook.sqlite\") \n",
    "\n",
    "# observe the table names\n",
    "table_names = engine.table_names()\n",
    "print(table_names)"
   ]
  },
  {
   "cell_type": "markdown",
   "metadata": {},
   "source": [
    " "
   ]
  },
  {
   "cell_type": "markdown",
   "metadata": {},
   "source": [
    "## Querying Relational Databases\n",
    "\n",
    "### 1. Using sqlalchemy\n",
    "\n",
    "#### 1. Connect to the Engine"
   ]
  },
  {
   "cell_type": "code",
   "execution_count": 6,
   "metadata": {},
   "outputs": [],
   "source": [
    "from sqlalchemy import create_engine\n",
    "import pandas as pd\n",
    "engine = create_engine(\"sqlite:///Chinook.sqlite\") \n",
    "con = engine.connect()"
   ]
  },
  {
   "cell_type": "markdown",
   "metadata": {},
   "source": [
    "Note that connections can also be opened in a context manager, saving the trouble of closing the connection later."
   ]
  },
  {
   "cell_type": "code",
   "execution_count": null,
   "metadata": {},
   "outputs": [],
   "source": [
    "with engine.connect() as con:\n",
    "    ## query"
   ]
  },
  {
   "cell_type": "markdown",
   "metadata": {},
   "source": [
    "#### 2. Query the Database"
   ]
  },
  {
   "cell_type": "raw",
   "metadata": {},
   "source": [
    "# returns all columns from the table Orders as a sqlalchemy results object\n",
    "rs = con.execute(\"SELECT * FROM Orders\")\n",
    "\n",
    "# Artist and OrderDate columns, rows with price condition, orders table, sorted by decreasing CustomerID\n",
    "rs = con.execute(\"SELECT Artist, OrderDate FROM Orders WHERE Price <= 5000 ORDER BY CustomerID DESC) \n",
    "\n",
    "# convert to dataframe\n",
    "df1 = pd.DataFrame(rs.fetchall())\n",
    "df2 = pd.DataFrame(rs.fetchmany(size=5)) # gets first 5 rows\n",
    "\n",
    "# set column names\n",
    "df.columns = rs.keys()"
   ]
  },
  {
   "cell_type": "markdown",
   "metadata": {},
   "source": [
    "#### 3. Close the Connection"
   ]
  },
  {
   "cell_type": "raw",
   "metadata": {},
   "source": [
    "con.close()"
   ]
  },
  {
   "cell_type": "markdown",
   "metadata": {},
   "source": [
    "### 2. Using Pandas\n",
    "\n",
    "#### Query"
   ]
  },
  {
   "cell_type": "raw",
   "metadata": {},
   "source": [
    "from sqlalchemy import create_engine\n",
    "import pandas as pd\n",
    "engine = create_engine(\"sqlite:///Chinook.sqlite\") \n",
    "\n",
    "# Using pandas\n",
    "df = pd.read_sql_query(\"SELECT * FROM Orders\", engine)"
   ]
  },
  {
   "cell_type": "markdown",
   "metadata": {},
   "source": [
    " "
   ]
  },
  {
   "cell_type": "markdown",
   "metadata": {},
   "source": [
    "## Exploiting Table Relationships\n",
    "\n",
    "### Joining Tables"
   ]
  },
  {
   "cell_type": "raw",
   "metadata": {},
   "source": [
    "SELECT OrderID, CompanyName FROM \n",
    "    Orders INNER JOIN Customers ON Orders.CustomerID = Customer.CustomerID"
   ]
  },
  {
   "cell_type": "markdown",
   "metadata": {},
   "source": [
    "- Links the Order table and Customers table using the CustomerID column\n",
    "- Selects OrderID and CompanyName columns\n",
    "- Inner join means that missing values will not be superfluously added"
   ]
  }
 ],
 "metadata": {
  "kernelspec": {
   "display_name": "Python 3",
   "language": "python",
   "name": "python3"
  },
  "language_info": {
   "codemirror_mode": {
    "name": "ipython",
    "version": 3
   },
   "file_extension": ".py",
   "mimetype": "text/x-python",
   "name": "python",
   "nbconvert_exporter": "python",
   "pygments_lexer": "ipython3",
   "version": "3.8.5"
  }
 },
 "nbformat": 4,
 "nbformat_minor": 4
}
