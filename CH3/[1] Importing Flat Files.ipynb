{
 "cells": [
  {
   "cell_type": "markdown",
   "metadata": {},
   "source": [
    "# Importing Flat Files\n",
    "\n",
    "## Plain Text Files\n",
    "\n",
    "- e.g. txt, csv\n",
    "\n",
    "### 1. Importing the whole file"
   ]
  },
  {
   "cell_type": "code",
   "execution_count": 5,
   "metadata": {},
   "outputs": [
    {
     "name": "stdout",
     "output_type": "stream",
     "text": [
      "The quick brown fox jumps over the lazy dog. The lazy dog is unstirred. The fox tries again. And again.\n",
      "\n",
      "And again.\n",
      "\n",
      "Yet, the dog continues to snore gruffly, clear in deep slumber. \n",
      "\n",
      "As he exhales, the air whistled through his nose. This gave the clever fox an idea. The dog's next breath was met with a shrill sound. The dog jolted awake.\n",
      "\n",
      "\"What are you DOING?!\" The dog exclaimed, clearly startled.\n",
      "\n",
      "\"I did nothing\", the fox simply replied. \"It was you.\"\n",
      "\n",
      "The fox pointed at the dog's snout. Sure enough, at the end of his nose, fit snugly in his nostril, was a silver whistle.\n",
      "True\n"
     ]
    }
   ],
   "source": [
    "filename = \"./Data/Txt_Tester.txt\"\n",
    "file = open(filename, mode=\"r\") # \"r\" is to read, \"w\" is to write\n",
    "\n",
    "text = file.read()\n",
    "print(text)\n",
    "\n",
    "# close the connection\n",
    "file.close()\n",
    "print(file.closed)"
   ]
  },
  {
   "cell_type": "markdown",
   "metadata": {},
   "source": [
    "You can avoid having to close the connection each time by using a context manager"
   ]
  },
  {
   "cell_type": "code",
   "execution_count": 6,
   "metadata": {},
   "outputs": [
    {
     "name": "stdout",
     "output_type": "stream",
     "text": [
      "The quick brown fox jumps over the lazy dog. The lazy dog is unstirred. The fox tries again. And again.\n",
      "\n",
      "And again.\n",
      "\n",
      "Yet, the dog continues to snore gruffly, clear in deep slumber. \n",
      "\n",
      "As he exhales, the air whistled through his nose. This gave the clever fox an idea. The dog's next breath was met with a shrill sound. The dog jolted awake.\n",
      "\n",
      "\"What are you DOING?!\" The dog exclaimed, clearly startled.\n",
      "\n",
      "\"I did nothing\", the fox simply replied. \"It was you.\"\n",
      "\n",
      "The fox pointed at the dog's snout. Sure enough, at the end of his nose, fit snugly in his nostril, was a silver whistle.\n"
     ]
    }
   ],
   "source": [
    "# the file is bound to this context and closes automatically when the context is left\n",
    "with open(\"./Data/Txt_Tester.txt\") as file:\n",
    "    print(file.read())"
   ]
  },
  {
   "cell_type": "markdown",
   "metadata": {},
   "source": [
    "### 2. Importing Line by Line"
   ]
  },
  {
   "cell_type": "code",
   "execution_count": 11,
   "metadata": {},
   "outputs": [
    {
     "name": "stdout",
     "output_type": "stream",
     "text": [
      "The quick brown fox jumps over the lazy dog. The lazy dog is unstirred. The fox tries again. And again.\n",
      "\n",
      "\n",
      "\n",
      "And again.\n",
      "\n"
     ]
    }
   ],
   "source": [
    "with open(\"./Data/Txt_tester.txt\") as file:\n",
    "    print(file.readline())\n",
    "    print(file.readline())\n",
    "    print(file.readline())"
   ]
  },
  {
   "cell_type": "markdown",
   "metadata": {},
   "source": [
    "## Flat Files\n",
    "\n",
    "- text files containing records, aka table data, without structured relationships.\n",
    "- fields are often seperated by a delimiter. (e.g. comma seperated values (.csv) are seperated by commas)\n",
    "\n",
    "### 1. Using Numpy\n",
    "\n",
    "- best if all the data are of the same type\n",
    "- especially useful for purely numeric data\n",
    "- essential for other packages (e.g. scikit-learn)"
   ]
  },
  {
   "cell_type": "code",
   "execution_count": 40,
   "metadata": {},
   "outputs": [
    {
     "data": {
      "text/plain": [
       "array([['0', '0', '0', '0'],\n",
       "       ['0', '200', '200', '0'],\n",
       "       ['20', '250', '250', '20'],\n",
       "       ['20', '250', '250', '20'],\n",
       "       ['20', '250', '250', '20'],\n",
       "       ['0', '200', '200', '0'],\n",
       "       ['0', '0', '0', '0']], dtype='<U3')"
      ]
     },
     "execution_count": 40,
     "metadata": {},
     "output_type": "execute_result"
    }
   ],
   "source": [
    "import numpy as np\n",
    "\n",
    "filename = \"./Data/MNIST.txt\"\n",
    "\n",
    "# specify delimiter, \\t is tab\n",
    "# skip header\n",
    "# select relevant columns\n",
    "# set data type\n",
    "data = np.loadtxt(filename, delimiter=\"\\t\", skiprows=1, usecols=np.arange(0,8,2), dtype=str)\n",
    "data"
   ]
  },
  {
   "cell_type": "markdown",
   "metadata": {},
   "source": [
    "How about files with columns of different types? We use **np.genfromtxt** or **np.recfromcsv()** instead."
   ]
  },
  {
   "cell_type": "code",
   "execution_count": 27,
   "metadata": {},
   "outputs": [
    {
     "name": "stdout",
     "output_type": "stream",
     "text": [
      "[('Trisha', 'Wong', 12, 'Female') ('Joe', 'Osman', 30, 'Male')\n",
      " ('Rebecca', 'Tan', 27, 'Female') ('Kai Wen', 'Ong', 18, 'Male')]\n",
      "[('Trisha', 'Wong', 12, 'Female') ('Joe', 'Osman', 30, 'Male')\n",
      " ('Rebecca', 'Tan', 27, 'Female') ('Kai Wen', 'Ong', 18, 'Male')]\n"
     ]
    }
   ],
   "source": [
    "# \\t is tab delimiter\n",
    "# names refers to the presence of headers\n",
    "# dtype=None means that data is not casted into a different type\n",
    "# each element in the array is a row\n",
    "data = np.genfromtxt(\"./Data/people.csv\", delimiter=',', encoding=\"ASCII\", names=True, dtype=None)\n",
    "print(data)\n",
    "\n",
    "# the default delimiter is \",\"\n",
    "# default name=True\n",
    "# default dtype=None\n",
    "data2 = np.recfromcsv(\"./Data/people.csv\", encoding=\"ASCII\")\n",
    "print(data2)"
   ]
  },
  {
   "cell_type": "markdown",
   "metadata": {},
   "source": [
    "## 2. Using Pandas\n",
    "\n",
    "However, numpy does not allow for a 2D labelled data structure. It is also not ideal for values of columns of different types.\n",
    "\n",
    "Pandas, on the other hand, allows for data to be manipulated, sliced, reshaped, grouped, joined and merged. It also allows us to perform statistics, deal with time series, etc. \n",
    "\n",
    "This is because pandas imports flat files as data frames which are better for complex data handling."
   ]
  },
  {
   "cell_type": "code",
   "execution_count": 36,
   "metadata": {},
   "outputs": [
    {
     "data": {
      "text/html": [
       "<div>\n",
       "<style scoped>\n",
       "    .dataframe tbody tr th:only-of-type {\n",
       "        vertical-align: middle;\n",
       "    }\n",
       "\n",
       "    .dataframe tbody tr th {\n",
       "        vertical-align: top;\n",
       "    }\n",
       "\n",
       "    .dataframe thead th {\n",
       "        text-align: right;\n",
       "    }\n",
       "</style>\n",
       "<table border=\"1\" class=\"dataframe\">\n",
       "  <thead>\n",
       "    <tr style=\"text-align: right;\">\n",
       "      <th></th>\n",
       "      <th>First Name</th>\n",
       "      <th>Last Name</th>\n",
       "      <th>Age</th>\n",
       "      <th>Gender</th>\n",
       "    </tr>\n",
       "  </thead>\n",
       "  <tbody>\n",
       "    <tr>\n",
       "      <th>0</th>\n",
       "      <td>Trisha</td>\n",
       "      <td>Wong</td>\n",
       "      <td>12</td>\n",
       "      <td>Female</td>\n",
       "    </tr>\n",
       "    <tr>\n",
       "      <th>1</th>\n",
       "      <td>Joe</td>\n",
       "      <td>Osman</td>\n",
       "      <td>30</td>\n",
       "      <td>Male</td>\n",
       "    </tr>\n",
       "    <tr>\n",
       "      <th>2</th>\n",
       "      <td>Rebecca</td>\n",
       "      <td>Tan</td>\n",
       "      <td>27</td>\n",
       "      <td>Female</td>\n",
       "    </tr>\n",
       "    <tr>\n",
       "      <th>3</th>\n",
       "      <td>Kai Wen</td>\n",
       "      <td>Ong</td>\n",
       "      <td>18</td>\n",
       "      <td>Male</td>\n",
       "    </tr>\n",
       "  </tbody>\n",
       "</table>\n",
       "</div>"
      ],
      "text/plain": [
       "  First Name Last Name  Age  Gender\n",
       "0     Trisha      Wong   12  Female\n",
       "1        Joe     Osman   30    Male\n",
       "2    Rebecca       Tan   27  Female\n",
       "3    Kai Wen       Ong   18    Male"
      ]
     },
     "execution_count": 36,
     "metadata": {},
     "output_type": "execute_result"
    }
   ],
   "source": [
    "import pandas as pd\n",
    "\n",
    "filename = \"./Data/people.csv\"\n",
    "data = pd.read_csv(filename)\n",
    "data"
   ]
  },
  {
   "cell_type": "code",
   "execution_count": 38,
   "metadata": {},
   "outputs": [
    {
     "data": {
      "text/html": [
       "<div>\n",
       "<style scoped>\n",
       "    .dataframe tbody tr th:only-of-type {\n",
       "        vertical-align: middle;\n",
       "    }\n",
       "\n",
       "    .dataframe tbody tr th {\n",
       "        vertical-align: top;\n",
       "    }\n",
       "\n",
       "    .dataframe thead th {\n",
       "        text-align: right;\n",
       "    }\n",
       "</style>\n",
       "<table border=\"1\" class=\"dataframe\">\n",
       "  <thead>\n",
       "    <tr style=\"text-align: right;\">\n",
       "      <th></th>\n",
       "      <th>0</th>\n",
       "      <th>1</th>\n",
       "      <th>2</th>\n",
       "      <th>3</th>\n",
       "      <th>4</th>\n",
       "      <th>5</th>\n",
       "      <th>6</th>\n",
       "    </tr>\n",
       "  </thead>\n",
       "  <tbody>\n",
       "    <tr>\n",
       "      <th>0</th>\n",
       "      <td>0</td>\n",
       "      <td>0</td>\n",
       "      <td>10.0</td>\n",
       "      <td>20</td>\n",
       "      <td>NaN</td>\n",
       "      <td>0.0</td>\n",
       "      <td>0</td>\n",
       "    </tr>\n",
       "    <tr>\n",
       "      <th>1</th>\n",
       "      <td>0</td>\n",
       "      <td>10</td>\n",
       "      <td>NaN</td>\n",
       "      <td>70</td>\n",
       "      <td>20.0</td>\n",
       "      <td>10.0</td>\n",
       "      <td>0</td>\n",
       "    </tr>\n",
       "    <tr>\n",
       "      <th>2</th>\n",
       "      <td>10</td>\n",
       "      <td>20</td>\n",
       "      <td>70.0</td>\n",
       "      <td>200</td>\n",
       "      <td>70.0</td>\n",
       "      <td>NaN</td>\n",
       "      <td>10</td>\n",
       "    </tr>\n",
       "    <tr>\n",
       "      <th>3</th>\n",
       "      <td>20</td>\n",
       "      <td>70</td>\n",
       "      <td>200.0</td>\n",
       "      <td>256</td>\n",
       "      <td>200.0</td>\n",
       "      <td>70.0</td>\n",
       "      <td>20</td>\n",
       "    </tr>\n",
       "  </tbody>\n",
       "</table>\n",
       "</div>"
      ],
      "text/plain": [
       "    0   1      2    3      4     5   6\n",
       "0   0   0   10.0   20    NaN   0.0   0\n",
       "1   0  10    NaN   70   20.0  10.0   0\n",
       "2  10  20   70.0  200   70.0   NaN  10\n",
       "3  20  70  200.0  256  200.0  70.0  20"
      ]
     },
     "execution_count": 38,
     "metadata": {},
     "output_type": "execute_result"
    }
   ],
   "source": [
    "# \",\" delimited, comments after \"#\", first 4 rows, no headers, reads \"Nothing\" as NA\n",
    "filename = \"./Data/MNIST2.csv\"\n",
    "data = pd.read_csv(filename, sep=\",\", comment=\"#\", nrows=4, header=None, na_values=\"Nothing\")\n",
    "data"
   ]
  },
  {
   "cell_type": "markdown",
   "metadata": {},
   "source": [
    "We can also convert the dataframe to a numpy array."
   ]
  },
  {
   "cell_type": "code",
   "execution_count": 32,
   "metadata": {},
   "outputs": [
    {
     "data": {
      "text/plain": [
       "array([['Trisha', 'Wong', 12, 'Female'],\n",
       "       ['Joe', 'Osman', 30, 'Male'],\n",
       "       ['Rebecca', 'Tan', 27, 'Female'],\n",
       "       ['Kai Wen', 'Ong', 18, 'Male']], dtype=object)"
      ]
     },
     "execution_count": 32,
     "metadata": {},
     "output_type": "execute_result"
    }
   ],
   "source": [
    "data_array = data.values\n",
    "data_array"
   ]
  }
 ],
 "metadata": {
  "kernelspec": {
   "display_name": "Python 3",
   "language": "python",
   "name": "python3"
  },
  "language_info": {
   "codemirror_mode": {
    "name": "ipython",
    "version": 3
   },
   "file_extension": ".py",
   "mimetype": "text/x-python",
   "name": "python",
   "nbconvert_exporter": "python",
   "pygments_lexer": "ipython3",
   "version": "3.8.5"
  }
 },
 "nbformat": 4,
 "nbformat_minor": 4
}
